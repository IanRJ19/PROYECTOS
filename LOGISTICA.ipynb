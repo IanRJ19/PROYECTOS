{
 "cells": [
  {
   "attachments": {},
   "cell_type": "markdown",
   "metadata": {},
   "source": [
    "### **ARTICULOS**"
   ]
  },
  {
   "cell_type": "code",
   "execution_count": 4,
   "metadata": {},
   "outputs": [
    {
     "data": {
      "text/plain": [
       "{'spreadsheetId': '16vUo6Q5csaAIMli4TbsKZxgSvfioc1nlRFm_3fZ-Cis',\n",
       " 'updatedRange': \"'articulos 28.11'!A1:G24566\",\n",
       " 'updatedRows': 24566,\n",
       " 'updatedColumns': 7,\n",
       " 'updatedCells': 171962}"
      ]
     },
     "execution_count": 4,
     "metadata": {},
     "output_type": "execute_result"
    }
   ],
   "source": [
    "#TRABAJO EXCEL ARTICULOS\n",
    "from xlsx2csv import Xlsx2csv\n",
    "from io import StringIO\n",
    "import pandas as pd\n",
    "path=r\"H:\\Mi unidad\\TRABAJO\\PROCESOS_AUTOMATICOS\\Script_Logistica\\ReporteArticulos 2022.12.13.xlsx\"\n",
    "def read_excel(path: str, sheet_name: str) -> pd.DataFrame:\n",
    "    buffer = StringIO()\n",
    "    Xlsx2csv(path, outputencoding=\"utf-8\", sheet_name=sheet_name).convert(buffer)\n",
    "    buffer.seek(0)\n",
    "    agentes = pd.read_csv(buffer)\n",
    "    return agentes\n",
    "articulos=read_excel(path,\"Hoja 1\")\n",
    "cabeza = articulos.iloc[0]\n",
    "articulos = articulos[1:]\n",
    "articulos.columns = cabeza\n",
    "articulos[\"MODELO\"]=articulos[\"ARTÍCULO\"].str[0:6]\n",
    "lista = [\"AXIUM\",\"APOS A\",\"APOS M\",\"APOS D\",\"ICT220\",\"ICT250\"]\n",
    "condicion = articulos[\"MODELO\"].isin(lista)\n",
    "articulos=articulos[condicion]\n",
    "articulos=articulos.drop_duplicates(subset='NUMERO SERIE')\n",
    "\n",
    "\n",
    "#INSERTANDO DATOS DE ARTICULOS AL GS\n",
    "import pandas as pd \n",
    "import gspread\n",
    "from oauth2client.service_account import ServiceAccountCredentials\n",
    "gc = gspread.service_account(filename=\"H:\\Mi unidad\\LLAVES\\ActivarGoogleSheetIan.json\")\n",
    "gsheet = gc.open_by_url(\"https://docs.google.com/spreadsheets/d/16vUo6Q5csaAIMli4TbsKZxgSvfioc1nlRFm_3fZ-Cis\")\n",
    "wsheet = gsheet.worksheet(\"articulos 28.11\")\n",
    "wsheet.update([articulos.columns.values.tolist()]+articulos.values.tolist())"
   ]
  },
  {
   "attachments": {},
   "cell_type": "markdown",
   "metadata": {},
   "source": [
    "### **TERMINALES-ENVIADO**"
   ]
  },
  {
   "cell_type": "code",
   "execution_count": 5,
   "metadata": {},
   "outputs": [
    {
     "data": {
      "text/plain": [
       "{'spreadsheetId': '16vUo6Q5csaAIMli4TbsKZxgSvfioc1nlRFm_3fZ-Cis',\n",
       " 'updatedRange': \"'Enviado 28.11'!A1:G1\",\n",
       " 'updatedRows': 1,\n",
       " 'updatedColumns': 7,\n",
       " 'updatedCells': 7}"
      ]
     },
     "execution_count": 5,
     "metadata": {},
     "output_type": "execute_result"
    }
   ],
   "source": [
    "#TRABAJO EXCEL TERMINALES\n",
    "from xlsx2csv import Xlsx2csv\n",
    "from io import StringIO\n",
    "import pandas as pd\n",
    "path=r\"H:\\Mi unidad\\TRABAJO\\PROCESOS_AUTOMATICOS\\Script_Logistica\\ReporteTerminales 2022.12.13.xlsx\"\n",
    "def read_excel(path: str, sheet_name: str) -> pd.DataFrame:\n",
    "    buffer = StringIO()\n",
    "    Xlsx2csv(path, outputencoding=\"utf-8\", sheet_name=sheet_name).convert(buffer)\n",
    "    buffer.seek(0)\n",
    "    agentes = pd.read_csv(buffer)\n",
    "    return agentes\n",
    "terminales=read_excel(path,\"Hoja 1\")\n",
    "cabeza = terminales.iloc[0]\n",
    "terminales = terminales[1:]\n",
    "terminales.columns = cabeza\n",
    "terminales[\"x\"]=terminales[\"ARTÍCULO\"].str[0:6]\n",
    "lista = [\"AXIUM\",\"APOS A\",\"APOS M\",\"APOS D\",\"ICT220\",\"ICT250\"]\n",
    "condicion = terminales[\"x\"].isin(lista)\n",
    "terminales=terminales[condicion]\n",
    "lista2 = [\"Creado\",\"Enviada\"]\n",
    "condicion2 = terminales[\"ESTADO\"].isin(lista2)\n",
    "terminales=terminales[condicion2]\n",
    "terminales2=terminales\n",
    "terminales=terminales[[\"ARTÍCULO\",\"NÚMERO SERIE\",\"CANTIDAD\",\"ESTADO\",\"ACTUALIZADO\",\"TIPO\",\"TERMINAL/DNI/RUC\"]]\n",
    "terminales = terminales.fillna('')\n",
    "terminales = terminales.drop_duplicates(subset=\"NÚMERO SERIE\")\n",
    "\n",
    "#INSERTANDO DATOS EN GS ENVIADOS\n",
    "\n",
    "import pandas as pd \n",
    "import gspread\n",
    "from oauth2client.service_account import ServiceAccountCredentials\n",
    "gc = gspread.service_account(filename=\"H:\\Mi unidad\\LLAVES\\ActivarGoogleSheetIan.json\")\n",
    "gsheet = gc.open_by_url(\"https://docs.google.com/spreadsheets/d/16vUo6Q5csaAIMli4TbsKZxgSvfioc1nlRFm_3fZ-Cis\")\n",
    "wsheet = gsheet.worksheet(\"Enviado 28.11\")\n",
    "wsheet.update([terminales.columns.values.tolist()]+terminales.values.tolist())\n"
   ]
  },
  {
   "attachments": {},
   "cell_type": "markdown",
   "metadata": {},
   "source": [
    "### **TERMINALES - TERMINALES**\n"
   ]
  },
  {
   "cell_type": "code",
   "execution_count": 6,
   "metadata": {},
   "outputs": [
    {
     "data": {
      "text/plain": [
       "{'spreadsheetId': '1JYaYF64CIkWeyS3rpxmTN15WNae5yS0oPHIaXLUi21M',\n",
       " 'updatedRange': \"'Terminales 02.12'!A1:H1\",\n",
       " 'updatedRows': 1,\n",
       " 'updatedColumns': 8,\n",
       " 'updatedCells': 8}"
      ]
     },
     "execution_count": 6,
     "metadata": {},
     "output_type": "execute_result"
    }
   ],
   "source": [
    "#TRABAJO EXCEL TERMINALES\n",
    "lista3 = [\"DNI\", \"Terminales\"]\n",
    "condicion3=terminales2[\"TIPO\"].isin(lista3)\n",
    "terminales2 =terminales2[condicion3]\n",
    "terminales2=terminales2[terminales2[\"TERMINAL/DNI/RUC\"].notnull()]\n",
    "terminales2=terminales2[['TIPO','TERMINAL/DNI/RUC','AGENTE/EJECUTIVO','UBICACIÓN','ESTADO_TERMINAL','FECHA_ACTUALIZACION_TERMINAL','Estado Personal','FECHA ACTUALIZACION PERSONAL']]\n",
    "terminales2 = terminales2.fillna('')\n",
    "terminales2 = terminales2.drop_duplicates(subset='TERMINAL/DNI/RUC')\n",
    "\n",
    "#INSERTANDO DATOS EN GS TERMINALES\n",
    "import pandas as pd \n",
    "import gspread\n",
    "from oauth2client.service_account import ServiceAccountCredentials\n",
    "gc = gspread.service_account(filename=\"H:\\Mi unidad\\LLAVES\\ActivarGoogleSheetIan.json\")\n",
    "gsheet = gc.open_by_url(\"https://docs.google.com/spreadsheets/d/1JYaYF64CIkWeyS3rpxmTN15WNae5yS0oPHIaXLUi21M\")\n",
    "wsheet = gsheet.worksheet(\"Terminales 02.12\")\n",
    "wsheet.update([terminales2.columns.values.tolist()]+terminales2.values.tolist())\n"
   ]
  },
  {
   "cell_type": "markdown",
   "metadata": {},
   "source": [
    "### **TABLA RESUMEN**"
   ]
  },
  {
   "cell_type": "code",
   "execution_count": 2,
   "metadata": {},
   "outputs": [],
   "source": [
    "#AGREGAR PESTAÑA\n",
    "import pandas as pd\n",
    "import gspread\n",
    "from oauth2client.service_account import ServiceAccountCredentials\n",
    "\n",
    "gc = gspread.service_account(filename=\"H:\\Mi unidad\\LLAVES\\ActivarGoogleSheetIan.json\")\n",
    "gsheet = gc.open_by_url(\"https://docs.google.com/spreadsheets/d/1JYaYF64CIkWeyS3rpxmTN15WNae5yS0oPHIaXLUi21M\")\n",
    "\n",
    "#CREAMOS LA PESTAÑA DEL RESUMEN\n",
    "#gsheet.add_worksheet(rows=20,cols=20,title='FINAL')\n",
    "\n",
    "pestaña = gsheet.worksheet(\"BD\").get_all_records()\n",
    "Base= pd.DataFrame(pestaña)\n",
    "\n",
    "# INSTAURAMOS EL CONTROLADOR DE PESTAÑA\n",
    "wsheet = gsheet.worksheet(\"FINAL\")"
   ]
  },
  {
   "attachments": {},
   "cell_type": "markdown",
   "metadata": {},
   "source": [
    "### **OBTENCIÓN DE DATOS DE TABLA**"
   ]
  },
  {
   "cell_type": "code",
   "execution_count": 3,
   "metadata": {},
   "outputs": [
    {
     "ename": "ValueError",
     "evalue": "Length mismatch: Expected axis has 3 elements, new values have 2 elements",
     "output_type": "error",
     "traceback": [
      "\u001b[1;31m---------------------------------------------------------------------------\u001b[0m",
      "\u001b[1;31mValueError\u001b[0m                                Traceback (most recent call last)",
      "Cell \u001b[1;32mIn [3], line 31\u001b[0m\n\u001b[0;32m     29\u001b[0m DF_POS_INICIAL\u001b[39m=\u001b[39mDF_POS_INICIAL\u001b[39m.\u001b[39mdrop([\u001b[39m\"\u001b[39m\u001b[39mMODELO\u001b[39m\u001b[39m\"\u001b[39m,\u001b[39m\"\u001b[39m\u001b[39mDespachado\u001b[39m\u001b[39m\"\u001b[39m,\u001b[39m\"\u001b[39m\u001b[39mDisponible\u001b[39m\u001b[39m\"\u001b[39m,\u001b[39m\"\u001b[39m\u001b[39mAsignado\u001b[39m\u001b[39m\"\u001b[39m,\u001b[39m'\u001b[39m\u001b[39mBloqueado\u001b[39m\u001b[39m'\u001b[39m, \u001b[39m'\u001b[39m\u001b[39mDe baja\u001b[39m\u001b[39m'\u001b[39m, \u001b[39m'\u001b[39m\u001b[39mEn mantenimiento\u001b[39m\u001b[39m'\u001b[39m, \u001b[39m'\u001b[39m\u001b[39mMalogrado\u001b[39m\u001b[39m'\u001b[39m, \u001b[39m'\u001b[39m\u001b[39mPor Ubicar\u001b[39m\u001b[39m'\u001b[39m], axis\u001b[39m=\u001b[39m\u001b[39m1\u001b[39m)\n\u001b[0;32m     30\u001b[0m DF_POS_INICIAL\u001b[39m=\u001b[39mDF_POS_INICIAL\u001b[39m.\u001b[39mreset_index()\n\u001b[1;32m---> 31\u001b[0m DF_POS_INICIAL\u001b[39m.\u001b[39;49mcolumns\u001b[39m=\u001b[39m[\u001b[39m\"\u001b[39m\u001b[39mDESCRIPCIÓN\u001b[39m\u001b[39m\"\u001b[39m,\u001b[39m\"\u001b[39m\u001b[39mCANTIDAD\u001b[39m\u001b[39m\"\u001b[39m]\n\u001b[0;32m     32\u001b[0m DF_POS_INICIAL\u001b[39m=\u001b[39mDF_POS_INICIAL\u001b[39m.\u001b[39mreplace(\u001b[39m\"\u001b[39m\u001b[39mAll\u001b[39m\u001b[39m\"\u001b[39m, \u001b[39m\"\u001b[39m\u001b[39mPOS INICIAL\u001b[39m\u001b[39m\"\u001b[39m)\n\u001b[0;32m     34\u001b[0m \u001b[39m#TOTALES POR ESTADO SG\u001b[39;00m\n",
      "File \u001b[1;32mc:\\Users\\Rayzek\\AppData\\Local\\Programs\\Python\\Python310\\lib\\site-packages\\pandas\\core\\generic.py:5588\u001b[0m, in \u001b[0;36mNDFrame.__setattr__\u001b[1;34m(self, name, value)\u001b[0m\n\u001b[0;32m   5586\u001b[0m \u001b[39mtry\u001b[39;00m:\n\u001b[0;32m   5587\u001b[0m     \u001b[39mobject\u001b[39m\u001b[39m.\u001b[39m\u001b[39m__getattribute__\u001b[39m(\u001b[39mself\u001b[39m, name)\n\u001b[1;32m-> 5588\u001b[0m     \u001b[39mreturn\u001b[39;00m \u001b[39mobject\u001b[39;49m\u001b[39m.\u001b[39;49m\u001b[39m__setattr__\u001b[39;49m(\u001b[39mself\u001b[39;49m, name, value)\n\u001b[0;32m   5589\u001b[0m \u001b[39mexcept\u001b[39;00m \u001b[39mAttributeError\u001b[39;00m:\n\u001b[0;32m   5590\u001b[0m     \u001b[39mpass\u001b[39;00m\n",
      "File \u001b[1;32mc:\\Users\\Rayzek\\AppData\\Local\\Programs\\Python\\Python310\\lib\\site-packages\\pandas\\_libs\\properties.pyx:70\u001b[0m, in \u001b[0;36mpandas._libs.properties.AxisProperty.__set__\u001b[1;34m()\u001b[0m\n",
      "File \u001b[1;32mc:\\Users\\Rayzek\\AppData\\Local\\Programs\\Python\\Python310\\lib\\site-packages\\pandas\\core\\generic.py:769\u001b[0m, in \u001b[0;36mNDFrame._set_axis\u001b[1;34m(self, axis, labels)\u001b[0m\n\u001b[0;32m    767\u001b[0m \u001b[39mdef\u001b[39;00m \u001b[39m_set_axis\u001b[39m(\u001b[39mself\u001b[39m, axis: \u001b[39mint\u001b[39m, labels: Index) \u001b[39m-\u001b[39m\u001b[39m>\u001b[39m \u001b[39mNone\u001b[39;00m:\n\u001b[0;32m    768\u001b[0m     labels \u001b[39m=\u001b[39m ensure_index(labels)\n\u001b[1;32m--> 769\u001b[0m     \u001b[39mself\u001b[39;49m\u001b[39m.\u001b[39;49m_mgr\u001b[39m.\u001b[39;49mset_axis(axis, labels)\n\u001b[0;32m    770\u001b[0m     \u001b[39mself\u001b[39m\u001b[39m.\u001b[39m_clear_item_cache()\n",
      "File \u001b[1;32mc:\\Users\\Rayzek\\AppData\\Local\\Programs\\Python\\Python310\\lib\\site-packages\\pandas\\core\\internals\\managers.py:214\u001b[0m, in \u001b[0;36mBaseBlockManager.set_axis\u001b[1;34m(self, axis, new_labels)\u001b[0m\n\u001b[0;32m    212\u001b[0m \u001b[39mdef\u001b[39;00m \u001b[39mset_axis\u001b[39m(\u001b[39mself\u001b[39m, axis: \u001b[39mint\u001b[39m, new_labels: Index) \u001b[39m-\u001b[39m\u001b[39m>\u001b[39m \u001b[39mNone\u001b[39;00m:\n\u001b[0;32m    213\u001b[0m     \u001b[39m# Caller is responsible for ensuring we have an Index object.\u001b[39;00m\n\u001b[1;32m--> 214\u001b[0m     \u001b[39mself\u001b[39;49m\u001b[39m.\u001b[39;49m_validate_set_axis(axis, new_labels)\n\u001b[0;32m    215\u001b[0m     \u001b[39mself\u001b[39m\u001b[39m.\u001b[39maxes[axis] \u001b[39m=\u001b[39m new_labels\n",
      "File \u001b[1;32mc:\\Users\\Rayzek\\AppData\\Local\\Programs\\Python\\Python310\\lib\\site-packages\\pandas\\core\\internals\\base.py:69\u001b[0m, in \u001b[0;36mDataManager._validate_set_axis\u001b[1;34m(self, axis, new_labels)\u001b[0m\n\u001b[0;32m     66\u001b[0m     \u001b[39mpass\u001b[39;00m\n\u001b[0;32m     68\u001b[0m \u001b[39melif\u001b[39;00m new_len \u001b[39m!=\u001b[39m old_len:\n\u001b[1;32m---> 69\u001b[0m     \u001b[39mraise\u001b[39;00m \u001b[39mValueError\u001b[39;00m(\n\u001b[0;32m     70\u001b[0m         \u001b[39mf\u001b[39m\u001b[39m\"\u001b[39m\u001b[39mLength mismatch: Expected axis has \u001b[39m\u001b[39m{\u001b[39;00mold_len\u001b[39m}\u001b[39;00m\u001b[39m elements, new \u001b[39m\u001b[39m\"\u001b[39m\n\u001b[0;32m     71\u001b[0m         \u001b[39mf\u001b[39m\u001b[39m\"\u001b[39m\u001b[39mvalues have \u001b[39m\u001b[39m{\u001b[39;00mnew_len\u001b[39m}\u001b[39;00m\u001b[39m elements\u001b[39m\u001b[39m\"\u001b[39m\n\u001b[0;32m     72\u001b[0m     )\n",
      "\u001b[1;31mValueError\u001b[0m: Length mismatch: Expected axis has 3 elements, new values have 2 elements"
     ]
    }
   ],
   "source": [
    "#PIVOT CON NUMERO DE SERIE POR CADA ESTADO SG\n",
    "df1=Base.pivot_table(values='NUMERO SERIE', index=[\"OC\",'MODELO'], columns=\"ESTADO SG\", aggfunc=\"count\",fill_value=0, margins=True)\n",
    "df1=df1.reset_index()\n",
    "\n",
    "#ASIGNANDO DATA\n",
    "DF_POS_DISPONIBLE=df1[[\"MODELO\",\"Disponible\"]]\n",
    "DF_TOTAL_SG=df1\n",
    "DF_POS_INICIAL=df1\n",
    "DF_ASIGNADOS_CLIENTES=Base[Base[\"Tipo\"].isin([\"RUC(Empresa)\", \"RUC(Entidad Financiera)\"])]\n",
    "DF_ASIGNADOS_PERSONAL=Base[Base[\"Tipo\"]==\"DNI\"]\n",
    "DF_INSTALADOS_1=Base[(Base[\"Estado terminal\"]==\"Instalado\") & (Base[\"ESTADO SG\"].isin([\"Despachado\",\"Asignado\"]))]\n",
    "DF_ESTADO_BYS=Base.pivot_table(values='NUMERO SERIE', index=[\"OC\",'MODELO'], aggfunc=\"count\",columns=\"Estado terminal\",fill_value=0, margins=True)\n",
    "DF_ESTADO_DEBAJA=Base[Base[\"MODELO\"].isin([\"ICT 220\", \"ICT 250\",\"APOS\"])]\n",
    "\n",
    "\n",
    "#POS FINAL DISPONIBLES\n",
    "DF_POS_DISPONIBLE=DF_POS_DISPONIBLE.replace(['ICT 220','ICT 250'], \"POS final (disponible) ICT\")\n",
    "DF_POS_DISPONIBLE=DF_POS_DISPONIBLE.replace(['APOS'], \"POS final (disponible) APOS\")\n",
    "DF_POS_DISPONIBLE=DF_POS_DISPONIBLE.replace(['DX8000'], \"POS final (disponible) DX8000\")\n",
    "DF_POS_DISPONIBLE=DF_POS_DISPONIBLE.groupby([\"MODELO\"])[\"Disponible\"].sum()\n",
    "DF_POS_DISPONIBLE=DF_POS_DISPONIBLE.reset_index()\n",
    "DF_POS_DISPONIBLE=DF_POS_DISPONIBLE.drop(DF_POS_DISPONIBLE.index[0])\n",
    "DF_POS_DISPONIBLE.columns=[\"DESCRIPCIÓN\",\"CANTIDAD\"]\n",
    "\n",
    "#POS INICIAL\n",
    "DF_POS_INICIAL=df1\n",
    "DF_POS_INICIAL=DF_POS_INICIAL.set_index(\"OC\")\n",
    "DF_POS_INICIAL=DF_POS_INICIAL.loc[\"All\":]\n",
    "DF_POS_INICIAL=DF_POS_INICIAL.drop([\"MODELO\",\"Despachado\",\"Disponible\",\"Asignado\",'Bloqueado', 'De baja', 'En mantenimiento', 'Malogrado', 'Por Ubicar'], axis=1)\n",
    "DF_POS_INICIAL=DF_POS_INICIAL.reset_index()\n",
    "DF_POS_INICIAL.columns=[\"DESCRIPCIÓN\",\"CANTIDAD\"]\n",
    "DF_POS_INICIAL=DF_POS_INICIAL.replace(\"All\", \"POS INICIAL\")\n",
    "\n",
    "#TOTALES POR ESTADO SG\n",
    "DF_TOTAL_SG=DF_TOTAL_SG.set_index(\"OC\")\n",
    "DF_TOTAL_SG=DF_TOTAL_SG.loc[\"All\":]\n",
    "DF_TOTAL_SG=DF_TOTAL_SG.reset_index()\n",
    "DF_TOTAL_SG=DF_TOTAL_SG.drop([\"All\",\"OC\",\"MODELO\",\"Despachado\",\"Disponible\",\"Asignado\"], axis=1)\n",
    "DF_TOTAL_SG=DF_TOTAL_SG.transpose()\n",
    "DF_TOTAL_SG=DF_TOTAL_SG.reset_index()\n",
    "DF_TOTAL_SG.columns=[\"DESCRIPCIÓN\",\"CANTIDAD\"]\n",
    "DF_TOTAL_SG=DF_TOTAL_SG.replace('Bloqueado', \"Irreparables\")\n",
    "DF_TOTAL_SG=DF_TOTAL_SG.replace('De baja', \"De baja (Venta/Robo)\")\n",
    "\n",
    "#POS Asignado a Empresas\n",
    "DF_ASIGNADOS_CLIENTES=DF_ASIGNADOS_CLIENTES.pivot_table(values='NUMERO SERIE', index=[\"OC\",'MODELO'], aggfunc=\"count\",fill_value=0, margins=True)\n",
    "DF_ASIGNADOS_CLIENTES=DF_ASIGNADOS_CLIENTES.reset_index()\n",
    "DF_ASIGNADOS_CLIENTES=DF_ASIGNADOS_CLIENTES[9:]\n",
    "DF_ASIGNADOS_CLIENTES=DF_ASIGNADOS_CLIENTES.drop(['OC', 'MODELO'],axis=1 )\n",
    "DF_ASIGNADOS_CLIENTES=DF_ASIGNADOS_CLIENTES.transpose()\n",
    "DF_ASIGNADOS_CLIENTES=DF_ASIGNADOS_CLIENTES.reset_index()\n",
    "DF_ASIGNADOS_CLIENTES.columns=[\"DESCRIPCIÓN\",\"CANTIDAD\"]\n",
    "DF_ASIGNADOS_CLIENTES=DF_ASIGNADOS_CLIENTES.replace('NUMERO SERIE', \"Asignados a Clientes\")\n",
    "\n",
    "#POS Asignado a Personal Activo y Cesado\n",
    "DF_ASIGNADOS_PERSONAL=DF_ASIGNADOS_PERSONAL.pivot_table(values='NUMERO SERIE', index=[\"OC\",'MODELO'], aggfunc=\"count\",columns=\"tipo DNI\",fill_value=0, margins=True)\n",
    "DF_ASIGNADOS_PERSONAL=DF_ASIGNADOS_PERSONAL.reset_index()\n",
    "DF_ASIGNADOS_PERSONAL=DF_ASIGNADOS_PERSONAL[13:]\n",
    "DF_ASIGNADOS_PERSONAL=DF_ASIGNADOS_PERSONAL.transpose()\n",
    "DF_ASIGNADOS_PERSONAL=DF_ASIGNADOS_PERSONAL.reset_index()\n",
    "DF_ASIGNADOS_PERSONAL=DF_ASIGNADOS_PERSONAL[3:5]\n",
    "DF_ASIGNADOS_PERSONAL.columns=[\"DESCRIPCIÓN\",\"CANTIDAD\"]\n",
    "DF_ASIGNADOS_PERSONAL=DF_ASIGNADOS_PERSONAL.replace('Activo', \"Asignados al Personal\")\n",
    "DF_ASIGNADOS_PERSONAL=DF_ASIGNADOS_PERSONAL.replace('Cesado', \"Asignados al Personal Cesado\")\n",
    "\n",
    "#Instalados AKN (1) y (+2)\n",
    "DF_INSTALADOS_1=DF_INSTALADOS_1.pivot_table(values='NUMERO SERIE', index=[\"OC\",'MODELO'], aggfunc=\"count\",columns=\"x\",fill_value=0, margins=True)\n",
    "DF_INSTALADOS_2=DF_INSTALADOS_1\n",
    "DF_INSTALADOS_1=DF_INSTALADOS_1.reset_index()\n",
    "DF_INSTALADOS_1=DF_INSTALADOS_1.replace('ICT 220', \"Instalados AKN (1) ICT\")\n",
    "DF_INSTALADOS_1=DF_INSTALADOS_1.replace('ICT 250', \"Instalados AKN (1) ICT\")\n",
    "DF_INSTALADOS_1=DF_INSTALADOS_1.replace('APOS', \"Instalados AKN (1) APOS\")\n",
    "DF_INSTALADOS_1=DF_INSTALADOS_1.groupby(\"MODELO\").sum()\n",
    "DF_INSTALADOS_1=DF_INSTALADOS_1.reset_index()\n",
    "DF_INSTALADOS_1=DF_INSTALADOS_1.drop(0, axis=0)\n",
    "DF_INSTALADOS_1=DF_INSTALADOS_1.drop([2,3,\"All\"], axis=1)\n",
    "DF_INSTALADOS_1.columns=[\"DESCRIPCIÓN\",\"CANTIDAD\"]\n",
    "\n",
    "\n",
    "DF_INSTALADOS_2[\"SUMA\"]=DF_INSTALADOS_2[2]+DF_INSTALADOS_2[3]\n",
    "DF_INSTALADOS_2=DF_INSTALADOS_2.reset_index()\n",
    "DF_INSTALADOS_2=DF_INSTALADOS_2.drop([\"All\",1,2,3], axis=1)\n",
    "DF_INSTALADOS_2=DF_INSTALADOS_2.replace('ICT 250', \"Instalados AKN (+1)\")\n",
    "DF_INSTALADOS_2=DF_INSTALADOS_2.replace('ICT 220', \"Instalados AKN (+1)\")\n",
    "DF_INSTALADOS_2=DF_INSTALADOS_2.replace('APOS', \"Instalados AKN (+1)\")\n",
    "DF_INSTALADOS_2=DF_INSTALADOS_2.groupby(\"MODELO\").sum()\n",
    "DF_INSTALADOS_2=DF_INSTALADOS_2.reset_index()\n",
    "DF_INSTALADOS_2=DF_INSTALADOS_2.drop(0, axis=0)\n",
    "DF_INSTALADOS_2.columns=[\"DESCRIPCIÓN\",\"CANTIDAD\"]\n",
    "\n",
    "\n",
    "#POS PRE AGENTE Y SUSPENDIDOS\n",
    "DF_ESTADO_BYS=DF_ESTADO_BYS.reset_index()\n",
    "DF_ESTADO_BYS=DF_ESTADO_BYS.set_index(\"OC\")\n",
    "DF_ESTADO_BYS=DF_ESTADO_BYS.loc[\"All\":]\n",
    "DF_ESTADO_BYS=DF_ESTADO_BYS.reset_index()\n",
    "DF_ESTADO_BYS=DF_ESTADO_BYS.drop(['OC', 'MODELO', '', '-', 'Baja', 'Instalado', 'All'], axis=1)\n",
    "DF_ESTADO_BYS=DF_ESTADO_BYS.transpose()\n",
    "DF_ESTADO_BYS=DF_ESTADO_BYS.reset_index()\n",
    "DF_ESTADO_BYS=DF_ESTADO_BYS.replace('Pre Agente', \"Instalados AKN preagente\")\n",
    "DF_ESTADO_BYS=DF_ESTADO_BYS.replace('Suspendido', \"AKN suspendidos\")\n",
    "DF_ESTADO_BYS.columns=[\"DESCRIPCIÓN\",\"CANTIDAD\"]\n",
    "print(DF_ESTADO_BYS)\n",
    "\n",
    "#POS DE BAJA AKN\n",
    "DF_ESTADO_DEBAJA=DF_ESTADO_DEBAJA.pivot_table(values='NUMERO SERIE', index=[\"OC\",'MODELO'], aggfunc=\"count\",columns=\"Estado terminal\",fill_value=0, margins=True)\n",
    "DF_ESTADO_DEBAJA=DF_ESTADO_DEBAJA.reset_index()\n",
    "DF_ESTADO_DEBAJA=DF_ESTADO_DEBAJA.replace(\"ICT 220\", \"Por recuperar AKN de baja ICT\")\n",
    "DF_ESTADO_DEBAJA=DF_ESTADO_DEBAJA.replace('ICT 250', \"Por recuperar AKN de baja ICT\")\n",
    "DF_ESTADO_DEBAJA=DF_ESTADO_DEBAJA.replace('APOS', \"Por recuperar AKN de baja APOS\")\n",
    "DF_ESTADO_DEBAJA=DF_ESTADO_DEBAJA.groupby(\"MODELO\").sum()\n",
    "DF_ESTADO_DEBAJA=DF_ESTADO_DEBAJA.reset_index()\n",
    "DF_ESTADO_DEBAJA=DF_ESTADO_DEBAJA.drop(['Pre Agente', 'Suspendido', '', '-', 'Instalado', 'All'], axis=1)\n",
    "DF_ESTADO_DEBAJA.columns=[\"DESCRIPCIÓN\",\"CANTIDAD\"]\n",
    "DF_ESTADO_DEBAJA=DF_ESTADO_DEBAJA.drop(0, axis=0)\n",
    "\n",
    "\n",
    "#UNIENDO ALL Y SUBIENDO\n",
    "UNIDO=pd.concat([DF_POS_INICIAL,DF_INSTALADOS_1,DF_INSTALADOS_2,DF_ASIGNADOS_CLIENTES,DF_ASIGNADOS_PERSONAL,DF_ESTADO_BYS,DF_ESTADO_DEBAJA,DF_TOTAL_SG,DF_POS_DISPONIBLE])\n",
    "UNIDO=UNIDO.reset_index()\n",
    "UNIDO=UNIDO.drop(\"index\", axis=1)\n",
    "print(UNIDO)\n",
    "wsheet.update([UNIDO.columns.values.tolist()]+UNIDO.values.tolist())"
   ]
  },
  {
   "attachments": {},
   "cell_type": "markdown",
   "metadata": {},
   "source": [
    "### **SUBIENDO ARCHIVOS**"
   ]
  },
  {
   "cell_type": "code",
   "execution_count": 125,
   "metadata": {},
   "outputs": [
    {
     "name": "stdout",
     "output_type": "stream",
     "text": [
      "                       DESCRIPCIÓN  CANTIDAD\n",
      "0                      POS INICIAL     24589\n",
      "1          Instalados AKN (1) APOS      7094\n",
      "2           Instalados AKN (1) ICT      3211\n",
      "3              Instalados AKN (+1)      1902\n",
      "4             Asignados a Clientes        66\n",
      "5            Asignados al Personal        64\n",
      "6     Asignados al Personal Cesado        84\n",
      "7         Instalados AKN preagente       228\n",
      "8                  AKN suspendidos        38\n",
      "9   Por recuperar AKN de baja APOS       218\n",
      "10   Por recuperar AKN de baja ICT       984\n",
      "11                    Irreparables       609\n",
      "12            De baja (Venta/Robo)       622\n",
      "13                En mantenimiento       217\n",
      "14                       Malogrado      1554\n",
      "15                      Por Ubicar       236\n",
      "16     POS final (disponible) APOS      2401\n",
      "17   POS final (disponible) DX8000        24\n",
      "18      POS final (disponible) ICT      1746\n"
     ]
    },
    {
     "data": {
      "text/plain": [
       "{'spreadsheetId': '1JYaYF64CIkWeyS3rpxmTN15WNae5yS0oPHIaXLUi21M',\n",
       " 'updatedRange': 'FINAL!A1:B20',\n",
       " 'updatedRows': 20,\n",
       " 'updatedColumns': 2,\n",
       " 'updatedCells': 40}"
      ]
     },
     "execution_count": 125,
     "metadata": {},
     "output_type": "execute_result"
    }
   ],
   "source": []
  }
 ],
 "metadata": {
  "kernelspec": {
   "display_name": "Python 3.10.5 64-bit",
   "language": "python",
   "name": "python3"
  },
  "language_info": {
   "codemirror_mode": {
    "name": "ipython",
    "version": 3
   },
   "file_extension": ".py",
   "mimetype": "text/x-python",
   "name": "python",
   "nbconvert_exporter": "python",
   "pygments_lexer": "ipython3",
   "version": "3.10.5"
  },
  "orig_nbformat": 4,
  "vscode": {
   "interpreter": {
    "hash": "2f501586d3d6585364b3c782eb6f8798ead6c56dd0ce00d45a4fd8b1c0d4f0e6"
   }
  }
 },
 "nbformat": 4,
 "nbformat_minor": 2
}
