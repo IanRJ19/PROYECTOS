{
 "cells": [
  {
   "attachments": {},
   "cell_type": "markdown",
   "metadata": {},
   "source": [
    "### **ARTICULOS**"
   ]
  },
  {
   "cell_type": "code",
   "execution_count": 2,
   "metadata": {},
   "outputs": [
    {
     "ename": "RefreshError",
     "evalue": "('invalid_grant: Invalid JWT: Token must be a short-lived token (60 minutes) and in a reasonable timeframe. Check your iat and exp values in the JWT claim.', {'error': 'invalid_grant', 'error_description': 'Invalid JWT: Token must be a short-lived token (60 minutes) and in a reasonable timeframe. Check your iat and exp values in the JWT claim.'})",
     "output_type": "error",
     "traceback": [
      "\u001b[1;31m---------------------------------------------------------------------------\u001b[0m",
      "\u001b[1;31mRefreshError\u001b[0m                              Traceback (most recent call last)",
      "Cell \u001b[1;32mIn [2], line 28\u001b[0m\n\u001b[0;32m     26\u001b[0m \u001b[39mfrom\u001b[39;00m \u001b[39moauth2client\u001b[39;00m\u001b[39m.\u001b[39;00m\u001b[39mservice_account\u001b[39;00m \u001b[39mimport\u001b[39;00m ServiceAccountCredentials\n\u001b[0;32m     27\u001b[0m gc \u001b[39m=\u001b[39m gspread\u001b[39m.\u001b[39mservice_account(filename\u001b[39m=\u001b[39m\u001b[39m\"\u001b[39m\u001b[39mH:\u001b[39m\u001b[39m\\\u001b[39m\u001b[39mMi unidad\u001b[39m\u001b[39m\\\u001b[39m\u001b[39mLLAVES\u001b[39m\u001b[39m\\\u001b[39m\u001b[39mActivarGoogleSheetIan.json\u001b[39m\u001b[39m\"\u001b[39m)\n\u001b[1;32m---> 28\u001b[0m gsheet \u001b[39m=\u001b[39m gc\u001b[39m.\u001b[39;49mopen_by_url(\u001b[39m\"\u001b[39;49m\u001b[39mhttps://docs.google.com/spreadsheets/d/1JYaYF64CIkWeyS3rpxmTN15WNae5yS0oPHIaXLUi21M\u001b[39;49m\u001b[39m\"\u001b[39;49m)\n\u001b[0;32m     29\u001b[0m wsheet \u001b[39m=\u001b[39m gsheet\u001b[39m.\u001b[39mworksheet(\u001b[39m\"\u001b[39m\u001b[39marticulos 05.12\u001b[39m\u001b[39m\"\u001b[39m)\n\u001b[0;32m     30\u001b[0m wsheet\u001b[39m.\u001b[39mupdate([articulos\u001b[39m.\u001b[39mcolumns\u001b[39m.\u001b[39mvalues\u001b[39m.\u001b[39mtolist()]\u001b[39m+\u001b[39marticulos\u001b[39m.\u001b[39mvalues\u001b[39m.\u001b[39mtolist())\n",
      "File \u001b[1;32mc:\\Users\\Rayzek\\AppData\\Local\\Programs\\Python\\Python310\\lib\\site-packages\\gspread\\client.py:184\u001b[0m, in \u001b[0;36mClient.open_by_url\u001b[1;34m(self, url)\u001b[0m\n\u001b[0;32m    172\u001b[0m \u001b[39mdef\u001b[39;00m \u001b[39mopen_by_url\u001b[39m(\u001b[39mself\u001b[39m, url):\n\u001b[0;32m    173\u001b[0m     \u001b[39m\"\"\"Opens a spreadsheet specified by `url`.\u001b[39;00m\n\u001b[0;32m    174\u001b[0m \n\u001b[0;32m    175\u001b[0m \u001b[39m    :param str url: URL of a spreadsheet as it appears in a browser.\u001b[39;00m\n\u001b[1;32m   (...)\u001b[0m\n\u001b[0;32m    182\u001b[0m \u001b[39m    >>> gc.open_by_url('https://docs.google.com/spreadsheet/ccc?key=0Bm...FE&hl')\u001b[39;00m\n\u001b[0;32m    183\u001b[0m \u001b[39m    \"\"\"\u001b[39;00m\n\u001b[1;32m--> 184\u001b[0m     \u001b[39mreturn\u001b[39;00m \u001b[39mself\u001b[39;49m\u001b[39m.\u001b[39;49mopen_by_key(extract_id_from_url(url))\n",
      "File \u001b[1;32mc:\\Users\\Rayzek\\AppData\\Local\\Programs\\Python\\Python310\\lib\\site-packages\\gspread\\client.py:170\u001b[0m, in \u001b[0;36mClient.open_by_key\u001b[1;34m(self, key)\u001b[0m\n\u001b[0;32m    162\u001b[0m \u001b[39mdef\u001b[39;00m \u001b[39mopen_by_key\u001b[39m(\u001b[39mself\u001b[39m, key):\n\u001b[0;32m    163\u001b[0m     \u001b[39m\"\"\"Opens a spreadsheet specified by `key` (a.k.a Spreadsheet ID).\u001b[39;00m\n\u001b[0;32m    164\u001b[0m \n\u001b[0;32m    165\u001b[0m \u001b[39m    :param str key: A key of a spreadsheet as it appears in a URL in a browser.\u001b[39;00m\n\u001b[1;32m   (...)\u001b[0m\n\u001b[0;32m    168\u001b[0m \u001b[39m    >>> gc.open_by_key('0BmgG6nO_6dprdS1MN3d3MkdPa142WFRrdnRRUWl1UFE')\u001b[39;00m\n\u001b[0;32m    169\u001b[0m \u001b[39m    \"\"\"\u001b[39;00m\n\u001b[1;32m--> 170\u001b[0m     \u001b[39mreturn\u001b[39;00m Spreadsheet(\u001b[39mself\u001b[39;49m, {\u001b[39m\"\u001b[39;49m\u001b[39mid\u001b[39;49m\u001b[39m\"\u001b[39;49m: key})\n",
      "File \u001b[1;32mc:\\Users\\Rayzek\\AppData\\Local\\Programs\\Python\\Python310\\lib\\site-packages\\gspread\\spreadsheet.py:34\u001b[0m, in \u001b[0;36mSpreadsheet.__init__\u001b[1;34m(self, client, properties)\u001b[0m\n\u001b[0;32m     31\u001b[0m \u001b[39mself\u001b[39m\u001b[39m.\u001b[39mclient \u001b[39m=\u001b[39m client\n\u001b[0;32m     32\u001b[0m \u001b[39mself\u001b[39m\u001b[39m.\u001b[39m_properties \u001b[39m=\u001b[39m properties\n\u001b[1;32m---> 34\u001b[0m metadata \u001b[39m=\u001b[39m \u001b[39mself\u001b[39;49m\u001b[39m.\u001b[39;49mfetch_sheet_metadata()\n\u001b[0;32m     35\u001b[0m \u001b[39mself\u001b[39m\u001b[39m.\u001b[39m_properties\u001b[39m.\u001b[39mupdate(metadata[\u001b[39m\"\u001b[39m\u001b[39mproperties\u001b[39m\u001b[39m\"\u001b[39m])\n",
      "File \u001b[1;32mc:\\Users\\Rayzek\\AppData\\Local\\Programs\\Python\\Python310\\lib\\site-packages\\gspread\\spreadsheet.py:254\u001b[0m, in \u001b[0;36mSpreadsheet.fetch_sheet_metadata\u001b[1;34m(self, params)\u001b[0m\n\u001b[0;32m    250\u001b[0m     params \u001b[39m=\u001b[39m {\u001b[39m\"\u001b[39m\u001b[39mincludeGridData\u001b[39m\u001b[39m\"\u001b[39m: \u001b[39m\"\u001b[39m\u001b[39mfalse\u001b[39m\u001b[39m\"\u001b[39m}\n\u001b[0;32m    252\u001b[0m url \u001b[39m=\u001b[39m SPREADSHEET_URL \u001b[39m%\u001b[39m \u001b[39mself\u001b[39m\u001b[39m.\u001b[39mid\n\u001b[1;32m--> 254\u001b[0m r \u001b[39m=\u001b[39m \u001b[39mself\u001b[39;49m\u001b[39m.\u001b[39;49mclient\u001b[39m.\u001b[39;49mrequest(\u001b[39m\"\u001b[39;49m\u001b[39mget\u001b[39;49m\u001b[39m\"\u001b[39;49m, url, params\u001b[39m=\u001b[39;49mparams)\n\u001b[0;32m    256\u001b[0m \u001b[39mreturn\u001b[39;00m r\u001b[39m.\u001b[39mjson()\n",
      "File \u001b[1;32mc:\\Users\\Rayzek\\AppData\\Local\\Programs\\Python\\Python310\\lib\\site-packages\\gspread\\client.py:79\u001b[0m, in \u001b[0;36mClient.request\u001b[1;34m(self, method, endpoint, params, data, json, files, headers)\u001b[0m\n\u001b[0;32m     69\u001b[0m \u001b[39mdef\u001b[39;00m \u001b[39mrequest\u001b[39m(\n\u001b[0;32m     70\u001b[0m     \u001b[39mself\u001b[39m,\n\u001b[0;32m     71\u001b[0m     method,\n\u001b[1;32m   (...)\u001b[0m\n\u001b[0;32m     77\u001b[0m     headers\u001b[39m=\u001b[39m\u001b[39mNone\u001b[39;00m,\n\u001b[0;32m     78\u001b[0m ):\n\u001b[1;32m---> 79\u001b[0m     response \u001b[39m=\u001b[39m \u001b[39mgetattr\u001b[39;49m(\u001b[39mself\u001b[39;49m\u001b[39m.\u001b[39;49msession, method)(\n\u001b[0;32m     80\u001b[0m         endpoint,\n\u001b[0;32m     81\u001b[0m         json\u001b[39m=\u001b[39;49mjson,\n\u001b[0;32m     82\u001b[0m         params\u001b[39m=\u001b[39;49mparams,\n\u001b[0;32m     83\u001b[0m         data\u001b[39m=\u001b[39;49mdata,\n\u001b[0;32m     84\u001b[0m         files\u001b[39m=\u001b[39;49mfiles,\n\u001b[0;32m     85\u001b[0m         headers\u001b[39m=\u001b[39;49mheaders,\n\u001b[0;32m     86\u001b[0m         timeout\u001b[39m=\u001b[39;49m\u001b[39mself\u001b[39;49m\u001b[39m.\u001b[39;49mtimeout,\n\u001b[0;32m     87\u001b[0m     )\n\u001b[0;32m     89\u001b[0m     \u001b[39mif\u001b[39;00m response\u001b[39m.\u001b[39mok:\n\u001b[0;32m     90\u001b[0m         \u001b[39mreturn\u001b[39;00m response\n",
      "File \u001b[1;32mc:\\Users\\Rayzek\\AppData\\Local\\Programs\\Python\\Python310\\lib\\site-packages\\requests\\sessions.py:600\u001b[0m, in \u001b[0;36mSession.get\u001b[1;34m(self, url, **kwargs)\u001b[0m\n\u001b[0;32m    592\u001b[0m \u001b[39mr\u001b[39m\u001b[39m\"\"\"Sends a GET request. Returns :class:`Response` object.\u001b[39;00m\n\u001b[0;32m    593\u001b[0m \n\u001b[0;32m    594\u001b[0m \u001b[39m:param url: URL for the new :class:`Request` object.\u001b[39;00m\n\u001b[0;32m    595\u001b[0m \u001b[39m:param \\*\\*kwargs: Optional arguments that ``request`` takes.\u001b[39;00m\n\u001b[0;32m    596\u001b[0m \u001b[39m:rtype: requests.Response\u001b[39;00m\n\u001b[0;32m    597\u001b[0m \u001b[39m\"\"\"\u001b[39;00m\n\u001b[0;32m    599\u001b[0m kwargs\u001b[39m.\u001b[39msetdefault(\u001b[39m\"\u001b[39m\u001b[39mallow_redirects\u001b[39m\u001b[39m\"\u001b[39m, \u001b[39mTrue\u001b[39;00m)\n\u001b[1;32m--> 600\u001b[0m \u001b[39mreturn\u001b[39;00m \u001b[39mself\u001b[39m\u001b[39m.\u001b[39mrequest(\u001b[39m\"\u001b[39m\u001b[39mGET\u001b[39m\u001b[39m\"\u001b[39m, url, \u001b[39m*\u001b[39m\u001b[39m*\u001b[39mkwargs)\n",
      "File \u001b[1;32mc:\\Users\\Rayzek\\AppData\\Local\\Programs\\Python\\Python310\\lib\\site-packages\\google\\auth\\transport\\requests.py:545\u001b[0m, in \u001b[0;36mAuthorizedSession.request\u001b[1;34m(self, method, url, data, headers, max_allowed_time, timeout, **kwargs)\u001b[0m\n\u001b[0;32m    542\u001b[0m remaining_time \u001b[39m=\u001b[39m max_allowed_time\n\u001b[0;32m    544\u001b[0m \u001b[39mwith\u001b[39;00m TimeoutGuard(remaining_time) \u001b[39mas\u001b[39;00m guard:\n\u001b[1;32m--> 545\u001b[0m     \u001b[39mself\u001b[39;49m\u001b[39m.\u001b[39;49mcredentials\u001b[39m.\u001b[39;49mbefore_request(auth_request, method, url, request_headers)\n\u001b[0;32m    546\u001b[0m remaining_time \u001b[39m=\u001b[39m guard\u001b[39m.\u001b[39mremaining_timeout\n\u001b[0;32m    548\u001b[0m \u001b[39mwith\u001b[39;00m TimeoutGuard(remaining_time) \u001b[39mas\u001b[39;00m guard:\n",
      "File \u001b[1;32mc:\\Users\\Rayzek\\AppData\\Local\\Programs\\Python\\Python310\\lib\\site-packages\\google\\auth\\credentials.py:134\u001b[0m, in \u001b[0;36mCredentials.before_request\u001b[1;34m(self, request, method, url, headers)\u001b[0m\n\u001b[0;32m    130\u001b[0m \u001b[39m# pylint: disable=unused-argument\u001b[39;00m\n\u001b[0;32m    131\u001b[0m \u001b[39m# (Subclasses may use these arguments to ascertain information about\u001b[39;00m\n\u001b[0;32m    132\u001b[0m \u001b[39m# the http request.)\u001b[39;00m\n\u001b[0;32m    133\u001b[0m \u001b[39mif\u001b[39;00m \u001b[39mnot\u001b[39;00m \u001b[39mself\u001b[39m\u001b[39m.\u001b[39mvalid:\n\u001b[1;32m--> 134\u001b[0m     \u001b[39mself\u001b[39;49m\u001b[39m.\u001b[39;49mrefresh(request)\n\u001b[0;32m    135\u001b[0m \u001b[39mself\u001b[39m\u001b[39m.\u001b[39mapply(headers)\n",
      "File \u001b[1;32mc:\\Users\\Rayzek\\AppData\\Local\\Programs\\Python\\Python310\\lib\\site-packages\\google\\oauth2\\service_account.py:429\u001b[0m, in \u001b[0;36mCredentials.refresh\u001b[1;34m(self, request)\u001b[0m\n\u001b[0;32m    427\u001b[0m \u001b[39melse\u001b[39;00m:\n\u001b[0;32m    428\u001b[0m     assertion \u001b[39m=\u001b[39m \u001b[39mself\u001b[39m\u001b[39m.\u001b[39m_make_authorization_grant_assertion()\n\u001b[1;32m--> 429\u001b[0m     access_token, expiry, _ \u001b[39m=\u001b[39m _client\u001b[39m.\u001b[39;49mjwt_grant(\n\u001b[0;32m    430\u001b[0m         request, \u001b[39mself\u001b[39;49m\u001b[39m.\u001b[39;49m_token_uri, assertion\n\u001b[0;32m    431\u001b[0m     )\n\u001b[0;32m    432\u001b[0m     \u001b[39mself\u001b[39m\u001b[39m.\u001b[39mtoken \u001b[39m=\u001b[39m access_token\n\u001b[0;32m    433\u001b[0m     \u001b[39mself\u001b[39m\u001b[39m.\u001b[39mexpiry \u001b[39m=\u001b[39m expiry\n",
      "File \u001b[1;32mc:\\Users\\Rayzek\\AppData\\Local\\Programs\\Python\\Python310\\lib\\site-packages\\google\\oauth2\\_client.py:289\u001b[0m, in \u001b[0;36mjwt_grant\u001b[1;34m(request, token_uri, assertion, can_retry)\u001b[0m\n\u001b[0;32m    265\u001b[0m \u001b[39m\"\"\"Implements the JWT Profile for OAuth 2.0 Authorization Grants.\u001b[39;00m\n\u001b[0;32m    266\u001b[0m \n\u001b[0;32m    267\u001b[0m \u001b[39mFor more details, see `rfc7523 section 4`_.\u001b[39;00m\n\u001b[1;32m   (...)\u001b[0m\n\u001b[0;32m    285\u001b[0m \u001b[39m.. _rfc7523 section 4: https://tools.ietf.org/html/rfc7523#section-4\u001b[39;00m\n\u001b[0;32m    286\u001b[0m \u001b[39m\"\"\"\u001b[39;00m\n\u001b[0;32m    287\u001b[0m body \u001b[39m=\u001b[39m {\u001b[39m\"\u001b[39m\u001b[39massertion\u001b[39m\u001b[39m\"\u001b[39m: assertion, \u001b[39m\"\u001b[39m\u001b[39mgrant_type\u001b[39m\u001b[39m\"\u001b[39m: _JWT_GRANT_TYPE}\n\u001b[1;32m--> 289\u001b[0m response_data \u001b[39m=\u001b[39m _token_endpoint_request(\n\u001b[0;32m    290\u001b[0m     request, token_uri, body, can_retry\u001b[39m=\u001b[39;49mcan_retry\n\u001b[0;32m    291\u001b[0m )\n\u001b[0;32m    293\u001b[0m \u001b[39mtry\u001b[39;00m:\n\u001b[0;32m    294\u001b[0m     access_token \u001b[39m=\u001b[39m response_data[\u001b[39m\"\u001b[39m\u001b[39maccess_token\u001b[39m\u001b[39m\"\u001b[39m]\n",
      "File \u001b[1;32mc:\\Users\\Rayzek\\AppData\\Local\\Programs\\Python\\Python310\\lib\\site-packages\\google\\oauth2\\_client.py:260\u001b[0m, in \u001b[0;36m_token_endpoint_request\u001b[1;34m(request, token_uri, body, access_token, use_json, can_retry, **kwargs)\u001b[0m\n\u001b[0;32m    250\u001b[0m response_status_ok, response_data, retryable_error \u001b[39m=\u001b[39m _token_endpoint_request_no_throw(\n\u001b[0;32m    251\u001b[0m     request,\n\u001b[0;32m    252\u001b[0m     token_uri,\n\u001b[1;32m   (...)\u001b[0m\n\u001b[0;32m    257\u001b[0m     \u001b[39m*\u001b[39m\u001b[39m*\u001b[39mkwargs\n\u001b[0;32m    258\u001b[0m )\n\u001b[0;32m    259\u001b[0m \u001b[39mif\u001b[39;00m \u001b[39mnot\u001b[39;00m response_status_ok:\n\u001b[1;32m--> 260\u001b[0m     _handle_error_response(response_data, retryable_error)\n\u001b[0;32m    261\u001b[0m \u001b[39mreturn\u001b[39;00m response_data\n",
      "File \u001b[1;32mc:\\Users\\Rayzek\\AppData\\Local\\Programs\\Python\\Python310\\lib\\site-packages\\google\\oauth2\\_client.py:69\u001b[0m, in \u001b[0;36m_handle_error_response\u001b[1;34m(response_data, retryable_error)\u001b[0m\n\u001b[0;32m     66\u001b[0m \u001b[39mexcept\u001b[39;00m (\u001b[39mKeyError\u001b[39;00m, \u001b[39mValueError\u001b[39;00m):\n\u001b[0;32m     67\u001b[0m     error_details \u001b[39m=\u001b[39m json\u001b[39m.\u001b[39mdumps(response_data)\n\u001b[1;32m---> 69\u001b[0m \u001b[39mraise\u001b[39;00m exceptions\u001b[39m.\u001b[39mRefreshError(\n\u001b[0;32m     70\u001b[0m     error_details, response_data, retryable\u001b[39m=\u001b[39mretryable_error\n\u001b[0;32m     71\u001b[0m )\n",
      "\u001b[1;31mRefreshError\u001b[0m: ('invalid_grant: Invalid JWT: Token must be a short-lived token (60 minutes) and in a reasonable timeframe. Check your iat and exp values in the JWT claim.', {'error': 'invalid_grant', 'error_description': 'Invalid JWT: Token must be a short-lived token (60 minutes) and in a reasonable timeframe. Check your iat and exp values in the JWT claim.'})"
     ]
    }
   ],
   "source": [
    "#TRABAJO EXCEL ARTICULOS\n",
    "from xlsx2csv import Xlsx2csv\n",
    "from io import StringIO\n",
    "import pandas as pd\n",
    "path=r\"H:\\Mi unidad\\TRABAJO\\PROCESOS_AUTOMATICOS\\Script_Logistica\\ReporteArticulos 2022.12.13.xlsx\"\n",
    "def read_excel(path: str, sheet_name: str) -> pd.DataFrame:\n",
    "    buffer = StringIO()\n",
    "    Xlsx2csv(path, outputencoding=\"utf-8\", sheet_name=sheet_name).convert(buffer)\n",
    "    buffer.seek(0)\n",
    "    agentes = pd.read_csv(buffer)\n",
    "    return agentes\n",
    "articulos=read_excel(path,\"Hoja 1\")\n",
    "cabeza = articulos.iloc[0]\n",
    "articulos = articulos[1:]\n",
    "articulos.columns = cabeza\n",
    "articulos[\"MODELO\"]=articulos[\"ARTÍCULO\"].str[0:6]\n",
    "lista = [\"AXIUM\",\"APOS A\",\"APOS M\",\"APOS D\",\"ICT220\",\"ICT250\"]\n",
    "condicion = articulos[\"MODELO\"].isin(lista)\n",
    "articulos=articulos[condicion]\n",
    "articulos=articulos.drop_duplicates(subset='NUMERO SERIE')\n",
    "\n",
    "\n",
    "#INSERTANDO DATOS DE ARTICULOS AL GS\n",
    "import pandas as pd \n",
    "import gspread\n",
    "from oauth2client.service_account import ServiceAccountCredentials\n",
    "gc = gspread.service_account(filename=\"H:\\Mi unidad\\LLAVES\\ActivarGoogleSheetIan.json\")\n",
    "gsheet = gc.open_by_url(\"https://docs.google.com/spreadsheets/d/1JYaYF64CIkWeyS3rpxmTN15WNae5yS0oPHIaXLUi21M\")\n",
    "wsheet = gsheet.worksheet(\"articulos 05.12\")\n",
    "wsheet.update([articulos.columns.values.tolist()]+articulos.values.tolist())"
   ]
  },
  {
   "attachments": {},
   "cell_type": "markdown",
   "metadata": {},
   "source": [
    "### **TERMINALES-ENVIADO**"
   ]
  },
  {
   "cell_type": "code",
   "execution_count": 5,
   "metadata": {},
   "outputs": [
    {
     "data": {
      "text/plain": [
       "{'spreadsheetId': '16vUo6Q5csaAIMli4TbsKZxgSvfioc1nlRFm_3fZ-Cis',\n",
       " 'updatedRange': \"'Enviado 28.11'!A1:G1\",\n",
       " 'updatedRows': 1,\n",
       " 'updatedColumns': 7,\n",
       " 'updatedCells': 7}"
      ]
     },
     "execution_count": 5,
     "metadata": {},
     "output_type": "execute_result"
    }
   ],
   "source": [
    "#TRABAJO EXCEL TERMINALES\n",
    "from xlsx2csv import Xlsx2csv\n",
    "from io import StringIO\n",
    "import pandas as pd\n",
    "path=r\"H:\\Mi unidad\\TRABAJO\\PROCESOS_AUTOMATICOS\\Script_Logistica\\ReporteTerminales 2022.12.13.xlsx\"\n",
    "def read_excel(path: str, sheet_name: str) -> pd.DataFrame:\n",
    "    buffer = StringIO()\n",
    "    Xlsx2csv(path, outputencoding=\"utf-8\", sheet_name=sheet_name).convert(buffer)\n",
    "    buffer.seek(0)\n",
    "    agentes = pd.read_csv(buffer)\n",
    "    return agentes\n",
    "terminales=read_excel(path,\"Hoja 1\")\n",
    "cabeza = terminales.iloc[0]\n",
    "terminales = terminales[1:]\n",
    "terminales.columns = cabeza\n",
    "terminales[\"x\"]=terminales[\"ARTÍCULO\"].str[0:6]\n",
    "lista = [\"AXIUM\",\"APOS A\",\"APOS M\",\"APOS D\",\"ICT220\",\"ICT250\"]\n",
    "condicion = terminales[\"x\"].isin(lista)\n",
    "terminales=terminales[condicion]\n",
    "lista2 = [\"Creado\",\"Enviada\"]\n",
    "condicion2 = terminales[\"ESTADO\"].isin(lista2)\n",
    "terminales=terminales[condicion2]\n",
    "terminales2=terminales\n",
    "terminales=terminales[[\"ARTÍCULO\",\"NÚMERO SERIE\",\"CANTIDAD\",\"ESTADO\",\"ACTUALIZADO\",\"TIPO\",\"TERMINAL/DNI/RUC\"]]\n",
    "terminales = terminales.fillna('')\n",
    "terminales = terminales.drop_duplicates(subset=\"NÚMERO SERIE\")\n",
    "\n",
    "#INSERTANDO DATOS EN GS ENVIADOS\n",
    "\n",
    "import pandas as pd \n",
    "import gspread\n",
    "from oauth2client.service_account import ServiceAccountCredentials\n",
    "gc = gspread.service_account(filename=\"H:\\Mi unidad\\LLAVES\\ActivarGoogleSheetIan.json\")\n",
    "gsheet = gc.open_by_url(\"https://docs.google.com/spreadsheets/d/16vUo6Q5csaAIMli4TbsKZxgSvfioc1nlRFm_3fZ-Cis\")\n",
    "wsheet = gsheet.worksheet(\"Enviado 28.11\")\n",
    "wsheet.update([terminales.columns.values.tolist()]+terminales.values.tolist())\n"
   ]
  },
  {
   "attachments": {},
   "cell_type": "markdown",
   "metadata": {},
   "source": [
    "### **TERMINALES - TERMINALES**\n"
   ]
  },
  {
   "cell_type": "code",
   "execution_count": 6,
   "metadata": {},
   "outputs": [
    {
     "data": {
      "text/plain": [
       "{'spreadsheetId': '1JYaYF64CIkWeyS3rpxmTN15WNae5yS0oPHIaXLUi21M',\n",
       " 'updatedRange': \"'Terminales 02.12'!A1:H1\",\n",
       " 'updatedRows': 1,\n",
       " 'updatedColumns': 8,\n",
       " 'updatedCells': 8}"
      ]
     },
     "execution_count": 6,
     "metadata": {},
     "output_type": "execute_result"
    }
   ],
   "source": [
    "#TRABAJO EXCEL TERMINALES\n",
    "lista3 = [\"DNI\", \"Terminales\"]\n",
    "condicion3=terminales2[\"TIPO\"].isin(lista3)\n",
    "terminales2 =terminales2[condicion3]\n",
    "terminales2=terminales2[terminales2[\"TERMINAL/DNI/RUC\"].notnull()]\n",
    "terminales2=terminales2[['TIPO','TERMINAL/DNI/RUC','AGENTE/EJECUTIVO','UBICACIÓN','ESTADO_TERMINAL','FECHA_ACTUALIZACION_TERMINAL','Estado Personal','FECHA ACTUALIZACION PERSONAL']]\n",
    "terminales2 = terminales2.fillna('')\n",
    "terminales2 = terminales2.drop_duplicates(subset='TERMINAL/DNI/RUC')\n",
    "\n",
    "#INSERTANDO DATOS EN GS TERMINALES\n",
    "import pandas as pd \n",
    "import gspread\n",
    "from oauth2client.service_account import ServiceAccountCredentials\n",
    "gc = gspread.service_account(filename=\"H:\\Mi unidad\\LLAVES\\ActivarGoogleSheetIan.json\")\n",
    "gsheet = gc.open_by_url(\"https://docs.google.com/spreadsheets/d/1JYaYF64CIkWeyS3rpxmTN15WNae5yS0oPHIaXLUi21M\")\n",
    "wsheet = gsheet.worksheet(\"Terminales 02.12\")\n",
    "wsheet.update([terminales2.columns.values.tolist()]+terminales2.values.tolist())\n"
   ]
  },
  {
   "cell_type": "markdown",
   "metadata": {},
   "source": [
    "### **TABLA RESUMEN**"
   ]
  },
  {
   "cell_type": "code",
   "execution_count": 2,
   "metadata": {},
   "outputs": [],
   "source": [
    "#AGREGAR PESTAÑA\n",
    "import pandas as pd\n",
    "import gspread\n",
    "from oauth2client.service_account import ServiceAccountCredentials\n",
    "\n",
    "gc = gspread.service_account(filename=\"H:\\Mi unidad\\LLAVES\\ActivarGoogleSheetIan.json\")\n",
    "gsheet = gc.open_by_url(\"https://docs.google.com/spreadsheets/d/1JYaYF64CIkWeyS3rpxmTN15WNae5yS0oPHIaXLUi21M\")\n",
    "\n",
    "#CREAMOS LA PESTAÑA DEL RESUMEN\n",
    "#gsheet.add_worksheet(rows=20,cols=20,title='FINAL')\n",
    "\n",
    "pestaña = gsheet.worksheet(\"BD\").get_all_records()\n",
    "Base= pd.DataFrame(pestaña)\n",
    "\n",
    "# INSTAURAMOS EL CONTROLADOR DE PESTAÑA\n",
    "wsheet = gsheet.worksheet(\"FINAL\")"
   ]
  },
  {
   "attachments": {},
   "cell_type": "markdown",
   "metadata": {},
   "source": [
    "### **OBTENCIÓN DE DATOS DE TABLA**"
   ]
  },
  {
   "cell_type": "code",
   "execution_count": 3,
   "metadata": {},
   "outputs": [
    {
     "ename": "ValueError",
     "evalue": "Length mismatch: Expected axis has 3 elements, new values have 2 elements",
     "output_type": "error",
     "traceback": [
      "\u001b[1;31m---------------------------------------------------------------------------\u001b[0m",
      "\u001b[1;31mValueError\u001b[0m                                Traceback (most recent call last)",
      "Cell \u001b[1;32mIn [3], line 31\u001b[0m\n\u001b[0;32m     29\u001b[0m DF_POS_INICIAL\u001b[39m=\u001b[39mDF_POS_INICIAL\u001b[39m.\u001b[39mdrop([\u001b[39m\"\u001b[39m\u001b[39mMODELO\u001b[39m\u001b[39m\"\u001b[39m,\u001b[39m\"\u001b[39m\u001b[39mDespachado\u001b[39m\u001b[39m\"\u001b[39m,\u001b[39m\"\u001b[39m\u001b[39mDisponible\u001b[39m\u001b[39m\"\u001b[39m,\u001b[39m\"\u001b[39m\u001b[39mAsignado\u001b[39m\u001b[39m\"\u001b[39m,\u001b[39m'\u001b[39m\u001b[39mBloqueado\u001b[39m\u001b[39m'\u001b[39m, \u001b[39m'\u001b[39m\u001b[39mDe baja\u001b[39m\u001b[39m'\u001b[39m, \u001b[39m'\u001b[39m\u001b[39mEn mantenimiento\u001b[39m\u001b[39m'\u001b[39m, \u001b[39m'\u001b[39m\u001b[39mMalogrado\u001b[39m\u001b[39m'\u001b[39m, \u001b[39m'\u001b[39m\u001b[39mPor Ubicar\u001b[39m\u001b[39m'\u001b[39m], axis\u001b[39m=\u001b[39m\u001b[39m1\u001b[39m)\n\u001b[0;32m     30\u001b[0m DF_POS_INICIAL\u001b[39m=\u001b[39mDF_POS_INICIAL\u001b[39m.\u001b[39mreset_index()\n\u001b[1;32m---> 31\u001b[0m DF_POS_INICIAL\u001b[39m.\u001b[39;49mcolumns\u001b[39m=\u001b[39m[\u001b[39m\"\u001b[39m\u001b[39mDESCRIPCIÓN\u001b[39m\u001b[39m\"\u001b[39m,\u001b[39m\"\u001b[39m\u001b[39mCANTIDAD\u001b[39m\u001b[39m\"\u001b[39m]\n\u001b[0;32m     32\u001b[0m DF_POS_INICIAL\u001b[39m=\u001b[39mDF_POS_INICIAL\u001b[39m.\u001b[39mreplace(\u001b[39m\"\u001b[39m\u001b[39mAll\u001b[39m\u001b[39m\"\u001b[39m, \u001b[39m\"\u001b[39m\u001b[39mPOS INICIAL\u001b[39m\u001b[39m\"\u001b[39m)\n\u001b[0;32m     34\u001b[0m \u001b[39m#TOTALES POR ESTADO SG\u001b[39;00m\n",
      "File \u001b[1;32mc:\\Users\\Rayzek\\AppData\\Local\\Programs\\Python\\Python310\\lib\\site-packages\\pandas\\core\\generic.py:5588\u001b[0m, in \u001b[0;36mNDFrame.__setattr__\u001b[1;34m(self, name, value)\u001b[0m\n\u001b[0;32m   5586\u001b[0m \u001b[39mtry\u001b[39;00m:\n\u001b[0;32m   5587\u001b[0m     \u001b[39mobject\u001b[39m\u001b[39m.\u001b[39m\u001b[39m__getattribute__\u001b[39m(\u001b[39mself\u001b[39m, name)\n\u001b[1;32m-> 5588\u001b[0m     \u001b[39mreturn\u001b[39;00m \u001b[39mobject\u001b[39;49m\u001b[39m.\u001b[39;49m\u001b[39m__setattr__\u001b[39;49m(\u001b[39mself\u001b[39;49m, name, value)\n\u001b[0;32m   5589\u001b[0m \u001b[39mexcept\u001b[39;00m \u001b[39mAttributeError\u001b[39;00m:\n\u001b[0;32m   5590\u001b[0m     \u001b[39mpass\u001b[39;00m\n",
      "File \u001b[1;32mc:\\Users\\Rayzek\\AppData\\Local\\Programs\\Python\\Python310\\lib\\site-packages\\pandas\\_libs\\properties.pyx:70\u001b[0m, in \u001b[0;36mpandas._libs.properties.AxisProperty.__set__\u001b[1;34m()\u001b[0m\n",
      "File \u001b[1;32mc:\\Users\\Rayzek\\AppData\\Local\\Programs\\Python\\Python310\\lib\\site-packages\\pandas\\core\\generic.py:769\u001b[0m, in \u001b[0;36mNDFrame._set_axis\u001b[1;34m(self, axis, labels)\u001b[0m\n\u001b[0;32m    767\u001b[0m \u001b[39mdef\u001b[39;00m \u001b[39m_set_axis\u001b[39m(\u001b[39mself\u001b[39m, axis: \u001b[39mint\u001b[39m, labels: Index) \u001b[39m-\u001b[39m\u001b[39m>\u001b[39m \u001b[39mNone\u001b[39;00m:\n\u001b[0;32m    768\u001b[0m     labels \u001b[39m=\u001b[39m ensure_index(labels)\n\u001b[1;32m--> 769\u001b[0m     \u001b[39mself\u001b[39;49m\u001b[39m.\u001b[39;49m_mgr\u001b[39m.\u001b[39;49mset_axis(axis, labels)\n\u001b[0;32m    770\u001b[0m     \u001b[39mself\u001b[39m\u001b[39m.\u001b[39m_clear_item_cache()\n",
      "File \u001b[1;32mc:\\Users\\Rayzek\\AppData\\Local\\Programs\\Python\\Python310\\lib\\site-packages\\pandas\\core\\internals\\managers.py:214\u001b[0m, in \u001b[0;36mBaseBlockManager.set_axis\u001b[1;34m(self, axis, new_labels)\u001b[0m\n\u001b[0;32m    212\u001b[0m \u001b[39mdef\u001b[39;00m \u001b[39mset_axis\u001b[39m(\u001b[39mself\u001b[39m, axis: \u001b[39mint\u001b[39m, new_labels: Index) \u001b[39m-\u001b[39m\u001b[39m>\u001b[39m \u001b[39mNone\u001b[39;00m:\n\u001b[0;32m    213\u001b[0m     \u001b[39m# Caller is responsible for ensuring we have an Index object.\u001b[39;00m\n\u001b[1;32m--> 214\u001b[0m     \u001b[39mself\u001b[39;49m\u001b[39m.\u001b[39;49m_validate_set_axis(axis, new_labels)\n\u001b[0;32m    215\u001b[0m     \u001b[39mself\u001b[39m\u001b[39m.\u001b[39maxes[axis] \u001b[39m=\u001b[39m new_labels\n",
      "File \u001b[1;32mc:\\Users\\Rayzek\\AppData\\Local\\Programs\\Python\\Python310\\lib\\site-packages\\pandas\\core\\internals\\base.py:69\u001b[0m, in \u001b[0;36mDataManager._validate_set_axis\u001b[1;34m(self, axis, new_labels)\u001b[0m\n\u001b[0;32m     66\u001b[0m     \u001b[39mpass\u001b[39;00m\n\u001b[0;32m     68\u001b[0m \u001b[39melif\u001b[39;00m new_len \u001b[39m!=\u001b[39m old_len:\n\u001b[1;32m---> 69\u001b[0m     \u001b[39mraise\u001b[39;00m \u001b[39mValueError\u001b[39;00m(\n\u001b[0;32m     70\u001b[0m         \u001b[39mf\u001b[39m\u001b[39m\"\u001b[39m\u001b[39mLength mismatch: Expected axis has \u001b[39m\u001b[39m{\u001b[39;00mold_len\u001b[39m}\u001b[39;00m\u001b[39m elements, new \u001b[39m\u001b[39m\"\u001b[39m\n\u001b[0;32m     71\u001b[0m         \u001b[39mf\u001b[39m\u001b[39m\"\u001b[39m\u001b[39mvalues have \u001b[39m\u001b[39m{\u001b[39;00mnew_len\u001b[39m}\u001b[39;00m\u001b[39m elements\u001b[39m\u001b[39m\"\u001b[39m\n\u001b[0;32m     72\u001b[0m     )\n",
      "\u001b[1;31mValueError\u001b[0m: Length mismatch: Expected axis has 3 elements, new values have 2 elements"
     ]
    }
   ],
   "source": [
    "#PIVOT CON NUMERO DE SERIE POR CADA ESTADO SG\n",
    "df1=Base.pivot_table(values='NUMERO SERIE', index=[\"OC\",'MODELO'], columns=\"ESTADO SG\", aggfunc=\"count\",fill_value=0, margins=True)\n",
    "df1=df1.reset_index()\n",
    "\n",
    "#ASIGNANDO DATA\n",
    "DF_POS_DISPONIBLE=df1[[\"MODELO\",\"Disponible\"]]\n",
    "DF_TOTAL_SG=df1\n",
    "DF_POS_INICIAL=df1\n",
    "DF_ASIGNADOS_CLIENTES=Base[Base[\"Tipo\"].isin([\"RUC(Empresa)\", \"RUC(Entidad Financiera)\"])]\n",
    "DF_ASIGNADOS_PERSONAL=Base[Base[\"Tipo\"]==\"DNI\"]\n",
    "DF_INSTALADOS_1=Base[(Base[\"Estado terminal\"]==\"Instalado\") & (Base[\"ESTADO SG\"].isin([\"Despachado\",\"Asignado\"]))]\n",
    "DF_ESTADO_BYS=Base.pivot_table(values='NUMERO SERIE', index=[\"OC\",'MODELO'], aggfunc=\"count\",columns=\"Estado terminal\",fill_value=0, margins=True)\n",
    "DF_ESTADO_DEBAJA=Base[Base[\"MODELO\"].isin([\"ICT 220\", \"ICT 250\",\"APOS\"])]\n",
    "\n",
    "\n",
    "#POS FINAL DISPONIBLES\n",
    "DF_POS_DISPONIBLE=DF_POS_DISPONIBLE.replace(['ICT 220','ICT 250'], \"POS final (disponible) ICT\")\n",
    "DF_POS_DISPONIBLE=DF_POS_DISPONIBLE.replace(['APOS'], \"POS final (disponible) APOS\")\n",
    "DF_POS_DISPONIBLE=DF_POS_DISPONIBLE.replace(['DX8000'], \"POS final (disponible) DX8000\")\n",
    "DF_POS_DISPONIBLE=DF_POS_DISPONIBLE.groupby([\"MODELO\"])[\"Disponible\"].sum()\n",
    "DF_POS_DISPONIBLE=DF_POS_DISPONIBLE.reset_index()\n",
    "DF_POS_DISPONIBLE=DF_POS_DISPONIBLE.drop(DF_POS_DISPONIBLE.index[0])\n",
    "DF_POS_DISPONIBLE.columns=[\"DESCRIPCIÓN\",\"CANTIDAD\"]\n",
    "\n",
    "#POS INICIAL\n",
    "DF_POS_INICIAL=df1\n",
    "DF_POS_INICIAL=DF_POS_INICIAL.set_index(\"OC\")\n",
    "DF_POS_INICIAL=DF_POS_INICIAL.loc[\"All\":]\n",
    "DF_POS_INICIAL=DF_POS_INICIAL.drop([\"MODELO\",\"Despachado\",\"Disponible\",\"Asignado\",'Bloqueado', 'De baja', 'En mantenimiento', 'Malogrado', 'Por Ubicar'], axis=1)\n",
    "DF_POS_INICIAL=DF_POS_INICIAL.reset_index()\n",
    "DF_POS_INICIAL.columns=[\"DESCRIPCIÓN\",\"CANTIDAD\"]\n",
    "DF_POS_INICIAL=DF_POS_INICIAL.replace(\"All\", \"POS INICIAL\")\n",
    "\n",
    "#TOTALES POR ESTADO SG\n",
    "DF_TOTAL_SG=DF_TOTAL_SG.set_index(\"OC\")\n",
    "DF_TOTAL_SG=DF_TOTAL_SG.loc[\"All\":]\n",
    "DF_TOTAL_SG=DF_TOTAL_SG.reset_index()\n",
    "DF_TOTAL_SG=DF_TOTAL_SG.drop([\"All\",\"OC\",\"MODELO\",\"Despachado\",\"Disponible\",\"Asignado\"], axis=1)\n",
    "DF_TOTAL_SG=DF_TOTAL_SG.transpose()\n",
    "DF_TOTAL_SG=DF_TOTAL_SG.reset_index()\n",
    "DF_TOTAL_SG.columns=[\"DESCRIPCIÓN\",\"CANTIDAD\"]\n",
    "DF_TOTAL_SG=DF_TOTAL_SG.replace('Bloqueado', \"Irreparables\")\n",
    "DF_TOTAL_SG=DF_TOTAL_SG.replace('De baja', \"De baja (Venta/Robo)\")\n",
    "\n",
    "#POS Asignado a Empresas\n",
    "DF_ASIGNADOS_CLIENTES=DF_ASIGNADOS_CLIENTES.pivot_table(values='NUMERO SERIE', index=[\"OC\",'MODELO'], aggfunc=\"count\",fill_value=0, margins=True)\n",
    "DF_ASIGNADOS_CLIENTES=DF_ASIGNADOS_CLIENTES.reset_index()\n",
    "DF_ASIGNADOS_CLIENTES=DF_ASIGNADOS_CLIENTES[9:]\n",
    "DF_ASIGNADOS_CLIENTES=DF_ASIGNADOS_CLIENTES.drop(['OC', 'MODELO'],axis=1 )\n",
    "DF_ASIGNADOS_CLIENTES=DF_ASIGNADOS_CLIENTES.transpose()\n",
    "DF_ASIGNADOS_CLIENTES=DF_ASIGNADOS_CLIENTES.reset_index()\n",
    "DF_ASIGNADOS_CLIENTES.columns=[\"DESCRIPCIÓN\",\"CANTIDAD\"]\n",
    "DF_ASIGNADOS_CLIENTES=DF_ASIGNADOS_CLIENTES.replace('NUMERO SERIE', \"Asignados a Clientes\")\n",
    "\n",
    "#POS Asignado a Personal Activo y Cesado\n",
    "DF_ASIGNADOS_PERSONAL=DF_ASIGNADOS_PERSONAL.pivot_table(values='NUMERO SERIE', index=[\"OC\",'MODELO'], aggfunc=\"count\",columns=\"tipo DNI\",fill_value=0, margins=True)\n",
    "DF_ASIGNADOS_PERSONAL=DF_ASIGNADOS_PERSONAL.reset_index()\n",
    "DF_ASIGNADOS_PERSONAL=DF_ASIGNADOS_PERSONAL[13:]\n",
    "DF_ASIGNADOS_PERSONAL=DF_ASIGNADOS_PERSONAL.transpose()\n",
    "DF_ASIGNADOS_PERSONAL=DF_ASIGNADOS_PERSONAL.reset_index()\n",
    "DF_ASIGNADOS_PERSONAL=DF_ASIGNADOS_PERSONAL[3:5]\n",
    "DF_ASIGNADOS_PERSONAL.columns=[\"DESCRIPCIÓN\",\"CANTIDAD\"]\n",
    "DF_ASIGNADOS_PERSONAL=DF_ASIGNADOS_PERSONAL.replace('Activo', \"Asignados al Personal\")\n",
    "DF_ASIGNADOS_PERSONAL=DF_ASIGNADOS_PERSONAL.replace('Cesado', \"Asignados al Personal Cesado\")\n",
    "\n",
    "#Instalados AKN (1) y (+2)\n",
    "DF_INSTALADOS_1=DF_INSTALADOS_1.pivot_table(values='NUMERO SERIE', index=[\"OC\",'MODELO'], aggfunc=\"count\",columns=\"x\",fill_value=0, margins=True)\n",
    "DF_INSTALADOS_2=DF_INSTALADOS_1\n",
    "DF_INSTALADOS_1=DF_INSTALADOS_1.reset_index()\n",
    "DF_INSTALADOS_1=DF_INSTALADOS_1.replace('ICT 220', \"Instalados AKN (1) ICT\")\n",
    "DF_INSTALADOS_1=DF_INSTALADOS_1.replace('ICT 250', \"Instalados AKN (1) ICT\")\n",
    "DF_INSTALADOS_1=DF_INSTALADOS_1.replace('APOS', \"Instalados AKN (1) APOS\")\n",
    "DF_INSTALADOS_1=DF_INSTALADOS_1.groupby(\"MODELO\").sum()\n",
    "DF_INSTALADOS_1=DF_INSTALADOS_1.reset_index()\n",
    "DF_INSTALADOS_1=DF_INSTALADOS_1.drop(0, axis=0)\n",
    "DF_INSTALADOS_1=DF_INSTALADOS_1.drop([2,3,\"All\"], axis=1)\n",
    "DF_INSTALADOS_1.columns=[\"DESCRIPCIÓN\",\"CANTIDAD\"]\n",
    "\n",
    "\n",
    "DF_INSTALADOS_2[\"SUMA\"]=DF_INSTALADOS_2[2]+DF_INSTALADOS_2[3]\n",
    "DF_INSTALADOS_2=DF_INSTALADOS_2.reset_index()\n",
    "DF_INSTALADOS_2=DF_INSTALADOS_2.drop([\"All\",1,2,3], axis=1)\n",
    "DF_INSTALADOS_2=DF_INSTALADOS_2.replace('ICT 250', \"Instalados AKN (+1)\")\n",
    "DF_INSTALADOS_2=DF_INSTALADOS_2.replace('ICT 220', \"Instalados AKN (+1)\")\n",
    "DF_INSTALADOS_2=DF_INSTALADOS_2.replace('APOS', \"Instalados AKN (+1)\")\n",
    "DF_INSTALADOS_2=DF_INSTALADOS_2.groupby(\"MODELO\").sum()\n",
    "DF_INSTALADOS_2=DF_INSTALADOS_2.reset_index()\n",
    "DF_INSTALADOS_2=DF_INSTALADOS_2.drop(0, axis=0)\n",
    "DF_INSTALADOS_2.columns=[\"DESCRIPCIÓN\",\"CANTIDAD\"]\n",
    "\n",
    "\n",
    "#POS PRE AGENTE Y SUSPENDIDOS\n",
    "DF_ESTADO_BYS=DF_ESTADO_BYS.reset_index()\n",
    "DF_ESTADO_BYS=DF_ESTADO_BYS.set_index(\"OC\")\n",
    "DF_ESTADO_BYS=DF_ESTADO_BYS.loc[\"All\":]\n",
    "DF_ESTADO_BYS=DF_ESTADO_BYS.reset_index()\n",
    "DF_ESTADO_BYS=DF_ESTADO_BYS.drop(['OC', 'MODELO', '', '-', 'Baja', 'Instalado', 'All'], axis=1)\n",
    "DF_ESTADO_BYS=DF_ESTADO_BYS.transpose()\n",
    "DF_ESTADO_BYS=DF_ESTADO_BYS.reset_index()\n",
    "DF_ESTADO_BYS=DF_ESTADO_BYS.replace('Pre Agente', \"Instalados AKN preagente\")\n",
    "DF_ESTADO_BYS=DF_ESTADO_BYS.replace('Suspendido', \"AKN suspendidos\")\n",
    "DF_ESTADO_BYS.columns=[\"DESCRIPCIÓN\",\"CANTIDAD\"]\n",
    "print(DF_ESTADO_BYS)\n",
    "\n",
    "#POS DE BAJA AKN\n",
    "DF_ESTADO_DEBAJA=DF_ESTADO_DEBAJA.pivot_table(values='NUMERO SERIE', index=[\"OC\",'MODELO'], aggfunc=\"count\",columns=\"Estado terminal\",fill_value=0, margins=True)\n",
    "DF_ESTADO_DEBAJA=DF_ESTADO_DEBAJA.reset_index()\n",
    "DF_ESTADO_DEBAJA=DF_ESTADO_DEBAJA.replace(\"ICT 220\", \"Por recuperar AKN de baja ICT\")\n",
    "DF_ESTADO_DEBAJA=DF_ESTADO_DEBAJA.replace('ICT 250', \"Por recuperar AKN de baja ICT\")\n",
    "DF_ESTADO_DEBAJA=DF_ESTADO_DEBAJA.replace('APOS', \"Por recuperar AKN de baja APOS\")\n",
    "DF_ESTADO_DEBAJA=DF_ESTADO_DEBAJA.groupby(\"MODELO\").sum()\n",
    "DF_ESTADO_DEBAJA=DF_ESTADO_DEBAJA.reset_index()\n",
    "DF_ESTADO_DEBAJA=DF_ESTADO_DEBAJA.drop(['Pre Agente', 'Suspendido', '', '-', 'Instalado', 'All'], axis=1)\n",
    "DF_ESTADO_DEBAJA.columns=[\"DESCRIPCIÓN\",\"CANTIDAD\"]\n",
    "DF_ESTADO_DEBAJA=DF_ESTADO_DEBAJA.drop(0, axis=0)\n",
    "\n",
    "\n",
    "#UNIENDO ALL Y SUBIENDO\n",
    "UNIDO=pd.concat([DF_POS_INICIAL,DF_INSTALADOS_1,DF_INSTALADOS_2,DF_ASIGNADOS_CLIENTES,DF_ASIGNADOS_PERSONAL,DF_ESTADO_BYS,DF_ESTADO_DEBAJA,DF_TOTAL_SG,DF_POS_DISPONIBLE])\n",
    "UNIDO=UNIDO.reset_index()\n",
    "UNIDO=UNIDO.drop(\"index\", axis=1)\n",
    "print(UNIDO)\n",
    "wsheet.update([UNIDO.columns.values.tolist()]+UNIDO.values.tolist())"
   ]
  },
  {
   "attachments": {},
   "cell_type": "markdown",
   "metadata": {},
   "source": [
    "### **SUBIENDO ARCHIVOS**"
   ]
  },
  {
   "cell_type": "code",
   "execution_count": 125,
   "metadata": {},
   "outputs": [
    {
     "name": "stdout",
     "output_type": "stream",
     "text": [
      "                       DESCRIPCIÓN  CANTIDAD\n",
      "0                      POS INICIAL     24589\n",
      "1          Instalados AKN (1) APOS      7094\n",
      "2           Instalados AKN (1) ICT      3211\n",
      "3              Instalados AKN (+1)      1902\n",
      "4             Asignados a Clientes        66\n",
      "5            Asignados al Personal        64\n",
      "6     Asignados al Personal Cesado        84\n",
      "7         Instalados AKN preagente       228\n",
      "8                  AKN suspendidos        38\n",
      "9   Por recuperar AKN de baja APOS       218\n",
      "10   Por recuperar AKN de baja ICT       984\n",
      "11                    Irreparables       609\n",
      "12            De baja (Venta/Robo)       622\n",
      "13                En mantenimiento       217\n",
      "14                       Malogrado      1554\n",
      "15                      Por Ubicar       236\n",
      "16     POS final (disponible) APOS      2401\n",
      "17   POS final (disponible) DX8000        24\n",
      "18      POS final (disponible) ICT      1746\n"
     ]
    },
    {
     "data": {
      "text/plain": [
       "{'spreadsheetId': '1JYaYF64CIkWeyS3rpxmTN15WNae5yS0oPHIaXLUi21M',\n",
       " 'updatedRange': 'FINAL!A1:B20',\n",
       " 'updatedRows': 20,\n",
       " 'updatedColumns': 2,\n",
       " 'updatedCells': 40}"
      ]
     },
     "execution_count": 125,
     "metadata": {},
     "output_type": "execute_result"
    }
   ],
   "source": []
  }
 ],
 "metadata": {
  "kernelspec": {
   "display_name": "Python 3.10.5 64-bit",
   "language": "python",
   "name": "python3"
  },
  "language_info": {
   "codemirror_mode": {
    "name": "ipython",
    "version": 3
   },
   "file_extension": ".py",
   "mimetype": "text/x-python",
   "name": "python",
   "nbconvert_exporter": "python",
   "pygments_lexer": "ipython3",
   "version": "3.10.5"
  },
  "orig_nbformat": 4,
  "vscode": {
   "interpreter": {
    "hash": "2f501586d3d6585364b3c782eb6f8798ead6c56dd0ce00d45a4fd8b1c0d4f0e6"
   }
  }
 },
 "nbformat": 4,
 "nbformat_minor": 2
}
