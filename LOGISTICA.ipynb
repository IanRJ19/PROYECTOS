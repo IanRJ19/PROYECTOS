{
 "cells": [
  {
   "attachments": {},
   "cell_type": "markdown",
   "metadata": {},
   "source": [
    "### **ARTICULOS**"
   ]
  },
  {
   "cell_type": "code",
   "execution_count": 1,
   "metadata": {},
   "outputs": [
    {
     "name": "stderr",
     "output_type": "stream",
     "text": [
      "c:\\Users\\Rayzek\\AppData\\Local\\Programs\\Python\\Python310\\lib\\site-packages\\requests\\__init__.py:109: RequestsDependencyWarning: urllib3 (1.26.9) or chardet (5.0.0)/charset_normalizer (2.0.12) doesn't match a supported version!\n",
      "  warnings.warn(\n"
     ]
    },
    {
     "data": {
      "text/plain": [
       "{'spreadsheetId': '16vUo6Q5csaAIMli4TbsKZxgSvfioc1nlRFm_3fZ-Cis',\n",
       " 'updatedRange': \"'articulos 28.11'!A1:F24566\",\n",
       " 'updatedRows': 24566,\n",
       " 'updatedColumns': 6,\n",
       " 'updatedCells': 147396}"
      ]
     },
     "execution_count": 1,
     "metadata": {},
     "output_type": "execute_result"
    }
   ],
   "source": [
    "#TRABAJO EXCEL ARTICULOS\n",
    "from xlsx2csv import Xlsx2csv\n",
    "from io import StringIO\n",
    "import pandas as pd\n",
    "path=r\"H:\\Mi unidad\\TRABAJO\\PROCESOS_AUTOMATICOS\\Script_Logistica\\ReporteArticulos 2022.11.21.xlsx\"\n",
    "def read_excel(path: str, sheet_name: str) -> pd.DataFrame:\n",
    "    buffer = StringIO()\n",
    "    Xlsx2csv(path, outputencoding=\"utf-8\", sheet_name=sheet_name).convert(buffer)\n",
    "    buffer.seek(0)\n",
    "    agentes = pd.read_csv(buffer)\n",
    "    return agentes\n",
    "articulos=read_excel(path,\"Hoja 1\")\n",
    "cabeza = articulos.iloc[0]\n",
    "articulos = articulos[1:]\n",
    "articulos.columns = cabeza\n",
    "articulos[\"MODELO\"]=articulos[\"ARTÍCULO\"].str[0:6]\n",
    "lista = [\"AXIUM\",\"APOS A\",\"APOS M\",\"APOS D\",\"ICT220\",\"ICT250\"]\n",
    "condicion = articulos[\"MODELO\"].isin(lista)\n",
    "articulos=articulos[condicion]\n",
    "articulos=articulos.drop_duplicates(subset='NUMERO SERIE')\n",
    "\n",
    "\n",
    "#INSERTANDO DATOS DE ARTICULOS AL GS\n",
    "import pandas as pd \n",
    "import gspread\n",
    "from oauth2client.service_account import ServiceAccountCredentials\n",
    "gc = gspread.service_account(filename=\"H:\\Mi unidad\\LLAVES\\ActivarGoogleSheetIan.json\")\n",
    "gsheet = gc.open_by_url(\"https://docs.google.com/spreadsheets/d/16vUo6Q5csaAIMli4TbsKZxgSvfioc1nlRFm_3fZ-Cis\")\n",
    "wsheet = gsheet.worksheet(\"articulos 28.11\")\n",
    "wsheet.update([articulos.columns.values.tolist()]+articulos.values.tolist())"
   ]
  },
  {
   "attachments": {},
   "cell_type": "markdown",
   "metadata": {},
   "source": [
    "### **TERMINALES-ENVIADO**"
   ]
  },
  {
   "cell_type": "code",
   "execution_count": 2,
   "metadata": {},
   "outputs": [
    {
     "name": "stderr",
     "output_type": "stream",
     "text": [
      "C:\\Users\\Rayzek\\AppData\\Local\\Temp\\ipykernel_11384\\320253481.py:10: DtypeWarning: Columns (1,6,11,12) have mixed types. Specify dtype option on import or set low_memory=False.\n",
      "  agentes = pd.read_csv(buffer)\n"
     ]
    },
    {
     "data": {
      "text/plain": [
       "{'spreadsheetId': '16vUo6Q5csaAIMli4TbsKZxgSvfioc1nlRFm_3fZ-Cis',\n",
       " 'updatedRange': \"'Enviado 28.11'!A1:G17833\",\n",
       " 'updatedRows': 17833,\n",
       " 'updatedColumns': 7,\n",
       " 'updatedCells': 124831}"
      ]
     },
     "execution_count": 2,
     "metadata": {},
     "output_type": "execute_result"
    }
   ],
   "source": [
    "#TRABAJO EXCEL TERMINALES\n",
    "from xlsx2csv import Xlsx2csv\n",
    "from io import StringIO\n",
    "import pandas as pd\n",
    "path=r\"H:\\Mi unidad\\TRABAJO\\PROCESOS_AUTOMATICOS\\Script_Logistica\\ReporteTerminales 2022.11.21.xlsx\"\n",
    "def read_excel(path: str, sheet_name: str) -> pd.DataFrame:\n",
    "    buffer = StringIO()\n",
    "    Xlsx2csv(path, outputencoding=\"utf-8\", sheet_name=sheet_name).convert(buffer)\n",
    "    buffer.seek(0)\n",
    "    agentes = pd.read_csv(buffer)\n",
    "    return agentes\n",
    "terminales=read_excel(path,\"Hoja 1\")\n",
    "cabeza = terminales.iloc[0]\n",
    "terminales = terminales[1:]\n",
    "terminales.columns = cabeza\n",
    "terminales[\"x\"]=terminales[\"ARTÍCULO\"].str[0:6]\n",
    "lista = [\"AXIUM\",\"APOS A\",\"APOS M\",\"APOS D\",\"ICT220\",\"ICT250\"]\n",
    "condicion = terminales[\"x\"].isin(lista)\n",
    "terminales=terminales[condicion]\n",
    "lista2 = [\"Creado\",\"Enviada\"]\n",
    "condicion2 = terminales[\"ESTADO\"].isin(lista2)\n",
    "terminales=terminales[condicion2]\n",
    "terminales2=terminales\n",
    "terminales=terminales[[\"ARTÍCULO\",\"NÚMERO SERIE\",\"CANTIDAD\",\"ESTADO\",\"ACTUALIZADO\",\"TIPO\",\"TERMINAL/DNI/RUC\"]]\n",
    "terminales = terminales.fillna('')\n",
    "terminales = terminales.drop_duplicates(subset=\"NÚMERO SERIE\")\n",
    "\n",
    "#INSERTANDO DATOS EN GS ENVIADOS\n",
    "\n",
    "import pandas as pd \n",
    "import gspread\n",
    "from oauth2client.service_account import ServiceAccountCredentials\n",
    "gc = gspread.service_account(filename=\"H:\\Mi unidad\\LLAVES\\ActivarGoogleSheetIan.json\")\n",
    "gsheet = gc.open_by_url(\"https://docs.google.com/spreadsheets/d/16vUo6Q5csaAIMli4TbsKZxgSvfioc1nlRFm_3fZ-Cis\")\n",
    "wsheet = gsheet.worksheet(\"Enviado 28.11\")\n",
    "wsheet.update([terminales.columns.values.tolist()]+terminales.values.tolist())\n"
   ]
  },
  {
   "attachments": {},
   "cell_type": "markdown",
   "metadata": {},
   "source": [
    "### **TERMINALES - TERMINALES**\n"
   ]
  },
  {
   "cell_type": "code",
   "execution_count": 3,
   "metadata": {},
   "outputs": [
    {
     "data": {
      "text/plain": [
       "{'spreadsheetId': '1JYaYF64CIkWeyS3rpxmTN15WNae5yS0oPHIaXLUi21M',\n",
       " 'updatedRange': \"'Terminales 02.12'!A1:H16088\",\n",
       " 'updatedRows': 16088,\n",
       " 'updatedColumns': 8,\n",
       " 'updatedCells': 128704}"
      ]
     },
     "execution_count": 3,
     "metadata": {},
     "output_type": "execute_result"
    }
   ],
   "source": [
    "#TRABAJO EXCEL TERMINALES\n",
    "lista3 = [\"DNI\", \"Terminales\"]\n",
    "condicion3=terminales2[\"TIPO\"].isin(lista3)\n",
    "terminales2 =terminales2[condicion3]\n",
    "terminales2=terminales2[terminales2[\"TERMINAL/DNI/RUC\"].notnull()]\n",
    "terminales2=terminales2[['TIPO','TERMINAL/DNI/RUC','AGENTE/EJECUTIVO','UBICACIÓN','ESTADO_TERMINAL','FECHA_ACTUALIZACION_TERMINAL','Estado Personal','FECHA ACTUALIZACION PERSONAL']]\n",
    "terminales2 = terminales2.fillna('')\n",
    "terminales2 = terminales2.drop_duplicates(subset='TERMINAL/DNI/RUC')\n",
    "\n",
    "#INSERTANDO DATOS EN GS TERMINALES\n",
    "import pandas as pd \n",
    "import gspread\n",
    "from oauth2client.service_account import ServiceAccountCredentials\n",
    "gc = gspread.service_account(filename=\"H:\\Mi unidad\\LLAVES\\ActivarGoogleSheetIan.json\")\n",
    "gsheet = gc.open_by_url(\"https://docs.google.com/spreadsheets/d/1JYaYF64CIkWeyS3rpxmTN15WNae5yS0oPHIaXLUi21M\")\n",
    "wsheet = gsheet.worksheet(\"Terminales 02.12\")\n",
    "wsheet.update([terminales2.columns.values.tolist()]+terminales2.values.tolist())\n"
   ]
  },
  {
   "cell_type": "markdown",
   "metadata": {},
   "source": [
    "### **TABLA RESUMEN**"
   ]
  },
  {
   "cell_type": "code",
   "execution_count": 4,
   "metadata": {},
   "outputs": [],
   "source": [
    "#AGREGAR PESTAÑA\n",
    "import pandas as pd\n",
    "import gspread\n",
    "from oauth2client.service_account import ServiceAccountCredentials\n",
    "\n",
    "gc = gspread.service_account(filename=\"H:\\Mi unidad\\LLAVES\\ActivarGoogleSheetIan.json\")\n",
    "gsheet = gc.open_by_url(\"https://docs.google.com/spreadsheets/d/1JYaYF64CIkWeyS3rpxmTN15WNae5yS0oPHIaXLUi21M\")\n",
    "\n",
    "#CREAMOS LA PESTAÑA DEL RESUMEN\n",
    "#gsheet.add_worksheet(rows=20,cols=20,title='FINAL')\n",
    "\n",
    "pestaña = gsheet.worksheet(\"BD\").get_all_records()\n",
    "df= pd.DataFrame(pestaña)\n",
    "\n",
    "# INSTAURAMOS EL CONTROLADOR DE PESTAÑA\n",
    "wsheet = gsheet.worksheet(\"FINAL\")\n"
   ]
  },
  {
   "attachments": {},
   "cell_type": "markdown",
   "metadata": {},
   "source": [
    "### **OBTENCIÓN DE DATOS DE TABLA**"
   ]
  },
  {
   "cell_type": "code",
   "execution_count": 71,
   "metadata": {},
   "outputs": [],
   "source": [
    "#PIVOT CON NUMERO DE SERIE POR CADA ESTADO SG\n",
    "df1=df.pivot_table(values='NUMERO SERIE', index=[\"OC\",'MODELO'], columns=\"ESTADO SG\", aggfunc=\"count\",fill_value=0, margins=True)\n",
    "df1=df1.reset_index()\n",
    "\n",
    "#ASIGNANDO DATA\n",
    "df1_POS_DISP=df1[[\"MODELO\",\"Disponible\"]]\n",
    "df1 = df1[18:]\n",
    "df1_TOTAL_SG=df1\n",
    "df1_POS_INICIAL=df1[\"All\"]\n",
    "df1_ASIGNADOS=df[df[\"Tipo\"].isin([\"RUC(Empresa)\", \"RUC(Entidad Financiera)\"])]\n",
    "df1_ASIGNADOS_DNI=df[df[\"Tipo\"]==\"DNI\"]\n",
    "df1_INSTALADOS_1=df[(df[\"Estado terminal\"]==\"Instalado\") & (df[\"ESTADO SG\"].isin([\"Despachado\",\"Asignado\"]))]\n",
    "\n",
    "#POS FINAL DISPONIBLES\n",
    "df1_POS_DISP=df1_POS_DISP.replace(['ICT 220','ICT 250'], \"POS final (disponible) ICT\")\n",
    "df1_POS_DISP=df1_POS_DISP.replace(['APOS'], \"POS final (disponible) APOS\")\n",
    "df1_POS_DISP=df1_POS_DISP.replace(['DX8000'], \"POS final (disponible) DX8000\")\n",
    "df1_POS_DISP=df1_POS_DISP.groupby([\"MODELO\"])[\"Disponible\"].sum()\n",
    "df1_POS_DISP=df1_POS_DISP.reset_index()\n",
    "df1_POS_DISP=df1_POS_DISP.drop(df1_POS_DISP.index[0])\n",
    "df1_POS_DISP.columns=[\"DESCRIPCIÓN\",\"CANTIDAD\"]\n",
    "\n",
    "#POS INICIAL\n",
    "df1_POS_INICIAL=df1_POS_INICIAL.reset_index()\n",
    "df1_POS_INICIAL.columns=[\"DESCRIPCIÓN\",\"CANTIDAD\"]\n",
    "df1_POS_INICIAL[\"DESCRIPCIÓN\"]=\"POS INICIAL\"\n",
    "\n",
    "\n",
    "#TOTALES POR ESTADO SG\n",
    "df1_TOTAL_SG=df1_TOTAL_SG.drop([\"All\",\"OC\",\"MODELO\"], axis=1)\n",
    "df1_TOTAL_SG=df1_TOTAL_SG.transpose()\n",
    "df1_TOTAL_SG=df1_TOTAL_SG.reset_index()\n",
    "df1_TOTAL_SG.columns=[\"DESCRIPCIÓN\",\"CANTIDAD\"]\n",
    "df1_TOTAL_SG=df1_TOTAL_SG.replace('Bloqueado', \"Irreparables\")\n",
    "\n",
    "#POS Asignado a Empresas\n",
    "df1_ASIGNADOS=df1_ASIGNADOS.pivot_table(values='NUMERO SERIE', index=[\"OC\",'MODELO'], aggfunc=\"count\",fill_value=0, margins=True)\n",
    "df1_ASIGNADOS=df1_ASIGNADOS.reset_index()\n",
    "df1_ASIGNADOS=df1_ASIGNADOS[9:]\n",
    "df1_ASIGNADOS=df1_ASIGNADOS.drop(['OC', 'MODELO'],axis=1 )\n",
    "df1_ASIGNADOS=df1_ASIGNADOS.transpose()\n",
    "df1_ASIGNADOS=df1_ASIGNADOS.reset_index()\n",
    "df1_ASIGNADOS.columns=[\"DESCRIPCIÓN\",\"CANTIDAD\"]\n",
    "df1_ASIGNADOS=df1_ASIGNADOS.replace('NUMERO SERIE', \"Asignados a Clientes\")\n",
    "\n",
    "\n",
    "#POS Asignado a Personal Activo y Cesado\n",
    "df1_ASIGNADOS_DNI=df1_ASIGNADOS_DNI.pivot_table(values='NUMERO SERIE', index=[\"OC\",'MODELO'], aggfunc=\"count\",columns=\"tipo DNI\",fill_value=0, margins=True)\n",
    "df1_ASIGNADOS_DNI=df1_ASIGNADOS_DNI.reset_index()\n",
    "df1_ASIGNADOS_DNI=df1_ASIGNADOS_DNI[13:]\n",
    "df1_ASIGNADOS_DNI=df1_ASIGNADOS_DNI.transpose()\n",
    "df1_ASIGNADOS_DNI=df1_ASIGNADOS_DNI.reset_index()\n",
    "df1_ASIGNADOS_DNI=df1_ASIGNADOS_DNI[3:5]\n",
    "df1_ASIGNADOS_DNI.columns=[\"DESCRIPCIÓN\",\"CANTIDAD\"]\n",
    "df1_ASIGNADOS_DNI=df1_ASIGNADOS_DNI.replace('Activo', \"Asignados al Personal\")\n",
    "df1_ASIGNADOS_DNI=df1_ASIGNADOS_DNI.replace('Cesado', \"Asignados al Personal Cesado\")\n",
    "\n",
    "\n",
    "\n",
    "#Instalados AKN (1) y (+2)\n",
    "df1_INSTALADOS_1=df1_INSTALADOS_1.pivot_table(values='NUMERO SERIE', index=[\"OC\",'MODELO'], aggfunc=\"count\",columns=\"x\",fill_value=0, margins=True)\n",
    "df1_INSTALADOS_2=df1_INSTALADOS_1\n",
    "df1_INSTALADOS_1=df1_INSTALADOS_1.reset_index()\n",
    "df1_INSTALADOS_1=df1_INSTALADOS_1.replace('ICT 220', \"Instalados AKN (1) ICT\")\n",
    "df1_INSTALADOS_1=df1_INSTALADOS_1.replace('ICT 250', \"Instalados AKN (1) ICT\")\n",
    "df1_INSTALADOS_1=df1_INSTALADOS_1.replace('APOS', \"Instalados AKN (1) APOS\")\n",
    "df1_INSTALADOS_1=df1_INSTALADOS_1.groupby(\"MODELO\").sum()\n",
    "df1_INSTALADOS_1=df1_INSTALADOS_1.reset_index()\n",
    "df1_INSTALADOS_1=df1_INSTALADOS_1.drop(0, axis=0)\n",
    "df1_INSTALADOS_1=df1_INSTALADOS_1.drop([2,3,\"All\"], axis=1)\n",
    "df1_INSTALADOS_1.columns=[\"DESCRIPCIÓN\",\"CANTIDAD\"]\n",
    "\n",
    "\n",
    "df1_INSTALADOS_2[\"SUMA\"]=df1_INSTALADOS_2[2]+df1_INSTALADOS_2[3]\n",
    "df1_INSTALADOS_2=df1_INSTALADOS_2.reset_index()\n",
    "df1_INSTALADOS_2=df1_INSTALADOS_2.drop([\"All\",1,2,3], axis=1)\n",
    "df1_INSTALADOS_2=df1_INSTALADOS_2.replace('ICT 250', \"Instalados AKN (+1)\")\n",
    "df1_INSTALADOS_2=df1_INSTALADOS_2.replace('ICT 220', \"Instalados AKN (+1)\")\n",
    "df1_INSTALADOS_2=df1_INSTALADOS_2.replace('APOS', \"Instalados AKN (+1)\")\n",
    "df1_INSTALADOS_2=df1_INSTALADOS_2.groupby(\"MODELO\").sum()\n",
    "df1_INSTALADOS_2=df1_INSTALADOS_2.reset_index()\n",
    "df1_INSTALADOS_2=df1_INSTALADOS_2.drop(0, axis=0)\n",
    "df1_INSTALADOS_2.columns=[\"DESCRIPCIÓN\",\"CANTIDAD\"]\n"
   ]
  },
  {
   "attachments": {},
   "cell_type": "markdown",
   "metadata": {},
   "source": [
    "### **SUBIENDO ARCHIVOS**"
   ]
  },
  {
   "cell_type": "code",
   "execution_count": 72,
   "metadata": {},
   "outputs": [
    {
     "name": "stdout",
     "output_type": "stream",
     "text": [
      "                      DESCRIPCIÓN  CANTIDAD\n",
      "0                     POS INICIAL     24589\n",
      "1                        Asignado       131\n",
      "2                    Irreparables       609\n",
      "3                         De baja       622\n",
      "4                      Despachado     17049\n",
      "5                      Disponible      4171\n",
      "6                En mantenimiento       217\n",
      "7                       Malogrado      1554\n",
      "8                      Por Ubicar       236\n",
      "9     POS final (disponible) APOS      2401\n",
      "10  POS final (disponible) DX8000        24\n",
      "11     POS final (disponible) ICT      1746\n",
      "12           Asignados a Clientes        66\n",
      "13          Asignados al Personal        64\n",
      "14   Asignados al Personal Cesado        84\n",
      "15        Instalados AKN (1) APOS      7094\n",
      "16         Instalados AKN (1) ICT      3211\n",
      "17            Instalados AKN (+1)      1902\n"
     ]
    },
    {
     "data": {
      "text/plain": [
       "{'spreadsheetId': '1JYaYF64CIkWeyS3rpxmTN15WNae5yS0oPHIaXLUi21M',\n",
       " 'updatedRange': 'FINAL!A1:B19',\n",
       " 'updatedRows': 19,\n",
       " 'updatedColumns': 2,\n",
       " 'updatedCells': 38}"
      ]
     },
     "execution_count": 72,
     "metadata": {},
     "output_type": "execute_result"
    }
   ],
   "source": [
    "#UNIENDO ALL Y SUBIENDO\n",
    "total=pd.concat([df1_POS_INICIAL,df1_TOTAL_SG,df1_POS_DISP,df1_ASIGNADOS,df1_ASIGNADOS_DNI,df1_INSTALADOS_1,df1_INSTALADOS_2])\n",
    "total=total.reset_index()\n",
    "total=total.drop(\"index\", axis=1)\n",
    "print(total)\n",
    "#total=total.reindex([1,2,3,4])\n",
    "\n",
    "wsheet.update([total.columns.values.tolist()]+total.values.tolist())"
   ]
  }
 ],
 "metadata": {
  "kernelspec": {
   "display_name": "Python 3.10.5 64-bit",
   "language": "python",
   "name": "python3"
  },
  "language_info": {
   "codemirror_mode": {
    "name": "ipython",
    "version": 3
   },
   "file_extension": ".py",
   "mimetype": "text/x-python",
   "name": "python",
   "nbconvert_exporter": "python",
   "pygments_lexer": "ipython3",
   "version": "3.10.5 (tags/v3.10.5:f377153, Jun  6 2022, 16:14:13) [MSC v.1929 64 bit (AMD64)]"
  },
  "orig_nbformat": 4,
  "vscode": {
   "interpreter": {
    "hash": "2f501586d3d6585364b3c782eb6f8798ead6c56dd0ce00d45a4fd8b1c0d4f0e6"
   }
  }
 },
 "nbformat": 4,
 "nbformat_minor": 2
}
