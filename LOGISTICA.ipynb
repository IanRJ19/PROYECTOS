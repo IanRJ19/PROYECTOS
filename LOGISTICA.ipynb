{
 "cells": [
  {
   "cell_type": "markdown",
   "metadata": {},
   "source": [
    "### **LECTURA Y TRABAJO DE ARTICULOS**"
   ]
  },
  {
   "cell_type": "code",
   "execution_count": 9,
   "metadata": {},
   "outputs": [
    {
     "name": "stdout",
     "output_type": "stream",
     "text": [
      "Index(['CATEGORÍA', 'ARTÍCULO', 'NUMERO SERIE', 'STOCK', 'ESTADO'], dtype='object', name=0)\n",
      "0      CATEGORÍA              ARTÍCULO     NUMERO SERIE STOCK      ESTADO  \\\n",
      "78152        POS         APOS A8 11/19    192UFA80C0783     1     De baja   \n",
      "78153        POS         APOS A8 11/19     192UFA8C0783     1  Disponible   \n",
      "78154        POS         APOS A8 11/19     192UFA8C0791     1  Disponible   \n",
      "78155        POS         APOS A8 11/19     1941CA8T1528     1  Despachado   \n",
      "78156        POS         APOS A8 11/19     1941CA8T1529     1  Despachado   \n",
      "...          ...                   ...              ...   ...         ...   \n",
      "115559       POS  ICT250-11P3835A/1019  18201CT32347373     1  Despachado   \n",
      "115560       POS  ICT250-11P3835A/1019  18201CT32347374     1  Despachado   \n",
      "115561       POS  ICT250-11P3835A/1019  18201CT32347376     1  Despachado   \n",
      "115562       POS  ICT250-11P3835A/1019  18201CT32347379     1  Despachado   \n",
      "115563       POS  ICT250-11P3835A/1019  18201CT32347403     1  Despachado   \n",
      "\n",
      "0       MODELO  \n",
      "78152   APOS A  \n",
      "78153   APOS A  \n",
      "78154   APOS A  \n",
      "78155   APOS A  \n",
      "78156   APOS A  \n",
      "...        ...  \n",
      "115559  ICT250  \n",
      "115560  ICT250  \n",
      "115561  ICT250  \n",
      "115562  ICT250  \n",
      "115563  ICT250  \n",
      "\n",
      "[24565 rows x 6 columns]\n"
     ]
    }
   ],
   "source": [
    "from xlsx2csv import Xlsx2csv\n",
    "from io import StringIO\n",
    "import pandas as pd\n",
    "\n",
    "path=r\"H:\\Mi unidad\\TRABAJO\\PROCESOS_AUTOMATICOS\\Script_Logistica\\ReporteArticulos 2022.11.21.xlsx\"\n",
    "def read_excel(path: str, sheet_name: str) -> pd.DataFrame:\n",
    "    buffer = StringIO()\n",
    "    Xlsx2csv(path, outputencoding=\"utf-8\", sheet_name=sheet_name).convert(buffer)\n",
    "    buffer.seek(0)\n",
    "    agentes = pd.read_csv(buffer)\n",
    "    return agentes\n",
    "\n",
    "articulos=read_excel(path,\"Hoja 1\")\n",
    "\n",
    "\n",
    "cabeza = articulos.iloc[0]\n",
    "articulos = articulos[1:]\n",
    "articulos.columns = cabeza\n",
    "\n",
    "print(articulos.columns)\n",
    "\n",
    "articulos[\"MODELO\"]=articulos[\"ARTÍCULO\"].str[0:6]\n",
    "lista = [\"AXIUM\",\"APOS A\",\"APOS M\",\"APOS D\",\"ICT220\",\"ICT250\"]\n",
    "condicion = articulos[\"MODELO\"].isin(lista)\n",
    "articulos=articulos[condicion]\n",
    "articulos=articulos.drop_duplicates(subset='NUMERO SERIE')\n",
    "print(articulos)\n"
   ]
  },
  {
   "cell_type": "markdown",
   "metadata": {},
   "source": [
    "### **LECTURA Y TRABAJO DE TERMINALES**"
   ]
  },
  {
   "cell_type": "code",
   "execution_count": 10,
   "metadata": {},
   "outputs": [
    {
     "name": "stderr",
     "output_type": "stream",
     "text": [
      "C:\\Users\\Rayzek\\AppData\\Local\\Temp\\ipykernel_13936\\3290805751.py:10: DtypeWarning: Columns (1,6,11,12) have mixed types. Specify dtype option on import or set low_memory=False.\n",
      "  agentes = pd.read_csv(buffer)\n"
     ]
    },
    {
     "name": "stdout",
     "output_type": "stream",
     "text": [
      "Index(['TIPO', 'TERMINAL/DNI/RUC', 'AGENTE/EJECUTIVO', 'UBICACIÓN', 'ARTÍCULO',\n",
      "       'NÚMERO SERIE', 'CANTIDAD', 'ESTADO', 'ACTUALIZADO', 'ESTADO_TERMINAL',\n",
      "       'FECHA_ACTUALIZACION_TERMINAL', 'Estado Personal',\n",
      "       'FECHA ACTUALIZACION PERSONAL'],\n",
      "      dtype='object', name=0)\n",
      "0           TIPO TERMINAL/DNI/RUC AGENTE/EJECUTIVO UBICACIÓN  \\\n",
      "3   RUC(Empresa)              NaN              NaN       NaN   \n",
      "19    Terminales         00030101              NaN       NaN   \n",
      "68    Terminales         00030102              NaN       NaN   \n",
      "71    Terminales         00030102              NaN       NaN   \n",
      "77    Terminales         00030104              NaN       NaN   \n",
      "\n",
      "0                          ARTÍCULO     NÚMERO SERIE CANTIDAD   ESTADO  \\\n",
      "3   ICT220 TELIUM 3 - 11P2759A/1218  18275CT81750089        1   Creado   \n",
      "19           APOS A8 PRO-95D2 04/20     203MCA114733        1  Enviada   \n",
      "68           APOS A8 PRO-95D2 06/20     204UCA124564        1  Enviada   \n",
      "71   ICT220 TELIUM 3 -11T2758A/0617  17093CT26386524        1  Enviada   \n",
      "77            ICT220-01P1793F/ 0715  13268CT31515651        1  Enviada   \n",
      "\n",
      "0  ACTUALIZADO ESTADO_TERMINAL FECHA_ACTUALIZACION_TERMINAL Estado Personal  \\\n",
      "3          NaN             NaN                          NaN             NaN   \n",
      "19  18/08/2020       Instalado                   12/12/2009             NaN   \n",
      "68  07/10/2020       Instalado                   12/12/2009             NaN   \n",
      "71  07/10/2020       Instalado                   12/12/2009             NaN   \n",
      "77  08/02/2022      Pre Agente                   02/09/2016             NaN   \n",
      "\n",
      "0  FECHA ACTUALIZACION PERSONAL       x  \n",
      "3                           NaN  ICT220  \n",
      "19                          NaN  APOS A  \n",
      "68                          NaN  APOS A  \n",
      "71                          NaN  ICT220  \n",
      "77                          NaN  ICT220  \n",
      "0                              ARTÍCULO     NÚMERO SERIE CANTIDAD   ESTADO  \\\n",
      "3       ICT220 TELIUM 3 - 11P2759A/1218  18275CT81750089        1   Creado   \n",
      "19               APOS A8 PRO-95D2 04/20     203MCA114733        1  Enviada   \n",
      "68               APOS A8 PRO-95D2 06/20     204UCA124564        1  Enviada   \n",
      "71       ICT220 TELIUM 3 -11T2758A/0617  17093CT26386524        1  Enviada   \n",
      "77                ICT220-01P1793F/ 0715  13268CT31515651        1  Enviada   \n",
      "...                                 ...              ...      ...      ...   \n",
      "757687           APOS A8 PRO-95D2 02/21     2116CA1C1640      1.0  Enviada   \n",
      "757798           APOS A8 PRO-95D2 06/20     205TCA137174      1.0  Enviada   \n",
      "757821   ICT220 TELIUM 3 -11T2758A/1016  16140CT25478661      1.0  Enviada   \n",
      "757844           APOS A8 PRO-95D2 02/21     2116CA1C1855      1.0  Enviada   \n",
      "757869           APOS A8 PRO-95D2 02/21     2116CA1C1414      1.0  Enviada   \n",
      "\n",
      "0      ACTUALIZADO          TIPO TERMINAL/DNI/RUC  \n",
      "3                   RUC(Empresa)                   \n",
      "19      18/08/2020    Terminales         00030101  \n",
      "68      07/10/2020    Terminales         00030102  \n",
      "71      07/10/2020    Terminales         00030102  \n",
      "77      08/02/2022    Terminales         00030104  \n",
      "...            ...           ...              ...  \n",
      "757687  02/06/2021    Terminales         99910102  \n",
      "757798  19/01/2021    Terminales         99960102  \n",
      "757821  08/09/2018    Terminales         99970102  \n",
      "757844  03/06/2021    Terminales         99980103  \n",
      "757869  07/05/2021    Terminales         99990102  \n",
      "\n",
      "[17832 rows x 7 columns]\n"
     ]
    }
   ],
   "source": [
    "from xlsx2csv import Xlsx2csv\n",
    "from io import StringIO\n",
    "import pandas as pd\n",
    "\n",
    "path=r\"H:\\Mi unidad\\TRABAJO\\PROCESOS_AUTOMATICOS\\Script_Logistica\\ReporteTerminales 2022.11.21.xlsx\"\n",
    "def read_excel(path: str, sheet_name: str) -> pd.DataFrame:\n",
    "    buffer = StringIO()\n",
    "    Xlsx2csv(path, outputencoding=\"utf-8\", sheet_name=sheet_name).convert(buffer)\n",
    "    buffer.seek(0)\n",
    "    agentes = pd.read_csv(buffer)\n",
    "    return agentes\n",
    "\n",
    "terminales=read_excel(path,\"Hoja 1\")\n",
    "\n",
    "cabeza = terminales.iloc[0]\n",
    "terminales = terminales[1:]\n",
    "terminales.columns = cabeza\n",
    "\n",
    "print(terminales.columns)\n",
    "\n",
    "terminales[\"x\"]=terminales[\"ARTÍCULO\"].str[0:6]\n",
    "lista = [\"AXIUM\",\"APOS A\",\"APOS M\",\"APOS D\",\"ICT220\",\"ICT250\"]\n",
    "condicion = terminales[\"x\"].isin(lista)\n",
    "terminales=terminales[condicion]\n",
    "\n",
    "lista2 = [\"Creado\",\"Enviada\"]\n",
    "condicion2 = terminales[\"ESTADO\"].isin(lista2)\n",
    "terminales=terminales[condicion2]\n",
    "terminales2=terminales\n",
    "print(terminales.head())\n",
    "terminales=terminales[[\"ARTÍCULO\",\"NÚMERO SERIE\",\"CANTIDAD\",\"ESTADO\",\"ACTUALIZADO\",\"TIPO\",\"TERMINAL/DNI/RUC\"]]\n",
    "terminales = terminales.fillna('')\n",
    "terminales = terminales.drop_duplicates(subset=\"NÚMERO SERIE\")\n",
    "\n",
    "print(terminales)\n"
   ]
  },
  {
   "cell_type": "markdown",
   "metadata": {},
   "source": [
    "### **LECTURA Y TRABAJO DE TERMINALES PARTE 2**\n"
   ]
  },
  {
   "cell_type": "code",
   "execution_count": 11,
   "metadata": {},
   "outputs": [
    {
     "name": "stdout",
     "output_type": "stream",
     "text": [
      "0          TIPO TERMINAL/DNI/RUC AGENTE/EJECUTIVO UBICACIÓN ESTADO_TERMINAL  \\\n",
      "19   Terminales         00030101                                  Instalado   \n",
      "68   Terminales         00030102                                  Instalado   \n",
      "77   Terminales         00030104                                 Pre Agente   \n",
      "84   Terminales         00030106                                 Pre Agente   \n",
      "104  Terminales         00030108                                 Pre Agente   \n",
      "\n",
      "0   FECHA_ACTUALIZACION_TERMINAL Estado Personal FECHA ACTUALIZACION PERSONAL  \n",
      "19                    12/12/2009                                               \n",
      "68                    12/12/2009                                               \n",
      "77                    02/09/2016                                               \n",
      "84                    01/08/2017                                               \n",
      "104                   01/08/2017                                               \n"
     ]
    }
   ],
   "source": [
    "lista3 = [\"DNI\", \"Terminales\"]\n",
    "condicion3=terminales2[\"TIPO\"].isin(lista3)\n",
    "terminales2 =terminales2[condicion3]\n",
    "\n",
    "terminales2=terminales2[terminales2[\"TERMINAL/DNI/RUC\"].notnull()]\n",
    "\n",
    "\n",
    "terminales2=terminales2[['TIPO','TERMINAL/DNI/RUC','AGENTE/EJECUTIVO','UBICACIÓN','ESTADO_TERMINAL','FECHA_ACTUALIZACION_TERMINAL','Estado Personal','FECHA ACTUALIZACION PERSONAL']]\n",
    "\n",
    "terminales2 = terminales2.fillna('')\n",
    "terminales2 = terminales2.drop_duplicates(subset='TERMINAL/DNI/RUC')\n",
    "print(terminales2.head())\n",
    "\n"
   ]
  },
  {
   "cell_type": "markdown",
   "metadata": {},
   "source": [
    "### **INSERTANDO DATOS EN GS ARTICULOS**"
   ]
  },
  {
   "cell_type": "code",
   "execution_count": 12,
   "metadata": {},
   "outputs": [
    {
     "data": {
      "text/plain": [
       "{'spreadsheetId': '16vUo6Q5csaAIMli4TbsKZxgSvfioc1nlRFm_3fZ-Cis',\n",
       " 'updatedRange': \"'articulos 28.11'!A1:F24566\",\n",
       " 'updatedRows': 24566,\n",
       " 'updatedColumns': 6,\n",
       " 'updatedCells': 147396}"
      ]
     },
     "execution_count": 12,
     "metadata": {},
     "output_type": "execute_result"
    }
   ],
   "source": [
    "import pandas as pd \n",
    "import gspread\n",
    "from oauth2client.service_account import ServiceAccountCredentials\n",
    "\n",
    "gc = gspread.service_account(filename=\"H:\\Mi unidad\\LLAVES\\ActivarGoogleSheetIan.json\")\n",
    "\n",
    "gsheet = gc.open_by_url(\"https://docs.google.com/spreadsheets/d/16vUo6Q5csaAIMli4TbsKZxgSvfioc1nlRFm_3fZ-Cis\")\n",
    "wsheet = gsheet.worksheet(\"articulos 28.11\")\n",
    "wsheet.update([articulos.columns.values.tolist()]+articulos.values.tolist())"
   ]
  },
  {
   "cell_type": "markdown",
   "metadata": {},
   "source": [
    "### **INSERTANDO DATOS EN GS ENVIADOS**"
   ]
  },
  {
   "cell_type": "code",
   "execution_count": 13,
   "metadata": {},
   "outputs": [
    {
     "name": "stdout",
     "output_type": "stream",
     "text": [
      "<class 'pandas.core.frame.DataFrame'>\n",
      "Int64Index: 17832 entries, 3 to 757869\n",
      "Data columns (total 7 columns):\n",
      " #   Column            Non-Null Count  Dtype \n",
      "---  ------            --------------  ----- \n",
      " 0   ARTÍCULO          17832 non-null  object\n",
      " 1   NÚMERO SERIE      17832 non-null  object\n",
      " 2   CANTIDAD          17832 non-null  object\n",
      " 3   ESTADO            17832 non-null  object\n",
      " 4   ACTUALIZADO       17832 non-null  object\n",
      " 5   TIPO              17832 non-null  object\n",
      " 6   TERMINAL/DNI/RUC  17832 non-null  object\n",
      "dtypes: object(7)\n",
      "memory usage: 1.1+ MB\n",
      "None\n"
     ]
    },
    {
     "data": {
      "text/plain": [
       "{'spreadsheetId': '16vUo6Q5csaAIMli4TbsKZxgSvfioc1nlRFm_3fZ-Cis',\n",
       " 'updatedRange': \"'Enviado 28.11'!A1:G17833\",\n",
       " 'updatedRows': 17833,\n",
       " 'updatedColumns': 7,\n",
       " 'updatedCells': 124831}"
      ]
     },
     "execution_count": 13,
     "metadata": {},
     "output_type": "execute_result"
    }
   ],
   "source": [
    "import pandas as pd \n",
    "import gspread\n",
    "from oauth2client.service_account import ServiceAccountCredentials\n",
    "\n",
    "gc = gspread.service_account(filename=\"H:\\Mi unidad\\LLAVES\\ActivarGoogleSheetIan.json\")\n",
    "\n",
    "gsheet = gc.open_by_url(\"https://docs.google.com/spreadsheets/d/16vUo6Q5csaAIMli4TbsKZxgSvfioc1nlRFm_3fZ-Cis\")\n",
    "wsheet = gsheet.worksheet(\"Enviado 28.11\")\n",
    "\n",
    "print(terminales.info())\n",
    "wsheet.update([terminales.columns.values.tolist()]+terminales.values.tolist())"
   ]
  },
  {
   "cell_type": "markdown",
   "metadata": {},
   "source": [
    "### **INSERTANDO DATOS EN GS TERMINALES**"
   ]
  },
  {
   "cell_type": "code",
   "execution_count": 14,
   "metadata": {},
   "outputs": [
    {
     "name": "stdout",
     "output_type": "stream",
     "text": [
      "<class 'pandas.core.frame.DataFrame'>\n",
      "Int64Index: 16087 entries, 19 to 757869\n",
      "Data columns (total 8 columns):\n",
      " #   Column                        Non-Null Count  Dtype \n",
      "---  ------                        --------------  ----- \n",
      " 0   TIPO                          16087 non-null  object\n",
      " 1   TERMINAL/DNI/RUC              16087 non-null  object\n",
      " 2   AGENTE/EJECUTIVO              16087 non-null  object\n",
      " 3   UBICACIÓN                     16087 non-null  object\n",
      " 4   ESTADO_TERMINAL               16087 non-null  object\n",
      " 5   FECHA_ACTUALIZACION_TERMINAL  16087 non-null  object\n",
      " 6   Estado Personal               16087 non-null  object\n",
      " 7   FECHA ACTUALIZACION PERSONAL  16087 non-null  object\n",
      "dtypes: object(8)\n",
      "memory usage: 1.1+ MB\n",
      "None\n"
     ]
    },
    {
     "data": {
      "text/plain": [
       "{'spreadsheetId': '16vUo6Q5csaAIMli4TbsKZxgSvfioc1nlRFm_3fZ-Cis',\n",
       " 'updatedRange': \"'Terminales 28.11'!A1:H16088\",\n",
       " 'updatedRows': 16088,\n",
       " 'updatedColumns': 8,\n",
       " 'updatedCells': 128704}"
      ]
     },
     "execution_count": 14,
     "metadata": {},
     "output_type": "execute_result"
    }
   ],
   "source": [
    "import pandas as pd \n",
    "import gspread\n",
    "from oauth2client.service_account import ServiceAccountCredentials\n",
    "\n",
    "gc = gspread.service_account(filename=\"H:\\Mi unidad\\LLAVES\\ActivarGoogleSheetIan.json\")\n",
    "\n",
    "gsheet = gc.open_by_url(\"https://docs.google.com/spreadsheets/d/16vUo6Q5csaAIMli4TbsKZxgSvfioc1nlRFm_3fZ-Cis\")\n",
    "wsheet = gsheet.worksheet(\"Terminales 28.11\")\n",
    "\n",
    "print(terminales2.info())\n",
    "wsheet.update([terminales2.columns.values.tolist()]+terminales2.values.tolist())"
   ]
  },
  {
   "cell_type": "code",
   "execution_count": 49,
   "metadata": {},
   "outputs": [],
   "source": [
    "#AGREGAR PESTAÑA\n",
    "import pandas as pd\n",
    "gsheet.add_worksheet(rows=20,cols=20,title='FINAL')\n",
    "pestaña = gsheet.worksheet(\"BD\").get_all_records()\n",
    "df= pd.DataFrame(pestaña)\n",
    "\n",
    "wsheet = gsheet.worksheet(\"FINAL\")\n",
    "\n",
    "\n"
   ]
  },
  {
   "cell_type": "code",
   "execution_count": 163,
   "metadata": {},
   "outputs": [
    {
     "name": "stdout",
     "output_type": "stream",
     "text": [
      "Index(['OC', 'MODELO', '-', 'Asignado', 'Bloqueado', 'De baja', 'Despachado',\n",
      "       'Disponible', 'En mantenimiento', 'Malogrado', 'Por Ubicar', 'All'],\n",
      "      dtype='object', name='ESTADO SG')\n",
      "                     DESCRIPCIÓN  CANTIDAD\n",
      "0                    POS INICIAL     24589\n",
      "0                       Asignado       195\n",
      "1                      Bloqueado       751\n",
      "2                        De baja       622\n",
      "3                     Despachado     17636\n",
      "4                     Disponible      3791\n",
      "5               En mantenimiento       218\n",
      "6                      Malogrado      1116\n",
      "7                     Por Ubicar       236\n",
      "1    POS final (disponible) APOS      2441\n",
      "2  POS final (disponible) DX8000         0\n",
      "3     POS final (disponible) ICT      1350\n"
     ]
    },
    {
     "data": {
      "text/plain": [
       "{'spreadsheetId': '16vUo6Q5csaAIMli4TbsKZxgSvfioc1nlRFm_3fZ-Cis',\n",
       " 'updatedRange': 'FINAL!A1:B13',\n",
       " 'updatedRows': 13,\n",
       " 'updatedColumns': 2,\n",
       " 'updatedCells': 26}"
      ]
     },
     "execution_count": 163,
     "metadata": {},
     "output_type": "execute_result"
    }
   ],
   "source": [
    "#PARTE 1 DEL RESUMEN\n",
    "import numpy as np\n",
    "\n",
    "#REALIZANDO PRIMERA TABLA PIVOT\n",
    "\n",
    "df1=df.pivot_table(values='NUMERO SERIE', index=[\"OC\",'MODELO'], columns=\"ESTADO SG\", aggfunc=\"count\",fill_value=0, margins=True)\n",
    "#df2=df.pivot_table(values='NUMERO SERIE', index=[\"OC\",'MODELO'], columns=\"Estado terminal\", aggfunc=\"count\",fill_value=0, margins=True)\n",
    "df1=df1.reset_index()\n",
    "print(df1.columns)\n",
    "\n",
    "df1_disponibles=df1[[\"MODELO\",\"Disponible\"]]\n",
    "#COGIENDO SOLO TOTALES\n",
    "\n",
    "df1 = df1[18:]\n",
    "\n",
    "df1_total=df1[\"All\"]\n",
    "\n",
    "df1=df1.drop(['-',\"All\",\"OC\",\"MODELO\"], axis=1)\n",
    "df1=df1.transpose()\n",
    "df1=df1.reset_index()\n",
    "\n",
    "df1.columns=[\"DESCRIPCIÓN\",\"CANTIDAD\"]\n",
    "\n",
    "\n",
    "\n",
    "\n",
    "### POS INICIAL\n",
    "df1_total=df1_total.reset_index()\n",
    "df1_total.columns=[\"DESCRIPCIÓN\",\"CANTIDAD\"]\n",
    "df1_total[\"DESCRIPCIÓN\"]=\"POS INICIAL\"\n",
    "\n",
    "\n",
    "### POS DISPONIBLES\n",
    "\n",
    "df1_disponibles=df1_disponibles.replace(['ICT 220','ICT 250'], \"POS final (disponible) ICT\")\n",
    "df1_disponibles=df1_disponibles.replace(['APOS'], \"POS final (disponible) APOS\")\n",
    "df1_disponibles=df1_disponibles.replace(['DX8000'], \"POS final (disponible) DX8000\")\n",
    "df1_disponibles=df1_disponibles.groupby([\"MODELO\"])[\"Disponible\"].sum()\n",
    "df1_disponibles=df1_disponibles.reset_index()\n",
    "df1_disponibles=df1_disponibles.drop(df1_disponibles.index[0])\n",
    "df1_disponibles.columns=[\"DESCRIPCIÓN\",\"CANTIDAD\"]\n",
    "\n",
    "\n",
    "### UNIENDO ALL Y SUBIENDO\n",
    "total=pd.concat([df1_total,df1,df1_disponibles])\n",
    "print(total)\n",
    "wsheet.update([total.columns.values.tolist()]+total.values.tolist())\n",
    "\n"
   ]
  }
 ],
 "metadata": {
  "kernelspec": {
   "display_name": "Python 3.10.5 64-bit",
   "language": "python",
   "name": "python3"
  },
  "language_info": {
   "codemirror_mode": {
    "name": "ipython",
    "version": 3
   },
   "file_extension": ".py",
   "mimetype": "text/x-python",
   "name": "python",
   "nbconvert_exporter": "python",
   "pygments_lexer": "ipython3",
   "version": "3.10.5"
  },
  "orig_nbformat": 4,
  "vscode": {
   "interpreter": {
    "hash": "2f501586d3d6585364b3c782eb6f8798ead6c56dd0ce00d45a4fd8b1c0d4f0e6"
   }
  }
 },
 "nbformat": 4,
 "nbformat_minor": 2
}
