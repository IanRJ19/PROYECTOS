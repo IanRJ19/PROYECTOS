{
 "cells": [
  {
   "cell_type": "code",
   "execution_count": 1,
   "metadata": {},
   "outputs": [
    {
     "ename": "TypeError",
     "evalue": "cross_val_score() got an unexpected keyword argument 'n_iter'",
     "output_type": "error",
     "traceback": [
      "\u001b[1;31m---------------------------------------------------------------------------\u001b[0m",
      "\u001b[1;31mTypeError\u001b[0m                                 Traceback (most recent call last)",
      "Cell \u001b[1;32mIn[1], line 18\u001b[0m\n\u001b[0;32m     15\u001b[0m clf \u001b[39m=\u001b[39m MLPClassifier()\n\u001b[0;32m     17\u001b[0m \u001b[39m# Run the Monte Carlo cross-validation\u001b[39;00m\n\u001b[1;32m---> 18\u001b[0m scores \u001b[39m=\u001b[39m cross_val_score(clf, X, y, cv\u001b[39m=\u001b[39;49m\u001b[39m5\u001b[39;49m, n_iter\u001b[39m=\u001b[39;49m\u001b[39m10\u001b[39;49m, scoring\u001b[39m=\u001b[39;49m\u001b[39m'\u001b[39;49m\u001b[39maccuracy\u001b[39;49m\u001b[39m'\u001b[39;49m,\n\u001b[0;32m     19\u001b[0m                          fit_params\u001b[39m=\u001b[39;49mparam_grid)\n\u001b[0;32m     21\u001b[0m \u001b[39m# Print the mean and standard deviation of the scores\u001b[39;00m\n\u001b[0;32m     22\u001b[0m \u001b[39mprint\u001b[39m(\u001b[39m\"\u001b[39m\u001b[39mAccuracy: \u001b[39m\u001b[39m%0.2f\u001b[39;00m\u001b[39m (+/- \u001b[39m\u001b[39m%0.2f\u001b[39;00m\u001b[39m)\u001b[39m\u001b[39m\"\u001b[39m \u001b[39m%\u001b[39m (scores\u001b[39m.\u001b[39mmean(), scores\u001b[39m.\u001b[39mstd() \u001b[39m*\u001b[39m \u001b[39m2\u001b[39m))\n",
      "\u001b[1;31mTypeError\u001b[0m: cross_val_score() got an unexpected keyword argument 'n_iter'"
     ]
    }
   ],
   "source": [
    "from sklearn.neural_network import MLPClassifier\n",
    "from sklearn.datasets import make_classification\n",
    "from sklearn.model_selection import cross_val_score\n",
    "import numpy as np\n",
    "\n",
    "# Generate some sample data\n",
    "X, y = make_classification(n_features=10, n_classes=2)\n",
    "\n",
    "# Define the parameter grid\n",
    "param_grid = {'hidden_layer_sizes': np.random.randint(low=1, high=100, size=(100, 2)),\n",
    "              'activation': ['logistic', 'relu'],\n",
    "              'solver': ['sgd', 'adam']}\n",
    "\n",
    "# Create the model\n",
    "clf = MLPClassifier()\n",
    "\n",
    "# Run the Monte Carlo cross-validation\n",
    "scores = cross_val_score(clf, X, y, cv=5, n_iter=10, scoring='accuracy',\n",
    "                         fit_params=param_grid)\n",
    "\n",
    "# Print the mean and standard deviation of the scores\n",
    "print(\"Accuracy: %0.2f (+/- %0.2f)\" % (scores.mean(), scores.std() * 2))\n"
   ]
  }
 ],
 "metadata": {
  "kernelspec": {
   "display_name": "Python 3",
   "language": "python",
   "name": "python3"
  },
  "language_info": {
   "codemirror_mode": {
    "name": "ipython",
    "version": 3
   },
   "file_extension": ".py",
   "mimetype": "text/x-python",
   "name": "python",
   "nbconvert_exporter": "python",
   "pygments_lexer": "ipython3",
   "version": "3.11.1"
  },
  "orig_nbformat": 4,
  "vscode": {
   "interpreter": {
    "hash": "4c83effe7cbd256c251341e1a7a60577a105e3f6e55bb04204cded4302b00ede"
   }
  }
 },
 "nbformat": 4,
 "nbformat_minor": 2
}
