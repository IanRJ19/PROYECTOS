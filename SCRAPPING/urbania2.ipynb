{
 "cells": [
  {
   "cell_type": "code",
   "execution_count": 3,
   "metadata": {},
   "outputs": [
    {
     "name": "stdout",
     "output_type": "stream",
     "text": [
      "1\n",
      "2\n"
     ]
    }
   ],
   "source": [
    "import pandas as pd\n",
    "import numpy as np\n",
    "\n",
    "datas=[]\n",
    "\n",
    "for i in range(1, 3):\n",
    "\n",
    "    from selenium import webdriver\n",
    "    from selenium.webdriver.common.by import By\n",
    "    from selenium.webdriver.support.ui import WebDriverWait\n",
    "    from selenium.webdriver.support import expected_conditions as EC\n",
    "\n",
    "\n",
    "\n",
    "    driver = webdriver.Chrome()\n",
    "\n",
    "\n",
    "    url = f'https://urbania.pe/buscar/alquiler-de-departamentos-en-pueblo-libre-o-jesus-maria-o-san-miguel-o-lince--lima--lima?bedroomMin=3&page={i}&coveredAreaMin=95&priceMax=3000&currencyId=6'\n",
    "    driver.get(url)\n",
    "    print(i)\n",
    "    job_elements = driver.find_elements(By.CSS_SELECTOR,\"[class='sc-1tt2vbg-3 kGTsiT']\")\n",
    "\n",
    "    textos = []\n",
    "\n",
    "    for elemento in job_elements:\n",
    "        textos.append(elemento.text)\n",
    "\n",
    "    df = pd.DataFrame({'Texto': textos})\n",
    "\n",
    "    import numpy as np\n",
    "    e=df\n",
    "    e=e.dropna()\n",
    "    e = e.replace('', np.nan)\n",
    "    # Elimina las columnas con valores en vacío (NaN)\n",
    "    e = e.dropna(axis=1, how='any')\n",
    "    datas.append(e)\n",
    "\n",
    "driver.quit()\n",
    "\n",
    "\n",
    "df = pd.concat(datas)\n",
    "e=df\n",
    "e=e.dropna()\n",
    "e = e.replace('', np.nan)\n",
    "e = e.dropna(axis=1, how='any')\n",
    "e=e.reset_index()\n"
   ]
  },
  {
   "cell_type": "code",
   "execution_count": 6,
   "metadata": {},
   "outputs": [],
   "source": [
    "e=e.drop('index',axis=1)"
   ]
  },
  {
   "cell_type": "code",
   "execution_count": 9,
   "metadata": {},
   "outputs": [],
   "source": [
    "\n",
    "e = e['Texto'].str.split('\\n', expand=True)\n",
    "e.to_excel('base.xlsx',index=False)"
   ]
  }
 ],
 "metadata": {
  "kernelspec": {
   "display_name": "Python 3",
   "language": "python",
   "name": "python3"
  },
  "language_info": {
   "codemirror_mode": {
    "name": "ipython",
    "version": 3
   },
   "file_extension": ".py",
   "mimetype": "text/x-python",
   "name": "python",
   "nbconvert_exporter": "python",
   "pygments_lexer": "ipython3",
   "version": "3.11.1"
  },
  "orig_nbformat": 4,
  "vscode": {
   "interpreter": {
    "hash": "03a3280552aab75ac9f719f9062935c06f8a5fdb0276c6adccc57933fa81fcc9"
   }
  }
 },
 "nbformat": 4,
 "nbformat_minor": 2
}
