{
 "cells": [
  {
   "cell_type": "code",
   "execution_count": null,
   "metadata": {},
   "outputs": [],
   "source": [
    "import os\n",
    "import hashlib\n",
    "from send2trash import send2trash\n",
    "\n",
    "def calcular_hash(archivo):\n",
    "    \"\"\"Calcula el hash SHA-256 de un archivo.\"\"\"\n",
    "    sha256_hash = hashlib.sha256()\n",
    "    with open(archivo, 'rb') as f:\n",
    "        # Lee y actualiza el hash en bloques de 4K\n",
    "        for byte_block in iter(lambda: f.read(4096), b\"\"):\n",
    "            sha256_hash.update(byte_block)\n",
    "    return sha256_hash.hexdigest()\n",
    "\n",
    "def eliminar_duplicados(carpeta):\n",
    "    \"\"\"Elimina archivos duplicados en la carpeta especificada.\"\"\"\n",
    "    hashes = {}\n",
    "    archivos = os.listdir(carpeta)\n",
    "\n",
    "    for archivo in archivos:\n",
    "        ruta = os.path.join(carpeta, archivo)\n",
    "        \n",
    "        # Ignora directorios, solo procesa archivos\n",
    "        if os.path.isfile(ruta):\n",
    "            archivo_hash = calcular_hash(ruta)\n",
    "\n",
    "            if archivo_hash in hashes:\n",
    "                print(f\"Eliminando archivo duplicado: {archivo}\")\n",
    "                os.remove(ruta) \n",
    "                #send2trash(ruta)\n",
    "\n",
    "            else:\n",
    "                hashes[archivo_hash] = archivo\n",
    "\n",
    "# Define la carpeta para buscar duplicados\n",
    "carpeta = r'RUTA'  # Reemplaza con la ruta de tu carpeta\n",
    "eliminar_duplicados(carpeta)\n"
   ]
  }
 ],
 "metadata": {
  "kernelspec": {
   "display_name": "Python 3",
   "language": "python",
   "name": "python3"
  },
  "language_info": {
   "codemirror_mode": {
    "name": "ipython",
    "version": 3
   },
   "file_extension": ".py",
   "mimetype": "text/x-python",
   "name": "python",
   "nbconvert_exporter": "python",
   "pygments_lexer": "ipython3",
   "version": "3.11.5"
  }
 },
 "nbformat": 4,
 "nbformat_minor": 2
}
