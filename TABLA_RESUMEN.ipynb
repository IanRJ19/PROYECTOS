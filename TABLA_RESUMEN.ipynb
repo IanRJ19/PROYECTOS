{
 "cells": [
  {
   "cell_type": "code",
   "execution_count": 129,
   "metadata": {},
   "outputs": [],
   "source": [
    "#AGREGAR PESTAÑA\n",
    "import pandas as pd\n",
    "import gspread\n",
    "from oauth2client.service_account import ServiceAccountCredentials\n",
    "\n",
    "gc = gspread.service_account(filename=\"H:\\Mi unidad\\LLAVES\\ActivarGoogleSheetIan.json\")\n",
    "gsheet = gc.open_by_url(\"https://docs.google.com/spreadsheets/d/1nrBiUTSpcuDBb_w9AY-io_akpm0jLEcv695QG_IFrvk\")\n",
    "\n",
    "actual = gsheet.worksheet(\"Actual\").get_all_records()\n",
    "base2= pd.DataFrame(actual)\n",
    "\n",
    "anterior = gsheet.worksheet(\"Anterior\").get_all_records()\n",
    "base1= pd.DataFrame(anterior)\n",
    "\n",
    "# INSTAURAMOS EL CONTROLADOR DE PESTAÑA\n",
    "wsheet = gsheet.worksheet(\"Final\")\n",
    "\n",
    "\n",
    "departamentos=base1[\"Departamento\"]\n",
    "base1=base1.drop([\"Departamento\"], axis=1)\n",
    "base1=base1.astype(\"int\")\n",
    "base1.columns=base1.columns.astype(\"str\")\n",
    "\n",
    "base1=base1.rename(columns={'1': '01',\"2\":\"02\",\"3\":\"03\",\"4\":\"04\",\"5\":\"05\",\"6\":\"06\",\"7\":\"07\",\"8\":\"08\",\"9\":\"09\"})\n",
    "base2=base2.rename(columns={'1': '01',\"2\":\"02\",\"3\":\"03\",\"4\":\"04\",\"5\":\"05\",\"6\":\"06\",\"7\":\"07\",\"8\":\"08\",\"9\":\"09\"})\n",
    "\n",
    "\n",
    "base2=base2.drop([\"Departamento\"], axis=1)\n",
    "base2=base2.astype(\"int\")\n",
    "base2.columns=base2.columns.astype(\"str\")\n",
    "\n",
    "data=base2-base1\n",
    "data=data.fillna(\"\")\n",
    "data.insert(0,\"Departamentos\",departamentos)\n",
    "wsheet.update([data.columns.values.tolist()]+data.values.tolist())"
   ]
  }
 ],
 "metadata": {
  "kernelspec": {
   "display_name": "Python 3",
   "language": "python",
   "name": "python3"
  },
  "language_info": {
   "codemirror_mode": {
    "name": "ipython",
    "version": 3
   },
   "file_extension": ".py",
   "mimetype": "text/x-python",
   "name": "python",
   "nbconvert_exporter": "python",
   "pygments_lexer": "ipython3",
   "version": "3.10.5 (tags/v3.10.5:f377153, Jun  6 2022, 16:14:13) [MSC v.1929 64 bit (AMD64)]"
  },
  "orig_nbformat": 4,
  "vscode": {
   "interpreter": {
    "hash": "2f501586d3d6585364b3c782eb6f8798ead6c56dd0ce00d45a4fd8b1c0d4f0e6"
   }
  }
 },
 "nbformat": 4,
 "nbformat_minor": 2
}
