{
 "cells": [
  {
   "cell_type": "code",
   "execution_count": 29,
   "metadata": {},
   "outputs": [],
   "source": [
    "import openpyxl as ox\n",
    "import numpy as np\n",
    "import pandas as pd\n",
    "\n",
    "path = \"C:/Users/Rayzek/Desktop/CALL CENTER/Detalle de Llamadas-2023Jan03.164439.csv\"\n",
    "CF=pd.read_csv(path,sep=',', encoding='latin-1')\n",
    "CF=CF.drop(['Unnamed: 11'], axis=1)\n",
    "\n",
    "path = \"C:/Users/Rayzek/Desktop/CALL CENTER/CDRReport-2023Jan03.164502.csv\"\n",
    "da=pd.read_csv(path,sep=',', encoding='latin-1')\n",
    "\n",
    "\n",
    "def update_spreadsheet(path:str =\"C:/Users/Rayzek/Desktop/CALL CENTER/Reporte Indicadores Mensual_202212_.xlsx\", _df=CF, startcol:int=1, startrow:int=1, sheet_name:str =\"TDSheet\"):\n",
    "    wb = ox.load_workbook(path)\n",
    "    ws=wb[sheet_name]\n",
    "    for row in range(0, _df.shape[0]): #For each row in the dataframe\n",
    "        for col in range(0, _df.shape[1]): #For each column in the dataframe\n",
    "            ws.cell(row = startrow + row, column = startcol + col).value = _df.iat[row, col]\n",
    "    wb.save(path)\n",
    "\n",
    "\n",
    "update_spreadsheet(\"C:/Users/Rayzek/Desktop/CALL CENTER/Reporte Indicadores Mensual_202212_.xlsx\", CF, 1, 2, \"BD\") \n",
    "\n",
    "update_spreadsheet(\"C:/Users/Rayzek/Desktop/CALL CENTER/Reporte Indicadores Mensual_202212_.xlsx\", da, 1, 2, \"BDS\") "
   ]
  }
 ],
 "metadata": {
  "kernelspec": {
   "display_name": "Python 3",
   "language": "python",
   "name": "python3"
  },
  "language_info": {
   "codemirror_mode": {
    "name": "ipython",
    "version": 3
   },
   "file_extension": ".py",
   "mimetype": "text/x-python",
   "name": "python",
   "nbconvert_exporter": "python",
   "pygments_lexer": "ipython3",
   "version": "3.10.5"
  },
  "orig_nbformat": 4,
  "vscode": {
   "interpreter": {
    "hash": "2f501586d3d6585364b3c782eb6f8798ead6c56dd0ce00d45a4fd8b1c0d4f0e6"
   }
  }
 },
 "nbformat": 4,
 "nbformat_minor": 2
}
