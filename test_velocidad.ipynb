{
 "cells": [
  {
   "attachments": {},
   "cell_type": "markdown",
   "metadata": {},
   "source": [
    "### **ARTICULOS**"
   ]
  },
  {
   "cell_type": "code",
   "execution_count": 12,
   "metadata": {},
   "outputs": [],
   "source": [
    "#TRABAJO EXCEL ARTICULOS\n",
    "from xlsx2csv import Xlsx2csv\n",
    "from io import StringIO\n",
    "import pandas as pd\n",
    "path=r\"H:\\Mi unidad\\TRABAJO\\PROCESOS_AUTOMATICOS\\Script_Logistica\\ReporteArticulos 2022.12.13.xlsx\"\n",
    "def read_excel(path: str, sheet_name: str) -> pd.DataFrame:\n",
    "    buffer = StringIO()\n",
    "    Xlsx2csv(path, outputencoding=\"utf-8\", sheet_name=sheet_name).convert(buffer)\n",
    "    buffer.seek(0)\n",
    "    articulos = pd.read_csv(buffer)\n",
    "    return articulos\n",
    "articulos=read_excel(path,\"Hoja 1\")\n"
   ]
  },
  {
   "cell_type": "code",
   "execution_count": 13,
   "metadata": {},
   "outputs": [
    {
     "data": {
      "text/plain": [
       "(24593, 6)"
      ]
     },
     "execution_count": 13,
     "metadata": {},
     "output_type": "execute_result"
    }
   ],
   "source": [
    "articulos.shape"
   ]
  },
  {
   "cell_type": "code",
   "execution_count": 4,
   "metadata": {},
   "outputs": [],
   "source": [
    "#TRABAJO EXCEL ARTICULOS\n",
    "from xlsx2csv import Xlsx2csv\n",
    "from io import StringIO\n",
    "import pandas as pd\n",
    "path=r\"H:\\Mi unidad\\TRABAJO\\PROCESOS_AUTOMATICOS\\Script_Logistica\\ReporteArticulos 2022.12.13.xlsx\"\n",
    "articulos=pd.read_excel(path,\"Hoja 1\")"
   ]
  },
  {
   "cell_type": "code",
   "execution_count": 5,
   "metadata": {},
   "outputs": [
    {
     "data": {
      "text/plain": [
       "(120674, 6)"
      ]
     },
     "execution_count": 5,
     "metadata": {},
     "output_type": "execute_result"
    }
   ],
   "source": [
    "articulos.shape"
   ]
  },
  {
   "cell_type": "code",
   "execution_count": 9,
   "metadata": {},
   "outputs": [
    {
     "ename": "TypeError",
     "evalue": "'>' not supported between instances of 'str' and 'int'",
     "output_type": "error",
     "traceback": [
      "\u001b[1;31m---------------------------------------------------------------------------\u001b[0m",
      "\u001b[1;31mTypeError\u001b[0m                                 Traceback (most recent call last)",
      "Cell \u001b[1;32mIn [9], line 12\u001b[0m\n\u001b[0;32m     10\u001b[0m     \u001b[39mreturn\u001b[39;00m df\n\u001b[0;32m     11\u001b[0m path\u001b[39m=\u001b[39m\u001b[39mr\u001b[39m\u001b[39m\"\u001b[39m\u001b[39mH:\u001b[39m\u001b[39m\\\u001b[39m\u001b[39mMi unidad\u001b[39m\u001b[39m\\\u001b[39m\u001b[39mTRABAJO\u001b[39m\u001b[39m\\\u001b[39m\u001b[39mPROCESOS_AUTOMATICOS\u001b[39m\u001b[39m\\\u001b[39m\u001b[39mScript_Logistica\u001b[39m\u001b[39m\\\u001b[39m\u001b[39mReporteArticulos 2022.12.13.xlsx\u001b[39m\u001b[39m\"\u001b[39m\n\u001b[1;32m---> 12\u001b[0m articulos\u001b[39m=\u001b[39mread_excel(path,\u001b[39m\"\u001b[39;49m\u001b[39mHoja 1\u001b[39;49m\u001b[39m\"\u001b[39;49m)\n",
      "Cell \u001b[1;32mIn [9], line 7\u001b[0m, in \u001b[0;36mread_excel\u001b[1;34m(path, sheet_index)\u001b[0m\n\u001b[0;32m      5\u001b[0m \u001b[39mdef\u001b[39;00m \u001b[39mread_excel\u001b[39m(path: \u001b[39mstr\u001b[39m, sheet_index: \u001b[39mstr\u001b[39m) \u001b[39m-\u001b[39m\u001b[39m>\u001b[39m pd\u001b[39m.\u001b[39mDataFrame:\n\u001b[0;32m      6\u001b[0m     buffer \u001b[39m=\u001b[39m StringIO()            \n\u001b[1;32m----> 7\u001b[0m     Xlsx2csv(path, outputencoding\u001b[39m=\u001b[39;49m\u001b[39m\"\u001b[39;49m\u001b[39mutf-8\u001b[39;49m\u001b[39m\"\u001b[39;49m)\u001b[39m.\u001b[39;49mconvert(buffer,sheetid\u001b[39m=\u001b[39;49msheet_index)          \n\u001b[0;32m      8\u001b[0m     buffer\u001b[39m.\u001b[39mseek(\u001b[39m0\u001b[39m)     \n\u001b[0;32m      9\u001b[0m     df \u001b[39m=\u001b[39m pd\u001b[39m.\u001b[39mread_csv(buffer, low_memory\u001b[39m=\u001b[39m\u001b[39mFalse\u001b[39;00m)     \n",
      "File \u001b[1;32mc:\\Users\\Rayzek\\AppData\\Local\\Programs\\Python\\Python310\\lib\\site-packages\\xlsx2csv.py:234\u001b[0m, in \u001b[0;36mXlsx2csv.convert\u001b[1;34m(self, outfile, sheetid, sheetname)\u001b[0m\n\u001b[0;32m    232\u001b[0m     \u001b[39mif\u001b[39;00m \u001b[39mnot\u001b[39;00m sheetid:\n\u001b[0;32m    233\u001b[0m         \u001b[39mraise\u001b[39;00m XlsxException(\u001b[39m\"\u001b[39m\u001b[39mSheet \u001b[39m\u001b[39m'\u001b[39m\u001b[39m%s\u001b[39;00m\u001b[39m'\u001b[39m\u001b[39m not found\u001b[39m\u001b[39m\"\u001b[39m \u001b[39m%\u001b[39m sheetname)\n\u001b[1;32m--> 234\u001b[0m \u001b[39mif\u001b[39;00m sheetid \u001b[39m>\u001b[39;49m \u001b[39m0\u001b[39;49m:\n\u001b[0;32m    235\u001b[0m     \u001b[39mself\u001b[39m\u001b[39m.\u001b[39m_convert(sheetid, outfile)\n\u001b[0;32m    236\u001b[0m \u001b[39melse\u001b[39;00m:\n",
      "\u001b[1;31mTypeError\u001b[0m: '>' not supported between instances of 'str' and 'int'"
     ]
    }
   ],
   "source": [
    "from xlsx2csv import Xlsx2csv \n",
    "from io import StringIO \n",
    "from openpyxl import load_workbook \n",
    "import pandas as pd  \n",
    "def read_excel(path: str, sheet_index: str) -> pd.DataFrame:\n",
    "    buffer = StringIO()            \n",
    "    Xlsx2csv(path, outputencoding=\"utf-8\").convert(buffer,sheetid=sheet_index)          \n",
    "    buffer.seek(0)     \n",
    "    df = pd.read_csv(buffer, low_memory=False)     \n",
    "    return df\n",
    "path=r\"H:\\Mi unidad\\TRABAJO\\PROCESOS_AUTOMATICOS\\Script_Logistica\\ReporteArticulos 2022.12.13.xlsx\"\n",
    "articulos=read_excel(path,\"Hoja 1\")"
   ]
  }
 ],
 "metadata": {
  "kernelspec": {
   "display_name": "Python 3.10.5 64-bit",
   "language": "python",
   "name": "python3"
  },
  "language_info": {
   "codemirror_mode": {
    "name": "ipython",
    "version": 3
   },
   "file_extension": ".py",
   "mimetype": "text/x-python",
   "name": "python",
   "nbconvert_exporter": "python",
   "pygments_lexer": "ipython3",
   "version": "3.10.5 (tags/v3.10.5:f377153, Jun  6 2022, 16:14:13) [MSC v.1929 64 bit (AMD64)]"
  },
  "orig_nbformat": 4,
  "vscode": {
   "interpreter": {
    "hash": "2f501586d3d6585364b3c782eb6f8798ead6c56dd0ce00d45a4fd8b1c0d4f0e6"
   }
  }
 },
 "nbformat": 4,
 "nbformat_minor": 2
}
