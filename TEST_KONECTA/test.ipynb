{
 "cells": [
  {
   "cell_type": "code",
   "execution_count": 3,
   "metadata": {},
   "outputs": [
    {
     "name": "stdout",
     "output_type": "stream",
     "text": [
      "b'<HTML><HEAD>\\n<meta name=\"robots\" content=\"INDEX, FOLLOW\">\\n<META name=\"GOOGLEBOT\" content=\"INDEX, FOLLOW\">\\n<meta name=\"robots\" content=\"ALL\">\\n<meta name=\"rating\" content=\"GENERAL,NOT RATED\">\\n<meta http-equiv=\"Content-Type\" content=\"text/html; charset=UTF-8\"/>\\n<META name=\"description\" content=\"El Poder de la Palabra.\\nThe Power of the Word.\">\\n<META name=\"keywords\" content=\"literatura, arte, arquitectura, musica clasica, bandas sonoras, cine, poesa, prosa, pintura, edificios,rascacielos, america, africa, asia, europa, oceania, literature in spanish, art, architecture, clasical music, soundtracks, movies, poetry in spanish, paintings, buildings, skycrapers, europe\">\\n     \\n     <BODY BACKGROUND=\"fotos/bg_tuscany1.jpg\">\\n<FONT SIZE=2><FONT FACE=\"Georgia\">\\n<table width=95% cellpadding=1 cellspacing=0 border=0><TR><TD ALIGN=justify COLSPAN=2 >\\n\\n<TITLE>Cien a\\xc3\\xb1os de soledad (fragmento)</TITLE><A NAME=557></A><FONT SIZE=7><FONT COLOR=#666666>Gabriel Garc\\xc3\\xada M\\xc3\\xa1rquez</FONT></FONT>\\n<BR>\\n\\n\\n\\n<FONT SIZE=5><FONT COLOR=#666666><B>Cien a\\xc3\\xb1os de soledad (fragmento)</B></FONT><BR>\\n<BR>\\n<FONT SIZE=4>&quotMuchos a\\xc3\\xb1os despu\\xc3\\xa9s, frente al pelot\\xc3\\xb3n de fusilamiento, el coronel Aureliano Buend\\xc3\\xada hab\\xc3\\xada de recordar aquella tarde remota en que su padre lo llev\\xc3\\xb3 a conocer el hielo. Macondo era entonces una aldea de veinte casas de barro y ca\\xc3\\xb1abrava construida a la orilla de un r\\xc3\\xado de aguas di\\xc3\\xa1fanas que se precipitaban por un lecho de piedras pulidas, blancas y enormes como huevos prehist\\xc3\\xb3ricos. El mundo era tan reciente, que muchas cosas carec\\xc3\\xadan de nombre, y para mencionarlas hab\\xc3\\xada que se\\xc3\\xb1alarlas con el dedo. <BR>(...)<BR> Jos\\xc3\\xa9 Arcadio Buend\\xc3\\xada, que era el hombre m\\xc3\\xa1s emprendedor que se ver\\xc3\\xada jam\\xc3\\xa1s en la aldea, hab\\xc3\\xada dispuesto de tal modo la posici\\xc3\\xb3n de las casas, que desde todas pod\\xc3\\xada llegarse al r\\xc3\\xado y abastecerse de agua con igual esfuerzo, y traz\\xc3\\xb3 las calles con tan buen sentido que ninguna casa recib\\xc3\\xada m\\xc3\\xa1s sol que otra a la hora del calor. En pocos a\\xc3\\xb1os, Macondo fue una aldea m\\xc3\\xa1s ordenada y laboriosa que cualquiera de las conocidas hasta entonces por sus trescientos habitantes. Era en verdad una aldea feliz, donde nadie era mayor de treinta a\\xc3\\xb1os y donde nadie hab\\xc3\\xada muerto.\\r\\n<BR>(...)<BR> Vio una mujer vestida de oro en el cogote de un elefante. Vio un dromedario triste. Vio un oso vestido de holandesa que marcaba el comp\\xc3\\xa1s de la m\\xc3\\xbasica con un cuchar\\xc3\\xb3n y una cacerola. Vio a los payasos haciendo maromas en la cola del desfile, y le vio otra vez la cara a su soledad miserable cuando todo acab\\xc3\\xb3 de pasar, y no qued\\xc3\\xb3 sino el luminoso espacio en la calle, y el aire lleno de hormigas voladoras, y unos cuantos curiosos asomados al precipicio de la incertidumbre. Entonces fue el casta\\xc3\\xb1o, pensando en el circo, y mientras orinaba trat\\xc3\\xb3 de seguir pensando en el circo, pero ya no encontr\\xc3\\xb3 el recuerdo. Meti\\xc3\\xb3 la cabeza entre los hombros, como un pollito, y se qued\\xc3\\xb3 inm\\xc3\\xb3vil con la frente apoyada en el tronco del casta\\xc3\\xb1o. <BR>(...)<BR> En aqu\\xc3\\xa9l Macondo olvidado hasta por los p\\xc3\\xa1jaros, d\\xc3\\xb3nde el polvo y el calor se hab\\xc3\\xadan hecho tan tenaces que costaba trabajo respirar, recluidos por la soledad y el amor y por la soledad del amor en una casa d\\xc3\\xb3nde era casi imposible dormir por el estruendo de las hormigas coloradas, Aureliano y Amaranta Ursula eran los \\xc3\\xbanicos seres felices, y los m\\xc3\\xa1s felices sobre la tierra.&quot</FONT><BR><BR><BR><CENTER>\\n<B><FONT SIZE=4><FONT COLOR=#666666>El Poder de la Palabra<BR>\\n<A HREF=index.php>epdlp.com</A></FONT></FONT></B>\\n</CENTER>\\n</TD></TR></TABLE>\\n</BODY>\\n</html>\\n\\n<!-- Default Statcounter code for El Poder de la Palabra https://www.epdlp.com\\n-->\\n<script type=\"text/javascript\">\\nvar sc_project=12203563; \\nvar sc_invisible=1; \\nvar sc_security=\"a0684289\"; \\nvar sc_https=1; \\n</script>\\n<script type=\"text/javascript\"\\nsrc=\"https://www.statcounter.com/counter/counter.js\" async></script>\\n<noscript><div class=\"statcounter\"><a title=\"Web Analytics\"\\nhref=\"https://statcounter.com/\" target=\"_blank\"><img class=\"statcounter\"\\nsrc=\"https://c.statcounter.com/12203563/0/a0684289/1/\" alt=\"Web\\nAnalytics\"></a></div></noscript>\\n<!-- End of Statcounter Code -->\\n\\n\\n\\n\\n<!-- Default Statcounter code for El Poder de la Palabra https://www.epdlp.com\\n-->\\n<script type=\"text/javascript\">\\nvar sc_project=12203563; \\nvar sc_invisible=1; \\nvar sc_security=\"a0684289\"; \\nvar sc_https=1; \\n</script>\\n<script type=\"text/javascript\"\\nsrc=\"https://www.statcounter.com/counter/counter.js\" async></script>\\n<noscript><div class=\"statcounter\"><a title=\"Web Analytics\"\\nhref=\"https://statcounter.com/\" target=\"_blank\"><img class=\"statcounter\"\\nsrc=\"https://c.statcounter.com/12203563/0/a0684289/1/\" alt=\"Web\\nAnalytics\"></a></div></noscript>\\n<!-- End of Statcounter Code -->\\n'\n"
     ]
    }
   ],
   "source": [
    "\n",
    "from urllib.request import urlopen\n",
    "\n",
    "\n",
    "link = \"https://www.epdlp.com/texto.php?id2=557\"\n",
    "\n",
    "f = urlopen(link)\n",
    "myfile = f.read()\n",
    "print(myfile)"
   ]
  },
  {
   "cell_type": "code",
   "execution_count": 4,
   "metadata": {},
   "outputs": [
    {
     "name": "stdout",
     "output_type": "stream",
     "text": [
      "<HTML><HEAD>\n",
      "<meta name=\"robots\" content=\"INDEX, FOLLOW\">\n",
      "<META name=\"GOOGLEBOT\" content=\"INDEX, FOLLOW\">\n",
      "<meta name=\"robots\" content=\"ALL\">\n",
      "<meta name=\"rating\" content=\"GENERAL,NOT RATED\">\n",
      "<meta http-equiv=\"Content-Type\" content=\"text/html; charset=UTF-8\"/>\n",
      "<META name=\"description\" content=\"El Poder de la Palabra.\n",
      "The Power of the Word.\">\n",
      "<META name=\"keywords\" content=\"literatura, arte, arquitectura, musica clasica, bandas sonoras, cine, poesa, prosa, pintura, edificios,rascacielos, america, africa, asia, europa, oceania, literature in spanish, art, architecture, clasical music, soundtracks, movies, poetry in spanish, paintings, buildings, skycrapers, europe\">\n",
      "     \n",
      "     <BODY BACKGROUND=\"fotos/bg_tuscany1.jpg\">\n",
      "<FONT SIZE=2><FONT FACE=\"Georgia\">\n",
      "<table width=95% cellpadding=1 cellspacing=0 border=0><TR><TD ALIGN=justify COLSPAN=2 >\n",
      "\n",
      "<TITLE>Cien años de soledad (fragmento)</TITLE><A NAME=557></A><FONT SIZE=7><FONT COLOR=#666666>Gabriel García Márquez</FONT></FONT>\n",
      "<BR>\n",
      "\n",
      "\n",
      "\n",
      "<FONT SIZE=5><FONT COLOR=#666666><B>Cien años de soledad (fragmento)</B></FONT><BR>\n",
      "<BR>\n",
      "<FONT SIZE=4>&quotMuchos años después, frente al pelotón de fusilamiento, el coronel Aureliano Buendía había de recordar aquella tarde remota en que su padre lo llevó a conocer el hielo. Macondo era entonces una aldea de veinte casas de barro y cañabrava construida a la orilla de un río de aguas diáfanas que se precipitaban por un lecho de piedras pulidas, blancas y enormes como huevos prehistóricos. El mundo era tan reciente, que muchas cosas carecían de nombre, y para mencionarlas había que señalarlas con el dedo. <BR>(...)<BR> José Arcadio Buendía, que era el hombre más emprendedor que se vería jamás en la aldea, había dispuesto de tal modo la posición de las casas, que desde todas podía llegarse al río y abastecerse de agua con igual esfuerzo, y trazó las calles con tan buen sentido que ninguna casa recibía más sol que otra a la hora del calor. En pocos años, Macondo fue una aldea más ordenada y laboriosa que cualquiera de las conocidas hasta entonces por sus trescientos habitantes. Era en verdad una aldea feliz, donde nadie era mayor de treinta años y donde nadie había muerto.\n",
      "<BR>(...)<BR> Vio una mujer vestida de oro en el cogote de un elefante. Vio un dromedario triste. Vio un oso vestido de holandesa que marcaba el compás de la música con un cucharón y una cacerola. Vio a los payasos haciendo maromas en la cola del desfile, y le vio otra vez la cara a su soledad miserable cuando todo acabó de pasar, y no quedó sino el luminoso espacio en la calle, y el aire lleno de hormigas voladoras, y unos cuantos curiosos asomados al precipicio de la incertidumbre. Entonces fue el castaño, pensando en el circo, y mientras orinaba trató de seguir pensando en el circo, pero ya no encontró el recuerdo. Metió la cabeza entre los hombros, como un pollito, y se quedó inmóvil con la frente apoyada en el tronco del castaño. <BR>(...)<BR> En aquél Macondo olvidado hasta por los pájaros, dónde el polvo y el calor se habían hecho tan tenaces que costaba trabajo respirar, recluidos por la soledad y el amor y por la soledad del amor en una casa dónde era casi imposible dormir por el estruendo de las hormigas coloradas, Aureliano y Amaranta Ursula eran los únicos seres felices, y los más felices sobre la tierra.&quot</FONT><BR><BR><BR><CENTER>\n",
      "<B><FONT SIZE=4><FONT COLOR=#666666>El Poder de la Palabra<BR>\n",
      "<A HREF=index.php>epdlp.com</A></FONT></FONT></B>\n",
      "</CENTER>\n",
      "</TD></TR></TABLE>\n",
      "</BODY>\n",
      "</html>\n",
      "\n",
      "<!-- Default Statcounter code for El Poder de la Palabra https://www.epdlp.com\n",
      "-->\n",
      "<script type=\"text/javascript\">\n",
      "var sc_project=12203563; \n",
      "var sc_invisible=1; \n",
      "var sc_security=\"a0684289\"; \n",
      "var sc_https=1; \n",
      "</script>\n",
      "<script type=\"text/javascript\"\n",
      "src=\"https://www.statcounter.com/counter/counter.js\" async></script>\n",
      "<noscript><div class=\"statcounter\"><a title=\"Web Analytics\"\n",
      "href=\"https://statcounter.com/\" target=\"_blank\"><img class=\"statcounter\"\n",
      "src=\"https://c.statcounter.com/12203563/0/a0684289/1/\" alt=\"Web\n",
      "Analytics\"></a></div></noscript>\n",
      "<!-- End of Statcounter Code -->\n",
      "\n",
      "\n",
      "\n",
      "\n",
      "<!-- Default Statcounter code for El Poder de la Palabra https://www.epdlp.com\n",
      "-->\n",
      "<script type=\"text/javascript\">\n",
      "var sc_project=12203563; \n",
      "var sc_invisible=1; \n",
      "var sc_security=\"a0684289\"; \n",
      "var sc_https=1; \n",
      "</script>\n",
      "<script type=\"text/javascript\"\n",
      "src=\"https://www.statcounter.com/counter/counter.js\" async></script>\n",
      "<noscript><div class=\"statcounter\"><a title=\"Web Analytics\"\n",
      "href=\"https://statcounter.com/\" target=\"_blank\"><img class=\"statcounter\"\n",
      "src=\"https://c.statcounter.com/12203563/0/a0684289/1/\" alt=\"Web\n",
      "Analytics\"></a></div></noscript>\n",
      "<!-- End of Statcounter Code -->\n",
      "\n"
     ]
    }
   ],
   "source": [
    "import urllib.request\n",
    "try:\n",
    "   with urllib.request.urlopen('https://www.epdlp.com/texto.php?id2=557') as f:\n",
    "      print(f.read().decode('utf-8'))\n",
    "except urllib.error.URLError as e:\n",
    "   print(e.reason)"
   ]
  }
 ],
 "metadata": {
  "kernelspec": {
   "display_name": "Python 3",
   "language": "python",
   "name": "python3"
  },
  "language_info": {
   "codemirror_mode": {
    "name": "ipython",
    "version": 3
   },
   "file_extension": ".py",
   "mimetype": "text/x-python",
   "name": "python",
   "nbconvert_exporter": "python",
   "pygments_lexer": "ipython3",
   "version": "3.10.5 (tags/v3.10.5:f377153, Jun  6 2022, 16:14:13) [MSC v.1929 64 bit (AMD64)]"
  },
  "orig_nbformat": 4,
  "vscode": {
   "interpreter": {
    "hash": "2f501586d3d6585364b3c782eb6f8798ead6c56dd0ce00d45a4fd8b1c0d4f0e6"
   }
  }
 },
 "nbformat": 4,
 "nbformat_minor": 2
}
