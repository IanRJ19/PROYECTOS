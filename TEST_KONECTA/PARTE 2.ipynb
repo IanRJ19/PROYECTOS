{
 "cells": [
  {
   "cell_type": "code",
   "execution_count": null,
   "metadata": {},
   "outputs": [],
   "source": [
    "correo = input(\"Ingresa tu dirección de correo electrónico: \")\n",
    "\n",
    "usuario, dominio = correo.split(\"@\")\n",
    "\n",
    "print(\"Nombre de usuario:\", usuario)\n",
    "print(\"Nombre de dominio:\", dominio)"
   ]
  },
  {
   "cell_type": "code",
   "execution_count": 29,
   "metadata": {},
   "outputs": [],
   "source": [
    "from tkinter import *\n",
    "from tkinter import filedialog\n",
    "from bs4 import BeautifulSoup\n",
    "import urllib.request\n",
    "\n",
    "#https://www.epdlp.com/texto.php?id2=557\n",
    "\n",
    "def minar():\n",
    "    \n",
    "    try:\n",
    "        info=data.get()\n",
    "        enlace=link.get()\n",
    "        f=urllib.request.urlopen(enlace) \n",
    "        soup = BeautifulSoup(f, 'html.parser')\n",
    "        TEXTO=soup.get_text()\n",
    "        cantidad=TEXTO.count(\"era\")\n",
    "        if info in TEXTO:\n",
    "            vaca=\"La cantidad de la palabra\"+\" \"+info+\" que hay en el texto es \"+str(cantidad)\n",
    "            notif.config(fg=\"green\", text=vaca)\n",
    "        \n",
    "    except Exception as e:\n",
    "        print(e)\n",
    "        notif.config(fg=\"red\", text=\"Los CV'S no pueden ser minados\")\n",
    "    \n",
    "###############\n",
    "# Pantalla Principal\n",
    "master = Tk()\n",
    "master.title(\"Diccionario\")\n",
    "master.geometry(\"520x350\")\n",
    "\n",
    "# Etiquetas\n",
    "Label(master, text=\"Contador de palabras\", fg=\"red\", font=(\"Calibri\", 15)).grid(sticky=N,padx=180,pady=10)\n",
    "Label(master, text=\"Introduce la palabra a contar : \", font=(\"Calibri\", 15)).grid(sticky=N, row=1, pady=10)\n",
    "Label(master, text=\"Introduce el link del texto : \", font=(\"Calibri\", 15)).grid(sticky=N, row=3, pady=10)\n",
    "\n",
    "\n",
    "notif = Label(master, font=(\"Calibri\", 12))\n",
    "notif.grid(sticky=N, pady=1, row=8)\n",
    "# Variables\n",
    "data = StringVar()\n",
    "link = StringVar()\n",
    "\n",
    "# Entry\n",
    "Entry(master, width=50, textvariable=data).grid(sticky=N, row=2)\n",
    "Entry(master, width=50, textvariable=link).grid(sticky=N, row=4)\n",
    "\n",
    "# Button\n",
    "Button(master, width=20, text=\"Empezar a Filtrar\", font=(\"Calibri\", 12), command=minar).grid(sticky=N, row=8, pady=0)\n",
    "master.mainloop()\n"
   ]
  }
 ],
 "metadata": {
  "kernelspec": {
   "display_name": "Python 3",
   "language": "python",
   "name": "python3"
  },
  "language_info": {
   "codemirror_mode": {
    "name": "ipython",
    "version": 3
   },
   "file_extension": ".py",
   "mimetype": "text/x-python",
   "name": "python",
   "nbconvert_exporter": "python",
   "pygments_lexer": "ipython3",
   "version": "3.10.5"
  },
  "orig_nbformat": 4,
  "vscode": {
   "interpreter": {
    "hash": "2f501586d3d6585364b3c782eb6f8798ead6c56dd0ce00d45a4fd8b1c0d4f0e6"
   }
  }
 },
 "nbformat": 4,
 "nbformat_minor": 2
}
