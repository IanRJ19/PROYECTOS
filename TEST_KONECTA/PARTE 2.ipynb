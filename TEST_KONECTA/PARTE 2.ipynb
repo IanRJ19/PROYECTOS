{
 "cells": [
  {
   "cell_type": "code",
   "execution_count": null,
   "metadata": {},
   "outputs": [],
   "source": [
    "from bs4 import BeautifulSoup\n",
    "import urllib.request\n",
    "f=urllib.request.urlopen('https://www.epdlp.com/texto.php?id2=557') \n",
    "soup = BeautifulSoup(f, 'html.parser')\n",
    "TEXTO=soup.get_text()\n",
    "TEXTO.count(\"era\")"
   ]
  },
  {
   "cell_type": "code",
   "execution_count": null,
   "metadata": {},
   "outputs": [],
   "source": [
    "correo = input(\"Ingresa tu dirección de correo electrónico: \")\n",
    "\n",
    "usuario, dominio = correo.split(\"@\")\n",
    "\n",
    "print(\"Nombre de usuario:\", usuario)\n",
    "print(\"Nombre de dominio:\", dominio)"
   ]
  }
 ],
 "metadata": {
  "kernelspec": {
   "display_name": "Python 3",
   "language": "python",
   "name": "python3"
  },
  "language_info": {
   "name": "python",
   "version": "3.10.5 (tags/v3.10.5:f377153, Jun  6 2022, 16:14:13) [MSC v.1929 64 bit (AMD64)]"
  },
  "orig_nbformat": 4,
  "vscode": {
   "interpreter": {
    "hash": "2f501586d3d6585364b3c782eb6f8798ead6c56dd0ce00d45a4fd8b1c0d4f0e6"
   }
  }
 },
 "nbformat": 4,
 "nbformat_minor": 2
}
