{
 "cells": [
  {
   "attachments": {},
   "cell_type": "markdown",
   "metadata": {},
   "source": [
    "## **Problema Modelación Data NO Estructurada - 2**"
   ]
  },
  {
   "cell_type": "code",
   "execution_count": 67,
   "metadata": {},
   "outputs": [
    {
     "name": "stdout",
     "output_type": "stream",
     "text": [
      "Nombre de usuario:a\n",
      "Nombre de dominio:gmail,.con\n"
     ]
    }
   ],
   "source": [
    "correo = input(\"Ingresa tu dirección de correo electrónico: \")\n",
    "\n",
    "usuario, dominio = correo.split(\"@\")\n",
    "\n",
    "print(\"Nombre de usuario:\"+ usuario)\n",
    "print(\"Nombre de dominio:\"+ dominio)"
   ]
  },
  {
   "attachments": {},
   "cell_type": "markdown",
   "metadata": {},
   "source": [
    "## **Problema Modelación Data NO Estructurada - 1**"
   ]
  },
  {
   "cell_type": "code",
   "execution_count": 79,
   "metadata": {},
   "outputs": [],
   "source": [
    "from tkinter import *\n",
    "from tkinter import filedialog\n",
    "from bs4 import BeautifulSoup\n",
    "import urllib.request\n",
    "\n",
    "#https://www.epdlp.com/texto.php?id2=557\n",
    "\n",
    "def minar():\n",
    "    \n",
    "    try:\n",
    "        info=data.get()\n",
    "        enlace=link.get()\n",
    "        f=urllib.request.urlopen(enlace) \n",
    "        soup = BeautifulSoup(f, 'html.parser')\n",
    "        TEXTO=soup.get_text()\n",
    "        cantidad=TEXTO.count(info)\n",
    "        if info in TEXTO:\n",
    "            vaca=\"La cantidad de ocurrencias de la palabra\"+\" *\"+info+\"* en el texto es: \"+str(cantidad)\n",
    "\n",
    "            notif.config(fg=\"green\", text=vaca)\n",
    "        \n",
    "    except Exception as e:\n",
    "        print(e)\n",
    "        notif.config(fg=\"red\", text=\"Error en el proceso\")\n",
    "    \n",
    "###############\n",
    "# Pantalla Principal\n",
    "master = Tk()\n",
    "master.title(\"Diccionario\")\n",
    "master.geometry(\"480x350\")\n",
    "\n",
    "# Etiquetas\n",
    "Label(master, text=\"Contador de palabras\",fg=\"black\", font=(\"Calibri\", 20,\"bold\")).grid(sticky=N,padx=120,pady=10)\n",
    "Label(master, text=\"Introduce la palabra a contar: \", font=(\"Calibri\", 14)).grid(sticky=N, row=1, pady=10)\n",
    "Label(master, text=\"Introduce el link del texto: \", font=(\"Calibri\", 14)).grid(sticky=N, row=3, pady=10)\n",
    "\n",
    "\n",
    "notif = Label(master, font=(\"Calibri\",13,\"bold\"))\n",
    "notif.grid(sticky=N, pady=20, row=11)\n",
    "# Variables\n",
    "data = StringVar()\n",
    "link = StringVar()\n",
    "\n",
    "# Entry\n",
    "Entry(master, width=50, textvariable=data).grid(sticky=N, row=2)\n",
    "Entry(master, width=50, textvariable=link).grid(sticky=N, row=4)\n",
    "\n",
    "# Button\n",
    "Button(master, width=20, text=\"Empezar a contar\",bg=\"#002060\", font=(\"Calibri\", 12,\"bold\"),fg=\"white\",command=minar).grid(sticky=N, row=8, pady=20)\n",
    "master.mainloop()\n"
   ]
  }
 ],
 "metadata": {
  "kernelspec": {
   "display_name": "Python 3",
   "language": "python",
   "name": "python3"
  },
  "language_info": {
   "codemirror_mode": {
    "name": "ipython",
    "version": 3
   },
   "file_extension": ".py",
   "mimetype": "text/x-python",
   "name": "python",
   "nbconvert_exporter": "python",
   "pygments_lexer": "ipython3",
   "version": "3.10.5 (tags/v3.10.5:f377153, Jun  6 2022, 16:14:13) [MSC v.1929 64 bit (AMD64)]"
  },
  "orig_nbformat": 4,
  "vscode": {
   "interpreter": {
    "hash": "2f501586d3d6585364b3c782eb6f8798ead6c56dd0ce00d45a4fd8b1c0d4f0e6"
   }
  }
 },
 "nbformat": 4,
 "nbformat_minor": 2
}
