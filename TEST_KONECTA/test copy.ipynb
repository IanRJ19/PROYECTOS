{
 "cells": [
  {
   "attachments": {},
   "cell_type": "markdown",
   "metadata": {},
   "source": [
    "# **PROBLEMA DE MACHINE LEARNING**"
   ]
  },
  {
   "cell_type": "code",
   "execution_count": 2,
   "metadata": {},
   "outputs": [],
   "source": [
    "import pandas as pd\n",
    "train=pd.read_csv(\"C:/Users/Rayzek/Desktop/TEST/bd_train.csv\")\n",
    "test=pd.read_csv(\"C:/Users/Rayzek/Desktop/TEST/bd_test.csv\")"
   ]
  },
  {
   "cell_type": "code",
   "execution_count": 3,
   "metadata": {},
   "outputs": [],
   "source": [
    "from sklearn.model_selection import train_test_split\n",
    "from sklearn.metrics import mean_squared_error\n",
    "\n",
    "y=train[\"precio\"]\n",
    "X = train.drop(\"precio\", axis=1)\n",
    "\n",
    "# Create training and validation sets\n",
    "X_train,X_test,y_train,y_test = train_test_split(X,y,test_size=0.3,random_state=42)"
   ]
  },
  {
   "cell_type": "code",
   "execution_count": 4,
   "metadata": {},
   "outputs": [
    {
     "name": "stdout",
     "output_type": "stream",
     "text": [
      "                   Model                RMSE\n",
      "3           SGDRegressor  3079863242190554.0\n",
      "0                    SVR       798151.825535\n",
      "6  RandomForestRegressor       665021.412363\n",
      "2             ElasticNet       648693.938085\n",
      "4          BayesianRidge       622749.835313\n",
      "1                  Ridge       621688.978623\n",
      "5       LinearRegression        621592.14404\n"
     ]
    }
   ],
   "source": [
    "from sklearn.svm import SVR\n",
    "from sklearn.linear_model import Ridge\n",
    "from sklearn.linear_model import ElasticNet\n",
    "from sklearn.linear_model import SGDRegressor\n",
    "from sklearn.linear_model import BayesianRidge\n",
    "from sklearn.linear_model import LinearRegression\n",
    "from sklearn.ensemble import RandomForestRegressor\n",
    "\n",
    "import numpy as np\n",
    "models = {\n",
    "    'SVR':SVR(),\n",
    "    'Ridge':Ridge(),\n",
    "    'ElasticNet':ElasticNet(),\n",
    "    'SGDRegressor':SGDRegressor(),\n",
    "    'BayesianRidge':BayesianRidge(),\n",
    "    'LinearRegression':LinearRegression(),\n",
    "    'RandomForestRegressor':RandomForestRegressor()\n",
    "}\n",
    "\n",
    "#taking results from the models\n",
    "model_results = []\n",
    "model_names = []\n",
    "\n",
    "# training the model with function\n",
    "for name,model in models.items():\n",
    "    a = model.fit(X_train,y_train)\n",
    "    predicted = a.predict(X_test)\n",
    "    score = np.sqrt(mean_squared_error(y_test, predicted))\n",
    "    model_results.append(score)\n",
    "    model_names.append(name)\n",
    "    \n",
    "    #creating dataframe\n",
    "    df_results = pd.DataFrame([model_names,model_results])\n",
    "    df_results = df_results.transpose()\n",
    "    df_results = df_results.rename(columns={0:'Model',1:'RMSE'}).sort_values(by='RMSE',ascending=False)\n",
    "    \n",
    "print(df_results)"
   ]
  },
  {
   "cell_type": "code",
   "execution_count": 24,
   "metadata": {},
   "outputs": [
    {
     "name": "stdout",
     "output_type": "stream",
     "text": [
      "1 Variables seleccionadas RMSE:  750401.8120347569\n",
      "2 Variables seleccionadas RMSE:  718877.1574678771\n",
      "3 Variables seleccionadas RMSE:  716085.3663217392\n",
      "4 Variables seleccionadas RMSE:  705751.4285384227\n",
      "5 Variables seleccionadas RMSE:  706033.3481037641\n",
      "6 Variables seleccionadas RMSE:  621551.3320792444\n",
      "7 Variables seleccionadas RMSE:  621551.3320792443\n",
      "8 Variables seleccionadas RMSE:  621592.1440395856\n"
     ]
    }
   ],
   "source": [
    "from sklearn.linear_model import LinearRegression\n",
    "from sklearn.feature_selection import RFE\n",
    "\n",
    "# Creamos un objeto de regresión lineal\n",
    "model = LinearRegression()\n",
    "\n",
    "lista_VARS = []\n",
    "\n",
    "for i in range(8):\n",
    "    # Creamos un objeto RFE para seleccionar 5 características\n",
    "    rfe = RFE(model,n_features_to_select=i+1)\n",
    "\n",
    "    # Ajustamos el modelo RFE al conjunto de datos\n",
    "    X_rfe = rfe.fit_transform(X, y)\n",
    "\n",
    "    x_train, x_test, y_train, y_test = train_test_split(X_rfe, y,test_size=0.3,random_state=42)\n",
    "\n",
    "    #ENTRENAMOS EL NUEVO MODELO\n",
    "    model.fit(x_train, y_train)\n",
    "\n",
    "    #print(X.columns[(rfe.get_support())])\n",
    "    y_pred = model.predict(x_test)\n",
    "    rmse = np.sqrt(mean_squared_error(y_test, y_pred))\n",
    "    lista_VARS.append(rmse)\n",
    "    print(str(i+1)+\" Variables seleccionadas\"+\" RMSE: \", rmse)\n"
   ]
  },
  {
   "cell_type": "code",
   "execution_count": 22,
   "metadata": {},
   "outputs": [
    {
     "data": {
      "text/plain": [
       "621551.3320792443"
      ]
     },
     "execution_count": 22,
     "metadata": {},
     "output_type": "execute_result"
    }
   ],
   "source": [
    "min(lista_VARS)"
   ]
  }
 ],
 "metadata": {
  "kernelspec": {
   "display_name": "Python 3",
   "language": "python",
   "name": "python3"
  },
  "language_info": {
   "codemirror_mode": {
    "name": "ipython",
    "version": 3
   },
   "file_extension": ".py",
   "mimetype": "text/x-python",
   "name": "python",
   "nbconvert_exporter": "python",
   "pygments_lexer": "ipython3",
   "version": "3.10.5 (tags/v3.10.5:f377153, Jun  6 2022, 16:14:13) [MSC v.1929 64 bit (AMD64)]"
  },
  "orig_nbformat": 4,
  "vscode": {
   "interpreter": {
    "hash": "2f501586d3d6585364b3c782eb6f8798ead6c56dd0ce00d45a4fd8b1c0d4f0e6"
   }
  }
 },
 "nbformat": 4,
 "nbformat_minor": 2
}
