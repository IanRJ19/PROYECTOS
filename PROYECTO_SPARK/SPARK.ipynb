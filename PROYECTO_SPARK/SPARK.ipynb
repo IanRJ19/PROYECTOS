{
 "cells": [
  {
   "cell_type": "code",
   "execution_count": 1,
   "metadata": {
    "tags": []
   },
   "outputs": [],
   "source": [
    "#COnfiguración esencial\n",
    "from pyspark.sql import SparkSession\n",
    "spark = SparkSession.builder.appName('SESION')\\\n",
    "    .config('spark.master', 'local[6]')\\\n",
    "    .config('spark.executor.memory', '6g')\\\n",
    "    .config(\"spark.sql.shuffle.partitions\", 1)\\\n",
    "    .config('spark.driver.memory','6g')\\\n",
    "    .config(\"spark.sql.execution.arrow.pyspark.enabled\", True)\\\n",
    "    .getOrCreate()\n",
    "\n",
    "\n",
    "\n",
    "\n"
   ]
  },
  {
   "cell_type": "code",
   "execution_count": 43,
   "metadata": {},
   "outputs": [],
   "source": [
    "        from xlsx2csv import Xlsx2csv\n",
    "        from io import StringIO\n",
    "  \n",
    "\n",
    "        def read_excel(path: str, sheet_name: str) -> pd.DataFrame:\n",
    "            buffer = StringIO()\n",
    "            Xlsx2csv(path, outputencoding=\"utf-8\", sheet_name=sheet_name).convert(buffer)\n",
    "            buffer.seek(0)\n",
    "            agentes = pd.read_csv(buffer)\n",
    "            return agentes"
   ]
  },
  {
   "cell_type": "code",
   "execution_count": 44,
   "metadata": {},
   "outputs": [
    {
     "name": "stderr",
     "output_type": "stream",
     "text": [
      "/tmp/ipykernel_12062/887456819.py:9: DtypeWarning: Columns (0,3,5,23,26,27,32,33,34,35) have mixed types. Specify dtype option on import or set low_memory=False.\n",
      "  agentes = pd.read_csv(buffer)\n"
     ]
    }
   ],
   "source": [
    "#Script\n",
    "import pyspark.pandas as ps\n",
    "import pandas as pd\n",
    "df=read_excel(\"/home/ian-lx/Descargas/ReporteDiarioAgentes.xlsx\",\"Hoja 1\")\n"
   ]
  },
  {
   "cell_type": "code",
   "execution_count": 27,
   "metadata": {},
   "outputs": [],
   "source": [
    "spark.conf.set('spark.master', 'local[1]')\n",
    "\n",
    "spark.sparkContext.getConf().getAll()\n",
    "\n"
   ]
  },
  {
   "cell_type": "code",
   "execution_count": 30,
   "metadata": {},
   "outputs": [],
   "source": [
    "spark.stop()\n"
   ]
  }
 ],
 "metadata": {
  "kernelspec": {
   "display_name": "Python 3.10.5 64-bit",
   "language": "python",
   "name": "python3"
  },
  "language_info": {
   "codemirror_mode": {
    "name": "ipython",
    "version": 3
   },
   "file_extension": ".py",
   "mimetype": "text/x-python",
   "name": "python",
   "nbconvert_exporter": "python",
   "pygments_lexer": "ipython3",
   "version": "3.10.5"
  },
  "orig_nbformat": 4,
  "vscode": {
   "interpreter": {
    "hash": "2f501586d3d6585364b3c782eb6f8798ead6c56dd0ce00d45a4fd8b1c0d4f0e6"
   }
  }
 },
 "nbformat": 4,
 "nbformat_minor": 2
}
