{
 "cells": [
  {
   "cell_type": "code",
   "execution_count": 56,
   "metadata": {},
   "outputs": [],
   "source": [
    "import tkinter\n",
    "import customtkinter\n",
    "from tkinter import filedialog\n",
    "\n",
    "customtkinter.set_appearance_mode(\"Light\")  # Modes: \"System\" (standard), \"Dark\", \"Light\"\n",
    "customtkinter.set_default_color_theme(\"blue\")  # Themes: \"blue\" (standard), \"green\", \"dark-blue\"\n",
    "\n",
    "app = customtkinter.CTk()\n",
    "app.geometry(\"500x420\")\n",
    "app.title(\"Inteligencia Comercial\")\n",
    "\n",
    "def seleccionar_carpeta():\n",
    "    global ruta\n",
    "    ruta = filedialog.askdirectory()\n",
    "    ruta = str(ruta)\n",
    "    print(ruta)\n",
    "\n",
    "def button_callback():\n",
    "    print(\"Button click\")\n",
    "\n",
    "\n",
    "frame_1 = customtkinter.CTkFrame(master=app)\n",
    "frame_1.pack(pady=0, padx=0, fill=\"both\", expand=True)\n",
    "\n",
    "label_1 = customtkinter.CTkLabel(master=frame_1, justify=tkinter.LEFT,text=\"Captación de Agentes ACK\",text_font=(\"Calibri\",20,\"bold\"),text_color=\"#002060\")\n",
    "label_1.pack(pady=12, padx=10)\n",
    "\n",
    "label_1 = customtkinter.CTkLabel(master=frame_1, justify=tkinter.LEFT,text=\"Introduce las fechas\",text_font=(\"Calibri\",15,\"bold\"),text_color=\"red\")\n",
    "label_1.pack(pady=0, padx=10)\n",
    "\n",
    "label_1 = customtkinter.CTkLabel(master=frame_1, justify=tkinter.LEFT,text=\"En formato yyyy-mm-dd\",text_font=(\"Calibri\",10,\"bold\"))\n",
    "label_1.pack(pady=0, padx=10)\n",
    "\n",
    "entry_1 = customtkinter.CTkEntry(master=frame_1, placeholder_text=\"Inicio Evento\")\n",
    "entry_1.pack(pady=5, padx=10)\n",
    "\n",
    "entry_1 = customtkinter.CTkEntry(master=frame_1, placeholder_text=\"Fin Evento\")\n",
    "entry_1.pack(pady=5, padx=10)\n",
    "\n",
    "entry_1 = customtkinter.CTkEntry(master=frame_1, placeholder_text=\"Inicio Captación\")\n",
    "entry_1.pack(pady=5, padx=10)\n",
    "\n",
    "entry_1 = customtkinter.CTkEntry(master=frame_1, placeholder_text=\"Fin Captación\")\n",
    "entry_1.pack(pady=5, padx=10)\n",
    "\n",
    "\n",
    "button_1 = customtkinter.CTkButton(master=frame_1, command=button_callback,text=\"Ejecutar Script\",text_font=(\"Calibri\",10,\"bold\"),fg_color=\"#002060\",text_color=\"white\")\n",
    "button_1.pack(pady=12, padx=10)\n",
    "\n",
    "button_1 = customtkinter.CTkButton(master=frame_1, command=seleccionar_carpeta,text=\"Seleccionar Carpeta\",text_font=(\"Calibri\",10,\"bold\"),fg_color=\"#002060\",text_color=\"white\")\n",
    "button_1.pack(pady=12, padx=10)\n",
    "\n",
    "\n",
    "\n",
    "\n",
    "app.mainloop()"
   ]
  }
 ],
 "metadata": {
  "kernelspec": {
   "display_name": "Python 3.10.5 64-bit",
   "language": "python",
   "name": "python3"
  },
  "language_info": {
   "codemirror_mode": {
    "name": "ipython",
    "version": 3
   },
   "file_extension": ".py",
   "mimetype": "text/x-python",
   "name": "python",
   "nbconvert_exporter": "python",
   "pygments_lexer": "ipython3",
   "version": "3.10.5"
  },
  "orig_nbformat": 4,
  "vscode": {
   "interpreter": {
    "hash": "2f501586d3d6585364b3c782eb6f8798ead6c56dd0ce00d45a4fd8b1c0d4f0e6"
   }
  }
 },
 "nbformat": 4,
 "nbformat_minor": 2
}
