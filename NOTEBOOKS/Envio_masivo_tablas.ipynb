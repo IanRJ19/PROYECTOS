{
 "cells": [
  {
   "cell_type": "markdown",
   "metadata": {},
   "source": [
    "Leemos los datos"
   ]
  },
  {
   "cell_type": "code",
   "execution_count": 60,
   "metadata": {},
   "outputs": [],
   "source": [
    "import pandas as pd \n",
    "import gspread\n",
    "import smtplib, ssl\n",
    "import base64\n",
    "from oauth2client.service_account import ServiceAccountCredentials\n",
    "\n",
    "gc = gspread.service_account(filename=\"H:\\Mi unidad\\LLAVES\\ActivarGoogleSheetIan.json\")\n",
    "\n",
    "gsheet = gc.open_by_url(\"https://docs.google.com/spreadsheets/d/1sVXGHiFEVgurBdTPjKd4I55Gps5FZW2bvBHBiDVHLYg\")"
   ]
  },
  {
   "cell_type": "code",
   "execution_count": 4,
   "metadata": {},
   "outputs": [
    {
     "name": "stdout",
     "output_type": "stream",
     "text": [
      "b'am96Y3dtdHphbnl1dnBmcw=='\n",
      "jozcwmtzanyuvpfs\n"
     ]
    }
   ],
   "source": [
    "import base64\n",
    "print(base64.b64encode(\"jozcwmtzanyuvpfs\".encode(\"utf-8\")))\n",
    "print(base64.b64decode(\"am96Y3dtdHphbnl1dnBmcw==\").decode(\"utf-8\"))"
   ]
  },
  {
   "cell_type": "markdown",
   "metadata": {},
   "source": [
    "Extraemos la información y la almacenamos en un dataframe para luego convertirlo en HTML"
   ]
  },
  {
   "cell_type": "code",
   "execution_count": null,
   "metadata": {},
   "outputs": [],
   "source": [
    "hoja = gsheet.sheet1.get_all_records()\n",
    "df_hoja= pd.DataFrame(hoja)\n",
    "resultado=df_hoja.head().to_html()\n",
    "print(resultado)"
   ]
  },
  {
   "cell_type": "markdown",
   "metadata": {},
   "source": [
    "Creamos una variable lista"
   ]
  },
  {
   "cell_type": "code",
   "execution_count": null,
   "metadata": {},
   "outputs": [],
   "source": [
    "\n",
    "\n",
    "smz= [gsheet.worksheet(\"SMZ_01\").get(\"F6:N70\"),gsheet.worksheet(\"SMZ_02\"),gsheet.worksheet(\"SMZ_03\"),gsheet.worksheet(\"SMZ_04\"),gsheet.worksheet(\"SMZ_05\"),gsheet.worksheet(\"SMZ_06\"),gsheet.worksheet(\"SMZ_07\"),gsheet.worksheet(\"SMZ_08\"),gsheet.worksheet(\"SMZ_09\"),gsheet.worksheet(\"SMZ_10\"),gsheet.worksheet(\"SMZ_11\"),gsheet.worksheet(\"SMZ_12\"),gsheet.worksheet(\"SMZ_13\"),gsheet.worksheet(\"SMZ_14\"),gsheet.worksheet(\"SMZ_15\"),gsheet.worksheet(\"SMZ_16\"),gsheet.worksheet(\"SMZ_17\"),gsheet.worksheet(\"SMZ_18\"),gsheet.worksheet(\"SMZ_19\"),gsheet.worksheet(\"SMZ_20\"),gsheet.worksheet(\"SMZ_21\"),gsheet.worksheet(\"SMZ_22\"),gsheet.worksheet(\"SMZ_23\"),gsheet.worksheet(\"SMZ_24\"),gsheet.worksheet(\"SMZ_25\"),gsheet.worksheet(\"SMZ_26\"),gsheet.worksheet(\"SMZ_27\"),gsheet.worksheet(\"SMZ_28\"),gsheet.worksheet(\"SMZ_29\"),gsheet.worksheet(\"SMZ_30\"),gsheet.worksheet(\"SMZ_31\"),gsheet.worksheet(\"SMZ_32\"),gsheet.worksheet(\"SMZ_33\"),gsheet.worksheet(\"SMZ_34\"),gsheet.worksheet(\"SMZ_35\"),gsheet.worksheet(\"SMZ_36\"),gsheet.worksheet(\"SMZ_37\"),gsheet.worksheet(\"SMZ_38\"),gsheet.worksheet(\"SMZ_39\"),gsheet.worksheet(\"SMZ_40\"),gsheet.worksheet(\"SMZ_41\"),gsheet.worksheet(\"SMZ_42\")]\n",
    "\n",
    "probando=smz[1]\n",
    "df_z1=pd.DataFrame(probando)\n",
    "\n",
    "print(df_z1.head())\n"
   ]
  },
  {
   "cell_type": "markdown",
   "metadata": {},
   "source": [
    "Agregamos la función"
   ]
  },
  {
   "cell_type": "code",
   "execution_count": null,
   "metadata": {
    "vscode": {
     "languageId": "javascript"
    }
   },
   "outputs": [],
   "source": [
    "def masivo(df_hoja):\n",
    "for(z =0;z<42;z=z+1)\n",
    "    dataRange = SpreadsheetApp.getActiveSpreadsheet().getSheetByName(SMZ[z]).getRange(\"C4\");\n",
    "    data = dataRange.getValues();\n",
    "    data = SpreadsheetApp.getActiveSpreadsheet().getSheetByName(SMZ[z]).getRange(data).getValues();\n",
    "    control = SpreadsheetApp.getActiveSpreadsheet().getSheetByName(SMZ[z]).getRange(\"B4\").getValue();\n",
    "    sub_ = SpreadsheetApp.getActiveSpreadsheet().getSheetByName(SMZ[z]).getRange(\"B3\").getValue();\n",
    "    to_ = SpreadsheetApp.getActiveSpreadsheet().getSheetByName(SMZ[z]).getRange(\"B1\").getValue();\n",
    "    cells = [];\n",
    "    table = \"<html><body><br><table border=1><tr><th>ID_AGENTE</th><th>NOMBRE</th><th>F_INSTALACION</th><th>PROVINCIA</th><th>DISTRITO</th></br>\";\n",
    "\n",
    "    for (var i = 0; i < data.length; i++){\n",
    "        cells = data[i]; //puts each cell in an array position\n",
    "        table = table + \"<tr></tr>\";\n",
    "        for (var u = 0; u < cells.length; u++){\n",
    "            table = table + \"<td>\"+ cells[u] +\"</td>\"\n",
    "\n",
    "\n",
    "if(control>0 and to_!=\"VACANTE\"):"
   ]
  },
  {
   "cell_type": "code",
   "execution_count": 57,
   "metadata": {},
   "outputs": [],
   "source": [
    "\n",
    "tabla=\"\"\"<html><table class=\"dataframe\" style=\"height: 54px;\" border=\"1\">\n",
    "<thead>\n",
    "<tr style=\"text-align: right; height: 18px; background-color: #002060;\">\n",
    "<th style=\"height: 18px; width: 9.9625px; text-align: center;\">&nbsp;</th>\n",
    "<th style=\"height: 18px; width: 62.5px; text-align: center;\"><strong><span style=\"color: #ffffff;\">UBIGEO</span></strong></th>\n",
    "<th style=\"height: 18px; width: 129.812px; text-align: center;\"><strong><span style=\"color: #ffffff;\">DEPARTAMENTO</span></strong></th>\n",
    "<th style=\"height: 18px; width: 106.2px; text-align: center;\"><strong><span style=\"color: #ffffff;\">PROVINCIA</span></strong></th>\n",
    "<th style=\"height: 18px; width: 106.2px; text-align: center;\"><strong><span style=\"color: #ffffff;\">DISTRITO</span></strong></th>\n",
    "<th style=\"height: 18px; width: 48.3px; text-align: center;\"><strong><span style=\"color: #ffffff;\">REG</span></strong></th>\n",
    "<th style=\"height: 18px; width: 80.9625px; text-align: center;\"><strong><span style=\"color: #ffffff;\">ZONA</span></strong></th>\n",
    "<th style=\"height: 18px; width: 168.712px; text-align: center;\"><strong><span style=\"color: #ffffff;\">EMAIL_REG</span></strong></th>\n",
    "<th style=\"height: 18px; width: 158.225px; text-align: center;\"><strong><span style=\"color: #ffffff;\">E_MAIL_ZONAL</span></strong></th>\n",
    "</tr>\n",
    "</thead>\n",
    "<tbody>\n",
    "<tr style=\"height: 36px;\">\n",
    "<th style=\"height: 36px; width: 9.9625px; text-align: center;\">0</th>\n",
    "<td style=\"height: 36px; width: 62.5px; text-align: center;\">10101</td>\n",
    "<td style=\"height: 36px; width: 129.812px; text-align: center;\">AMAZONAS</td>\n",
    "<td style=\"height: 36px; width: 106.2px; text-align: center;\">CHACHAPOYAS</td>\n",
    "<td style=\"height: 36px; width: 106.2px; text-align: center;\">CHACHAPOYAS</td>\n",
    "<td style=\"height: 36px; width: 48.3px; text-align: center;\">NORTE</td>\n",
    "<td style=\"height: 36px; width: 80.9625px; text-align: center;\">JA&Eacute;N - AMAZONAS</td>\n",
    "<td style=\"height: 36px; width: 168.712px; text-align: center;\">rpiscoya@globokas.com</td>\n",
    "<td style=\"height: 36px; width: 158.225px; text-align: center;\">gperez@globokas.com</td>\n",
    "<td style=\"height: 36px; width: 158.225px; text-align: center;\">gperez@globokas.com</td>\n",
    "</tr>\n",
    "</tbody>\n",
    "</table></html>\"\"\""
   ]
  },
  {
   "cell_type": "code",
   "execution_count": 77,
   "metadata": {},
   "outputs": [
    {
     "data": {
      "text/plain": [
       "(221,\n",
       " b'2.0.0 closing connection 43-20020a9d0bae000000b0063711d42df5sm8003179oth.30 - gsmtp')"
      ]
     },
     "execution_count": 77,
     "metadata": {},
     "output_type": "execute_result"
    }
   ],
   "source": [
    "import smtplib \n",
    "from email.message import EmailMessage \n",
    "\n",
    "email_subject = \"ALERTA: 293 AGENTES CON CAIDAS MAYOR AL 20 EN JUNIN SUR AL 7 DE OCTUBRE\" \n",
    "sender_email_address = \"ianclaro19@gmail.com\"\n",
    "receiver_email_address = \"irumiche@globokas.com\" \n",
    "email_smtp = \"smtp.gmail.com\" \n",
    "email_password = base64.b64decode(\"am96Y3dtdHphbnl1dnBmcw==\").decode(\"utf-8\")\n",
    "\n",
    "\n",
    "message = EmailMessage() \n",
    "message['Subject'] = email_subject \n",
    "message['From'] = sender_email_address \n",
    "message['To'] = receiver_email_address \n",
    "\n",
    "message.set_content(tabla, subtype='html')\n",
    "\n",
    "server = smtplib.SMTP(email_smtp, '587')  \n",
    "server.ehlo() \n",
    "server.starttls() \n",
    "server.login(sender_email_address, email_password) \n",
    "server.send_message(message) \n",
    "server.quit()"
   ]
  }
 ],
 "metadata": {
  "kernelspec": {
   "display_name": "Python 3.10.5 64-bit",
   "language": "python",
   "name": "python3"
  },
  "language_info": {
   "codemirror_mode": {
    "name": "ipython",
    "version": 3
   },
   "file_extension": ".py",
   "mimetype": "text/x-python",
   "name": "python",
   "nbconvert_exporter": "python",
   "pygments_lexer": "ipython3",
   "version": "3.10.5"
  },
  "orig_nbformat": 4,
  "vscode": {
   "interpreter": {
    "hash": "2f501586d3d6585364b3c782eb6f8798ead6c56dd0ce00d45a4fd8b1c0d4f0e6"
   }
  }
 },
 "nbformat": 4,
 "nbformat_minor": 2
}
