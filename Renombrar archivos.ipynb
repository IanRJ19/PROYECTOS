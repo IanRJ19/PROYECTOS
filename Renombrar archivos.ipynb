{
 "cells": [
  {
   "cell_type": "code",
   "execution_count": 3,
   "metadata": {},
   "outputs": [],
   "source": [
    "import os\n",
    "\n",
    "# Define la ruta de la carpeta\n",
    "carpeta = r'RUTA'  # Reemplaza con el camino de tu carpeta\n",
    "\n",
    "# Lista todos los archivos en la carpeta\n",
    "archivos = [archivo for archivo in os.listdir(carpeta) if os.path.isfile(os.path.join(carpeta, archivo))]\n"
   ]
  },
  {
   "cell_type": "code",
   "execution_count": 4,
   "metadata": {},
   "outputs": [],
   "source": [
    "\n",
    "# Renombra los archivos\n",
    "for indice, archivo in enumerate(archivos, start=1):\n",
    "    extension = os.path.splitext(archivo)[1]\n",
    "    nuevo_nombre = os.path.join(carpeta, f\"{indice}{extension}\")\n",
    "    os.rename(os.path.join(carpeta, archivo), nuevo_nombre)\n",
    "\n",
    "# Lista los archivos después de renombrar\n",
    "nuevos_archivos = os.listdir(carpeta)\n"
   ]
  }
 ],
 "metadata": {
  "kernelspec": {
   "display_name": "Python 3",
   "language": "python",
   "name": "python3"
  },
  "language_info": {
   "codemirror_mode": {
    "name": "ipython",
    "version": 3
   },
   "file_extension": ".py",
   "mimetype": "text/x-python",
   "name": "python",
   "nbconvert_exporter": "python",
   "pygments_lexer": "ipython3",
   "version": "3.11.5"
  }
 },
 "nbformat": 4,
 "nbformat_minor": 2
}
